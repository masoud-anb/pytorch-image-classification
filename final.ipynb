{
  "cells": [
    {
      "cell_type": "code",
      "execution_count": 23,
      "metadata": {
        "colab": {
          "base_uri": "https://localhost:8080/"
        },
        "id": "QsR6bH-nfdzu",
        "outputId": "2cfe734b-a5e7-49c0-939a-c71bc228b1b6"
      },
      "outputs": [
        {
          "name": "stdout",
          "output_type": "stream",
          "text": [
            "Drive already mounted at /content/drive; to attempt to forcibly remount, call drive.mount(\"/content/drive\", force_remount=True).\n"
          ]
        }
      ],
      "source": [
        "from google.colab import drive\n",
        "drive.mount('/content/drive')"
      ]
    },
    {
      "cell_type": "code",
      "execution_count": 24,
      "metadata": {
        "colab": {
          "base_uri": "https://localhost:8080/"
        },
        "id": "g870O4m1hnXC",
        "outputId": "f06f4da0-ce9b-41c1-b2db-07b7c00c43b8"
      },
      "outputs": [
        {
          "name": "stdout",
          "output_type": "stream",
          "text": [
            "Unzipping case1...\n"
          ]
        }
      ],
      "source": [
        "import zipfile\n",
        "from pathlib import Path\n",
        "\n",
        "###  !rm -rf <folder_name>\n",
        "\n",
        "data_path = Path(\"data/\")\n",
        "image_path = data_path\n",
        "\n",
        "with zipfile.ZipFile(\"drive/MyDrive/emp/case1.zip\", \"r\") as zip_ref:\n",
        "  print(\"Unzipping case1...\")\n",
        "  zip_ref.extractall(image_path)\n"
      ]
    },
    {
      "cell_type": "code",
      "execution_count": 25,
      "metadata": {
        "collapsed": true,
        "id": "A4pbXwjsqQL6"
      },
      "outputs": [],
      "source": [
        "# # For this notebook to run with updated APIs, we need torch 1.12+ and torchvision 0.13+\n",
        "# try:\n",
        "#     import torch\n",
        "#     import torchvision\n",
        "#     assert int(torch.__version__.split(\".\")[1]) >= 12, \"torch version should be 1.12+\"\n",
        "#     assert int(torchvision.__version__.split(\".\")[1]) >= 13, \"torchvision version should be 0.13+\"\n",
        "#     print(f\"torch version: {torch.__version__}\")\n",
        "#     print(f\"torchvision version: {torchvision.__version__}\")\n",
        "# except:\n",
        "#     print(f\"[INFO] torch/torchvision versions not as required, installing nightly versions.\")\n",
        "#     !pip3 install -U torch torchvision torchaudio --extra-index-url https://download.pytorch.org/whl/cu113\n",
        "#     import torch\n",
        "#     import torchvision\n",
        "#     print(f\"torch version: {torch.__version__}\")\n",
        "#     print(f\"torchvision version: {torchvision.__version__}\")"
      ]
    },
    {
      "cell_type": "code",
      "execution_count": 26,
      "metadata": {
        "id": "v9ah_W9pqZoR"
      },
      "outputs": [],
      "source": [
        "# Continue with regular imports\n",
        "import matplotlib.pyplot as plt\n",
        "import torch\n",
        "import torchvision\n",
        "\n",
        "from torch import nn\n",
        "from torchvision import transforms\n",
        "\n",
        "# Try to get torchinfo, install it if it doesn't work\n",
        "try:\n",
        "    from torchinfo import summary\n",
        "except:\n",
        "    print(\"[INFO] Couldn't find torchinfo... installing it.\")\n",
        "    !pip install -q torchinfo\n",
        "    from torchinfo import summary\n",
        "\n",
        "# Try to import the going_modular directory, download it from GitHub if it doesn't work\n",
        "try:\n",
        "    from going_modular.going_modular import data_setup, engine\n",
        "    from helper_functions import download_data, set_seeds, plot_loss_curves\n",
        "except:\n",
        "    # Get the going_modular scripts\n",
        "    print(\"[INFO] Couldn't find going_modular or helper_functions scripts... downloading them from GitHub.\")\n",
        "    !git clone https://github.com/mrdbourke/pytorch-deep-learning\n",
        "    !mv pytorch-deep-learning/going_modular .\n",
        "    !mv pytorch-deep-learning/helper_functions.py . # get the helper_functions.py script\n",
        "    !rm -rf pytorch-deep-learning\n",
        "    from going_modular.going_modular import data_setup, engine\n",
        "    from helper_functions import download_data, set_seeds, plot_loss_curves"
      ]
    },
    {
      "cell_type": "code",
      "execution_count": 27,
      "metadata": {
        "colab": {
          "base_uri": "https://localhost:8080/",
          "height": 36
        },
        "id": "nW9pye5sqZwo",
        "outputId": "0938992b-0aa5-46e1-f3f7-3dd2c1ce61e1"
      },
      "outputs": [
        {
          "data": {
            "application/vnd.google.colaboratory.intrinsic+json": {
              "type": "string"
            },
            "text/plain": [
              "'cuda'"
            ]
          },
          "execution_count": 27,
          "metadata": {},
          "output_type": "execute_result"
        }
      ],
      "source": [
        "# Setup device agnostic code\n",
        "device = \"cuda\" if torch.cuda.is_available() else \"cpu\"\n",
        "device"
      ]
    },
    {
      "cell_type": "code",
      "execution_count": 28,
      "metadata": {
        "id": "qeHxv2bGqZ0R"
      },
      "outputs": [],
      "source": [
        "# Setup Dirs\n",
        "# train_dir = image_path / \"emp/case/train\"\n",
        "# test_dir = image_path / \"emp/case/test\"\n",
        "\n",
        "# train_dir , test_dir"
      ]
    },
    {
      "cell_type": "code",
      "execution_count": 29,
      "metadata": {
        "id": "13MS6Wa2Jt2U"
      },
      "outputs": [],
      "source": [
        "# Setup dirs\n",
        "train_dir = image_path / \"case1/train\"\n",
        "test_dir = image_path / \"case1/test\"\n",
        "\n",
        "# # Setup pretrained weights (plenty of these available in torchvision.models)\n",
        "# weights = torchvision.models.EfficientNet_B0_Weights.DEFAULT\n",
        "\n",
        "# # Get transforms from weights (these are the transforms that were used to obtain the weights)\n",
        "# automatic_transforms = weights.transforms()\n",
        "# print(f\"Automatically created transforms: {automatic_transforms}\")\n",
        "\n",
        "# # Create data loaders\n",
        "# train_dataloader, test_dataloader, class_names = data_setup.create_dataloaders(\n",
        "#     train_dir=train_dir,\n",
        "#     test_dir=test_dir,\n",
        "#     transform=automatic_transforms, # use automatic created transforms\n",
        "#     batch_size=32\n",
        "# )\n",
        "\n",
        "# train_dataloader, test_dataloader, class_names"
      ]
    },
    {
      "cell_type": "code",
      "execution_count": 30,
      "metadata": {
        "id": "zTEZ6_nnTXB0"
      },
      "outputs": [],
      "source": [
        "# try:\n",
        "#     from torch.utils.tensorboard import SummaryWriter\n",
        "# except:\n",
        "#     print(\"[INFO] Couldn't find tensorboard... installing it.\")\n",
        "#     !pip install -q tensorboard\n",
        "#     from torch.utils.tensorboard import SummaryWriter\n",
        "\n",
        "\n",
        "# # Create a writer with all default settings\n",
        "# writer = SummaryWriter()"
      ]
    },
    {
      "cell_type": "code",
      "execution_count": 31,
      "metadata": {
        "id": "_tPX8eA0Y3Fw"
      },
      "outputs": [],
      "source": [
        "# def create_writer(experiment_name: str,\n",
        "#                   model_name: str,\n",
        "#                   extra: str=None) -> torch.utils.tensorboard.writer.SummaryWriter():\n",
        "#     \"\"\"Creates a torch.utils.tensorboard.writer.SummaryWriter() instance saving to a specific log_dir.\n",
        "\n",
        "#     log_dir is a combination of runs/timestamp/experiment_name/model_name/extra.\n",
        "\n",
        "#     Where timestamp is the current date in YYYY-MM-DD format.\n",
        "\n",
        "#     Args:\n",
        "#         experiment_name (str): Name of experiment.\n",
        "#         model_name (str): Name of model.\n",
        "#         extra (str, optional): Anything extra to add to the directory. Defaults to None.\n",
        "\n",
        "#     Returns:\n",
        "#         torch.utils.tensorboard.writer.SummaryWriter(): Instance of a writer saving to log_dir.\n",
        "\n",
        "#     Example usage:\n",
        "#         # Create a writer saving to \"runs/2022-06-04/data_10_percent/effnetb2/5_epochs/\"\n",
        "#         writer = create_writer(experiment_name=\"data_10_percent\",\n",
        "#                                model_name=\"effnetb2\",\n",
        "#                                extra=\"5_epochs\")\n",
        "#         # The above is the same as:\n",
        "#         writer = SummaryWriter(log_dir=\"runs/2022-06-04/data_10_percent/effnetb2/5_epochs/\")\n",
        "#     \"\"\"\n",
        "#     from datetime import datetime\n",
        "#     import os\n",
        "\n",
        "#     # Get timestamp of current date (all experiments on certain day live in same folder)\n",
        "#     timestamp = datetime.now().strftime(\"%Y-%m-%d\") # returns current date in YYYY-MM-DD format\n",
        "\n",
        "#     if extra:\n",
        "#         # Create log directory path\n",
        "#         log_dir = os.path.join(\"runs\", timestamp, str(experiment_name), model_name, extra)\n",
        "#     else:\n",
        "#         log_dir = os.path.join(\"runs\", timestamp, str(experiment_name), model_name)\n",
        "\n",
        "#     print(f\"[INFO] Created SummaryWriter, saving to: {log_dir}...\")\n",
        "#     return SummaryWriter(log_dir=log_dir)"
      ]
    },
    {
      "cell_type": "code",
      "execution_count": 32,
      "metadata": {
        "id": "k2AF8-4XTgEI"
      },
      "outputs": [],
      "source": [
        "from typing import Dict, List\n",
        "from tqdm.auto import tqdm\n",
        "\n",
        "from going_modular.going_modular.engine import train_step, test_step\n",
        "\n",
        "# Import train() function from:\n",
        "# https://github.com/mrdbourke/pytorch-deep-learning/blob/main/going_modular/going_modular/engine.py\n",
        "from typing import Dict, List\n",
        "from tqdm.auto import tqdm\n",
        "import wandb\n",
        "\n",
        "\n",
        "# Add writer parameter to train()\n",
        "def train(model: torch.nn.Module,\n",
        "          train_dataloader: torch.utils.data.DataLoader,\n",
        "          test_dataloader: torch.utils.data.DataLoader,\n",
        "          optimizer: torch.optim.Optimizer,\n",
        "          loss_fn: torch.nn.Module,\n",
        "          epochs: int,\n",
        "          device: torch.device,\n",
        "          # writer: torch.utils.tensorboard.writer.SummaryWriter # new parameter to take in a writer\n",
        "          ) -> Dict[str, List]:\n",
        "    \"\"\"Trains and tests a PyTorch model.\n",
        "\n",
        "    Passes a target PyTorch models through train_step() and test_step()\n",
        "    functions for a number of epochs, training and testing the model\n",
        "    in the same epoch loop.\n",
        "\n",
        "    Calculates, prints and stores evaluation metrics throughout.\n",
        "\n",
        "    Stores metrics to specified writer log_dir if present.\n",
        "\n",
        "    Args:\n",
        "      model: A PyTorch model to be trained and tested.\n",
        "      train_dataloader: A DataLoader instance for the model to be trained on.\n",
        "      test_dataloader: A DataLoader instance for the model to be tested on.\n",
        "      optimizer: A PyTorch optimizer to help minimize the loss function.\n",
        "      loss_fn: A PyTorch loss function to calculate loss on both datasets.\n",
        "      epochs: An integer indicating how many epochs to train for.\n",
        "      device: A target device to compute on (e.g. \"cuda\" or \"cpu\").\n",
        "      writer: A SummaryWriter() instance to log model results to.\n",
        "\n",
        "    Returns:\n",
        "      A dictionary of training and testing loss as well as training and\n",
        "      testing accuracy metrics. Each metric has a value in a list for\n",
        "      each epoch.\n",
        "      In the form: {train_loss: [...],\n",
        "                train_acc: [...],\n",
        "                test_loss: [...],\n",
        "                test_acc: [...]}\n",
        "      For example if training for epochs=2:\n",
        "              {train_loss: [2.0616, 1.0537],\n",
        "                train_acc: [0.3945, 0.3945],\n",
        "                test_loss: [1.2641, 1.5706],\n",
        "                test_acc: [0.3400, 0.2973]}\n",
        "    \"\"\"\n",
        "    # Create empty results dictionary\n",
        "    results = {\"train_loss\": [],\n",
        "               \"train_acc\": [],\n",
        "               \"test_loss\": [],\n",
        "               \"test_acc\": []\n",
        "    }\n",
        "\n",
        "    # Loop through training and testing steps for a number of epochs\n",
        "    for epoch in tqdm(range(epochs)):\n",
        "        train_loss, train_acc = train_step(model=model,\n",
        "                                          dataloader=train_dataloader,\n",
        "                                          loss_fn=loss_fn,\n",
        "                                          optimizer=optimizer,\n",
        "                                          device=device)\n",
        "        test_loss, test_acc = test_step(model=model,\n",
        "                                        dataloader=test_dataloader,\n",
        "                                        loss_fn=loss_fn,\n",
        "                                        device=device)\n",
        "\n",
        "        # Print out what's happening\n",
        "        print(\n",
        "          f\"Epoch: {epoch+1} | \"\n",
        "          f\"train_loss: {train_loss:.4f} | \"\n",
        "          f\"train_acc: {train_acc:.4f} | \"\n",
        "          f\"test_loss: {test_loss:.4f} | \"\n",
        "          f\"test_acc: {test_acc:.4f}\"\n",
        "        )\n",
        "\n",
        "        # Update results dictionary\n",
        "        results[\"train_loss\"].append(train_loss)\n",
        "        results[\"train_acc\"].append(train_acc)\n",
        "        results[\"test_loss\"].append(test_loss)\n",
        "        results[\"test_acc\"].append(test_acc)\n",
        "\n",
        "\n",
        "        ### New: Use the writer parameter to track experiments ###\n",
        "        # See if there's a writer, if so, log to it\n",
        "        # if writer:\n",
        "        #     # Add results to SummaryWriter\n",
        "        #     writer.add_scalars(main_tag=\"Loss\",\n",
        "        #                        tag_scalar_dict={\"train_loss\": train_loss,\n",
        "        #                                         \"test_loss\": test_loss},\n",
        "        #                        global_step=epoch)\n",
        "        #     writer.add_scalars(main_tag=\"Accuracy\",\n",
        "        #                        tag_scalar_dict={\"train_acc\": train_acc,\n",
        "        #                                         \"test_acc\": test_acc},\n",
        "        #                        global_step=epoch)\n",
        "\n",
        "        #     # Close the writer\n",
        "        #     writer.close()\n",
        "        # else:\n",
        "        #     pass\n",
        "        ### End new ###\n",
        "\n",
        "        # Log metrics to wandb\n",
        "        wandb.log({\n",
        "            \"train_loss\": train_loss,\n",
        "            \"train_acc\": train_acc,\n",
        "            \"test_loss\": test_loss,\n",
        "            \"test_acc\": test_acc,\n",
        "            \"epoch\": epoch + 1\n",
        "        })\n",
        "\n",
        "\n",
        "    # Return the filled results at the end of the epochs\n",
        "    return results"
      ]
    },
    {
      "cell_type": "code",
      "execution_count": 33,
      "metadata": {
        "colab": {
          "base_uri": "https://localhost:8080/"
        },
        "id": "S7LfeTbXmI7b",
        "outputId": "dd0cd6bd-cc8a-4d09-fabb-99e9631c3d69"
      },
      "outputs": [
        {
          "name": "stdout",
          "output_type": "stream",
          "text": [
            "Automatically created transforms: ImageClassification(\n",
            "    crop_size=[480]\n",
            "    resize_size=[480]\n",
            "    mean=[0.485, 0.456, 0.406]\n",
            "    std=[0.229, 0.224, 0.225]\n",
            "    interpolation=InterpolationMode.BILINEAR\n",
            ")\n",
            "Automatically created transforms: ImageClassification(\n",
            "    crop_size=[299]\n",
            "    resize_size=[342]\n",
            "    mean=[0.485, 0.456, 0.406]\n",
            "    std=[0.229, 0.224, 0.225]\n",
            "    interpolation=InterpolationMode.BILINEAR\n",
            ")\n",
            "Automatically created transforms: ImageClassification(\n",
            "    crop_size=[224]\n",
            "    resize_size=[232]\n",
            "    mean=[0.485, 0.456, 0.406]\n",
            "    std=[0.229, 0.224, 0.225]\n",
            "    interpolation=InterpolationMode.BILINEAR\n",
            ")\n",
            "Automatically created transforms: ImageClassification(\n",
            "    crop_size=[224]\n",
            "    resize_size=[232]\n",
            "    mean=[0.485, 0.456, 0.406]\n",
            "    std=[0.229, 0.224, 0.225]\n",
            "    interpolation=InterpolationMode.BILINEAR\n",
            ")\n",
            "Automatically created transforms: ImageClassification(\n",
            "    crop_size=[224]\n",
            "    resize_size=[256]\n",
            "    mean=[0.485, 0.456, 0.406]\n",
            "    std=[0.229, 0.224, 0.225]\n",
            "    interpolation=InterpolationMode.BILINEAR\n",
            ")\n"
          ]
        }
      ],
      "source": [
        "# Setup pretrained weights (plenty of these available in torchvision.models)\n",
        "effnetv2_weights = torchvision.models.EfficientNet_V2_M_Weights.DEFAULT\n",
        "inception_weights = torchvision.models.Inception_V3_Weights.DEFAULT\n",
        "mobilenetv3_weights = torchvision.models.MobileNet_V3_Large_Weights.DEFAULT\n",
        "resnet50_weights = torchvision.models.ResNet50_Weights.DEFAULT\n",
        "vgg16bn_weights =  torchvision.models.VGG16_BN_Weights.DEFAULT\n",
        "\n",
        "\n",
        "\n",
        "# Get transforms from weights (these are the transforms that were used to obtain the weights)\n",
        "effnet_transforms = effnetv2_weights.transforms()\n",
        "print(f\"Automatically created transforms: {effnet_transforms}\")\n",
        "inception_transforms = inception_weights.transforms()\n",
        "print(f\"Automatically created transforms: {inception_transforms}\")\n",
        "mobilenet_transforms = mobilenetv3_weights.transforms()\n",
        "print(f\"Automatically created transforms: {mobilenet_transforms}\")\n",
        "resnet50_transforms = resnet50_weights.transforms()\n",
        "print(f\"Automatically created transforms: {resnet50_transforms}\")\n",
        "vgg16bn_transforms = vgg16bn_weights.transforms()\n",
        "print(f\"Automatically created transforms: {vgg16bn_transforms}\")\n"
      ]
    },
    {
      "cell_type": "code",
      "execution_count": 34,
      "metadata": {
        "id": "Noukg7shmJQi"
      },
      "outputs": [],
      "source": [
        "BATCH_SIZE = 32\n",
        "\n",
        "# Create efficientnet_v2_m training and test DataLoaders\n",
        "train_dataloader_effnet, test_dataloader_effnet, class_names = data_setup.create_dataloaders(train_dir=train_dir,\n",
        "                                                                                             test_dir=test_dir,\n",
        "                                                                                              transform=effnet_transforms,\n",
        "                                                                                                batch_size=BATCH_SIZE\n",
        "                                                                                                                      )\n",
        "\n",
        "# Create inception_v3 training and test data DataLoders\n",
        "train_dataloader_inception, test_dataloader_inception, class_names = data_setup.create_dataloaders(train_dir=train_dir,\n",
        "    test_dir=test_dir,\n",
        "    transform=inception_transforms,\n",
        "    batch_size=BATCH_SIZE\n",
        ")\n",
        "# Create mobilenet_v3_large training and test DataLoaders\n",
        "train_dataloader_mobilenet, test_dataloader_mobilenet, class_names = data_setup.create_dataloaders(train_dir=train_dir,\n",
        "    test_dir=test_dir,\n",
        "    transform=mobilenet_transforms,\n",
        "    batch_size=BATCH_SIZE\n",
        ")\n",
        "# Create resnet50 training and test DataLoaders\n",
        "train_dataloader_resnet50, test_dataloader_resnet50, class_names = data_setup.create_dataloaders(train_dir=train_dir,\n",
        "    test_dir=test_dir,\n",
        "    transform=resnet50_transforms,\n",
        "    batch_size=BATCH_SIZE\n",
        ")\n",
        "# Create vgg16_bn training and test DataLoaders\n",
        "train_dataloader_vgg16, test_dataloader_vgg16, class_names = data_setup.create_dataloaders(train_dir=train_dir,\n",
        "    test_dir=test_dir,\n",
        "    transform=vgg16bn_transforms,\n",
        "    batch_size=BATCH_SIZE\n",
        ")\n",
        "\n",
        "# Could increase if we had more samples, such as here: https://arxiv.org/abs/2205.01580 (there are other improvements there too...)"
      ]
    },
    {
      "cell_type": "code",
      "execution_count": 35,
      "metadata": {
        "id": "vCRMl7108Kk3"
      },
      "outputs": [],
      "source": [
        "import torchvision\n",
        "from torch import nn\n",
        "\n",
        "# Get num out features (one for each class pizza, steak, sushi)\n",
        "OUT_FEATURES = len(class_names)\n",
        "\n",
        "# effnetv2_weights = torchvision.models.EfficientNet_V2_M_Weights.DEFAULT\n",
        "# inception_weights = torchvision.models.Inception_V3_Weights.DEFAULT\n",
        "# mobilenetv3_weights = torchvision.models.MobileNet_V3_Large_Weights.DEFAULT\n",
        "# resnet50_weights = torchvision.models.ResNet50_Weights.DEFAULT\n",
        "# vgg16bn_weights =  torchvision.models.VGG16_BN_Weights.DEFAULT\n",
        "\n",
        "#1. Create an EffNetB0 feature extractor\n",
        "def create_effnetv2():\n",
        "    # 1. Get the base model with pretrained weights and send to target device\n",
        "    effnetv2_weights = torchvision.models.EfficientNet_V2_M_Weights.DEFAULT\n",
        "    model = torchvision.models.efficientnet_v2_m(weights=effnetv2_weights).to(device)\n",
        "\n",
        "    # 2. Freeze the base model layers\n",
        "    for param in model.features.parameters():\n",
        "        param.requires_grad = False\n",
        "\n",
        "\n",
        "    # 4. Change the classifier head\n",
        "    model.classifier = nn.Sequential(\n",
        "        nn.Dropout(p=0.3),\n",
        "        nn.Linear(in_features=1280, out_features=OUT_FEATURES)\n",
        "    ).to(device)\n",
        "\n",
        "    # 5. Give the model a name\n",
        "    model.name = \"effnetv2\"\n",
        "    print(f\"[INFO] Created new {model.name} model.\")\n",
        "    return model\n",
        "\n",
        "#2. Create an inception feature extractor\n",
        "def create_inception():\n",
        "    # 1. Get the base model with pretrained weights and send to target device\n",
        "    inception_weights = torchvision.models.Inception_V3_Weights.DEFAULT\n",
        "    model = torchvision.models.inception_v3(weights=inception_weights).to(device)\n",
        "\n",
        "    #model.aux_logits = False\n",
        "    # 2. Freeze the base model layers\n",
        "    for param in model.parameters():\n",
        "        param.requires_grad = False\n",
        "\n",
        "\n",
        "    # 4. Change the classifier head\n",
        "    # Handle the auxilary net\n",
        "    # model.AuxLogits.fc = nn.Linear(768, num_classes)\n",
        "    model.aux_logits = False\n",
        "    # Handle the primary net\n",
        "    # model.fc = nn.Linear(in_features=2048, out_features=OUT_FEATURES, bias=True).to(device)\n",
        "    model.fc = nn.Sequential(nn.Linear(model.fc.in_features, 10),\n",
        "                             nn.Linear(10, 2)).to(device)\n",
        "\n",
        "    # 5. Give the model a name\n",
        "    model.name = \"inception\"\n",
        "    print(f\"[INFO] Created new {model.name} model.\")\n",
        "    # 6. Modify the forward method to return only the logits\n",
        "    return model\n",
        "\n",
        "#3. Create an mobilenetv3 feature extractor\n",
        "def create_mobilenetv3():\n",
        "    # 1. Get the base model with pretrained weights and send to target device\n",
        "    mobilenetv3_weights = torchvision.models.MobileNet_V3_Large_Weights.DEFAULT\n",
        "    model = torchvision.models.mobilenet_v3_large(weights=mobilenetv3_weights).to(device)\n",
        "\n",
        "    # 2. Freeze the base model layers\n",
        "    for param in model.parameters():\n",
        "        param.requires_grad = False\n",
        "\n",
        "\n",
        "    # 4. Change the classifier head\n",
        "    model.classifier[3] = nn.Linear(in_features=1280, out_features=OUT_FEATURES).to(device)\n",
        "\n",
        "    # 5. Give the model a name\n",
        "    model.name = \"mobilenetv3\"\n",
        "    print(f\"[INFO] Created new {model.name} model.\")\n",
        "    return model\n",
        "\n",
        "#4. Create an resnet50 feature extractor\n",
        "def create_resnet50():\n",
        "    # 1. Get the base model with pretrained weights and send to target device\n",
        "    resnet50_weights = torchvision.models.ResNet50_Weights.DEFAULT\n",
        "    model = torchvision.models.resnet50(weights=resnet50_weights).to(device)\n",
        "\n",
        "    # 2. Freeze the base model layers\n",
        "    for param in model.parameters():\n",
        "        param.requires_grad = False\n",
        "\n",
        "\n",
        "    # 4. Change the classifier head\n",
        "    model.fc = nn.Linear(in_features=2048, out_features=OUT_FEATURES, bias=True).to(device)\n",
        "\n",
        "    # 5. Give the model a name\n",
        "    model.name = \"resnet50\"\n",
        "    print(f\"[INFO] Created new {model.name} model.\")\n",
        "    return model\n",
        "\n",
        "#5. Create an vgg16bn feature extractor\n",
        "def create_vgg16bn():\n",
        "    # 1. Get the base model with pretrained weights and send to target device\n",
        "    vgg16bn_weights =  torchvision.models.VGG16_BN_Weights.DEFAULT\n",
        "    model = torchvision.models.vgg16_bn(weights=vgg16bn_weights).to(device)\n",
        "\n",
        "    # 2. Freeze the base model layers\n",
        "    for param in model.parameters():\n",
        "        param.requires_grad = False\n",
        "\n",
        "\n",
        "    # 4. Change the classifier head\n",
        "    model.classifier[6] = nn.Linear(in_features=4096, out_features=OUT_FEATURES, bias=True).to(device)\n",
        "\n",
        "    # 5. Give the model a name\n",
        "    model.name = \"vgg16bn\"\n",
        "    print(f\"[INFO] Created new {model.name} model.\")\n",
        "    return model\n",
        "\n",
        "\n",
        "\n"
      ]
    },
    {
      "cell_type": "code",
      "execution_count": 36,
      "metadata": {
        "colab": {
          "base_uri": "https://localhost:8080/"
        },
        "id": "F6uVOxnv8N_Q",
        "outputId": "d0b1b2f7-80b6-441b-8a47-7d6713c2592f"
      },
      "outputs": [
        {
          "name": "stdout",
          "output_type": "stream",
          "text": [
            "[INFO] Created new effnetv2 model.\n"
          ]
        },
        {
          "data": {
            "text/plain": [
              "============================================================================================================================================\n",
              "Layer (type (var_name))                                      Input Shape          Output Shape         Param #              Trainable\n",
              "============================================================================================================================================\n",
              "EfficientNet (EfficientNet)                                  [32, 3, 224, 224]    [32, 2]              --                   Partial\n",
              "├─Sequential (features)                                      [32, 3, 224, 224]    [32, 1280, 7, 7]     --                   False\n",
              "│    └─Conv2dNormActivation (0)                              [32, 3, 224, 224]    [32, 24, 112, 112]   --                   False\n",
              "│    │    └─Conv2d (0)                                       [32, 3, 224, 224]    [32, 24, 112, 112]   (648)                False\n",
              "│    │    └─BatchNorm2d (1)                                  [32, 24, 112, 112]   [32, 24, 112, 112]   (48)                 False\n",
              "│    │    └─SiLU (2)                                         [32, 24, 112, 112]   [32, 24, 112, 112]   --                   --\n",
              "│    └─Sequential (1)                                        [32, 24, 112, 112]   [32, 24, 112, 112]   --                   False\n",
              "│    │    └─FusedMBConv (0)                                  [32, 24, 112, 112]   [32, 24, 112, 112]   (5,232)              False\n",
              "│    │    └─FusedMBConv (1)                                  [32, 24, 112, 112]   [32, 24, 112, 112]   (5,232)              False\n",
              "│    │    └─FusedMBConv (2)                                  [32, 24, 112, 112]   [32, 24, 112, 112]   (5,232)              False\n",
              "│    └─Sequential (2)                                        [32, 24, 112, 112]   [32, 48, 56, 56]     --                   False\n",
              "│    │    └─FusedMBConv (0)                                  [32, 24, 112, 112]   [32, 48, 56, 56]     (25,632)             False\n",
              "│    │    └─FusedMBConv (1)                                  [32, 48, 56, 56]     [32, 48, 56, 56]     (92,640)             False\n",
              "│    │    └─FusedMBConv (2)                                  [32, 48, 56, 56]     [32, 48, 56, 56]     (92,640)             False\n",
              "│    │    └─FusedMBConv (3)                                  [32, 48, 56, 56]     [32, 48, 56, 56]     (92,640)             False\n",
              "│    │    └─FusedMBConv (4)                                  [32, 48, 56, 56]     [32, 48, 56, 56]     (92,640)             False\n",
              "│    └─Sequential (3)                                        [32, 48, 56, 56]     [32, 80, 28, 28]     --                   False\n",
              "│    │    └─FusedMBConv (0)                                  [32, 48, 56, 56]     [32, 80, 28, 28]     (98,848)             False\n",
              "│    │    └─FusedMBConv (1)                                  [32, 80, 28, 28]     [32, 80, 28, 28]     (256,800)            False\n",
              "│    │    └─FusedMBConv (2)                                  [32, 80, 28, 28]     [32, 80, 28, 28]     (256,800)            False\n",
              "│    │    └─FusedMBConv (3)                                  [32, 80, 28, 28]     [32, 80, 28, 28]     (256,800)            False\n",
              "│    │    └─FusedMBConv (4)                                  [32, 80, 28, 28]     [32, 80, 28, 28]     (256,800)            False\n",
              "│    └─Sequential (4)                                        [32, 80, 28, 28]     [32, 160, 14, 14]    --                   False\n",
              "│    │    └─MBConv (0)                                       [32, 80, 28, 28]     [32, 160, 14, 14]    (94,420)             False\n",
              "│    │    └─MBConv (1)                                       [32, 160, 14, 14]    [32, 160, 14, 14]    (265,320)            False\n",
              "│    │    └─MBConv (2)                                       [32, 160, 14, 14]    [32, 160, 14, 14]    (265,320)            False\n",
              "│    │    └─MBConv (3)                                       [32, 160, 14, 14]    [32, 160, 14, 14]    (265,320)            False\n",
              "│    │    └─MBConv (4)                                       [32, 160, 14, 14]    [32, 160, 14, 14]    (265,320)            False\n",
              "│    │    └─MBConv (5)                                       [32, 160, 14, 14]    [32, 160, 14, 14]    (265,320)            False\n",
              "│    │    └─MBConv (6)                                       [32, 160, 14, 14]    [32, 160, 14, 14]    (265,320)            False\n",
              "│    └─Sequential (5)                                        [32, 160, 14, 14]    [32, 176, 14, 14]    --                   False\n",
              "│    │    └─MBConv (0)                                       [32, 160, 14, 14]    [32, 176, 14, 14]    (413,192)            False\n",
              "│    │    └─MBConv (1)                                       [32, 176, 14, 14]    [32, 176, 14, 14]    (479,820)            False\n",
              "│    │    └─MBConv (2)                                       [32, 176, 14, 14]    [32, 176, 14, 14]    (479,820)            False\n",
              "│    │    └─MBConv (3)                                       [32, 176, 14, 14]    [32, 176, 14, 14]    (479,820)            False\n",
              "│    │    └─MBConv (4)                                       [32, 176, 14, 14]    [32, 176, 14, 14]    (479,820)            False\n",
              "│    │    └─MBConv (5)                                       [32, 176, 14, 14]    [32, 176, 14, 14]    (479,820)            False\n",
              "│    │    └─MBConv (6)                                       [32, 176, 14, 14]    [32, 176, 14, 14]    (479,820)            False\n",
              "│    │    └─MBConv (7)                                       [32, 176, 14, 14]    [32, 176, 14, 14]    (479,820)            False\n",
              "│    │    └─MBConv (8)                                       [32, 176, 14, 14]    [32, 176, 14, 14]    (479,820)            False\n",
              "│    │    └─MBConv (9)                                       [32, 176, 14, 14]    [32, 176, 14, 14]    (479,820)            False\n",
              "│    │    └─MBConv (10)                                      [32, 176, 14, 14]    [32, 176, 14, 14]    (479,820)            False\n",
              "│    │    └─MBConv (11)                                      [32, 176, 14, 14]    [32, 176, 14, 14]    (479,820)            False\n",
              "│    │    └─MBConv (12)                                      [32, 176, 14, 14]    [32, 176, 14, 14]    (479,820)            False\n",
              "│    │    └─MBConv (13)                                      [32, 176, 14, 14]    [32, 176, 14, 14]    (479,820)            False\n",
              "│    └─Sequential (6)                                        [32, 176, 14, 14]    [32, 304, 7, 7]      --                   False\n",
              "│    │    └─MBConv (0)                                       [32, 176, 14, 14]    [32, 304, 7, 7]      (615,244)            False\n",
              "│    │    └─MBConv (1)                                       [32, 304, 7, 7]      [32, 304, 7, 7]      (1,412,460)          False\n",
              "│    │    └─MBConv (2)                                       [32, 304, 7, 7]      [32, 304, 7, 7]      (1,412,460)          False\n",
              "│    │    └─MBConv (3)                                       [32, 304, 7, 7]      [32, 304, 7, 7]      (1,412,460)          False\n",
              "│    │    └─MBConv (4)                                       [32, 304, 7, 7]      [32, 304, 7, 7]      (1,412,460)          False\n",
              "│    │    └─MBConv (5)                                       [32, 304, 7, 7]      [32, 304, 7, 7]      (1,412,460)          False\n",
              "│    │    └─MBConv (6)                                       [32, 304, 7, 7]      [32, 304, 7, 7]      (1,412,460)          False\n",
              "│    │    └─MBConv (7)                                       [32, 304, 7, 7]      [32, 304, 7, 7]      (1,412,460)          False\n",
              "│    │    └─MBConv (8)                                       [32, 304, 7, 7]      [32, 304, 7, 7]      (1,412,460)          False\n",
              "│    │    └─MBConv (9)                                       [32, 304, 7, 7]      [32, 304, 7, 7]      (1,412,460)          False\n",
              "│    │    └─MBConv (10)                                      [32, 304, 7, 7]      [32, 304, 7, 7]      (1,412,460)          False\n",
              "│    │    └─MBConv (11)                                      [32, 304, 7, 7]      [32, 304, 7, 7]      (1,412,460)          False\n",
              "│    │    └─MBConv (12)                                      [32, 304, 7, 7]      [32, 304, 7, 7]      (1,412,460)          False\n",
              "│    │    └─MBConv (13)                                      [32, 304, 7, 7]      [32, 304, 7, 7]      (1,412,460)          False\n",
              "│    │    └─MBConv (14)                                      [32, 304, 7, 7]      [32, 304, 7, 7]      (1,412,460)          False\n",
              "│    │    └─MBConv (15)                                      [32, 304, 7, 7]      [32, 304, 7, 7]      (1,412,460)          False\n",
              "│    │    └─MBConv (16)                                      [32, 304, 7, 7]      [32, 304, 7, 7]      (1,412,460)          False\n",
              "│    │    └─MBConv (17)                                      [32, 304, 7, 7]      [32, 304, 7, 7]      (1,412,460)          False\n",
              "│    └─Sequential (7)                                        [32, 304, 7, 7]      [32, 512, 7, 7]      --                   False\n",
              "│    │    └─MBConv (0)                                       [32, 304, 7, 7]      [32, 512, 7, 7]      (1,792,268)          False\n",
              "│    │    └─MBConv (1)                                       [32, 512, 7, 7]      [32, 512, 7, 7]      (3,976,320)          False\n",
              "│    │    └─MBConv (2)                                       [32, 512, 7, 7]      [32, 512, 7, 7]      (3,976,320)          False\n",
              "│    │    └─MBConv (3)                                       [32, 512, 7, 7]      [32, 512, 7, 7]      (3,976,320)          False\n",
              "│    │    └─MBConv (4)                                       [32, 512, 7, 7]      [32, 512, 7, 7]      (3,976,320)          False\n",
              "│    └─Conv2dNormActivation (8)                              [32, 512, 7, 7]      [32, 1280, 7, 7]     --                   False\n",
              "│    │    └─Conv2d (0)                                       [32, 512, 7, 7]      [32, 1280, 7, 7]     (655,360)            False\n",
              "│    │    └─BatchNorm2d (1)                                  [32, 1280, 7, 7]     [32, 1280, 7, 7]     (2,560)              False\n",
              "│    │    └─SiLU (2)                                         [32, 1280, 7, 7]     [32, 1280, 7, 7]     --                   --\n",
              "├─AdaptiveAvgPool2d (avgpool)                                [32, 1280, 7, 7]     [32, 1280, 1, 1]     --                   --\n",
              "├─Sequential (classifier)                                    [32, 1280]           [32, 2]              --                   True\n",
              "│    └─Dropout (0)                                           [32, 1280]           [32, 1280]           --                   --\n",
              "│    └─Linear (1)                                            [32, 1280]           [32, 2]              2,562                True\n",
              "============================================================================================================================================\n",
              "Total params: 52,860,918\n",
              "Trainable params: 2,562\n",
              "Non-trainable params: 52,858,356\n",
              "Total mult-adds (Units.GIGABYTES): 171.56\n",
              "============================================================================================================================================\n",
              "Input size (MB): 19.27\n",
              "Forward/backward pass size (MB): 10026.87\n",
              "Params size (MB): 211.44\n",
              "Estimated Total Size (MB): 10257.58\n",
              "============================================================================================================================================"
            ]
          },
          "execution_count": 36,
          "metadata": {},
          "output_type": "execute_result"
        }
      ],
      "source": [
        "effnetv2 = create_effnetv2()\n",
        "\n",
        "# Get an output summary of the layers in our EffNetB0 feature extractor model (uncomment to view full output)\n",
        "summary(model=effnetv2,\n",
        "        input_size=(32, 3, 224, 224), # make sure this is \"input_size\", not \"input_shape\"\n",
        "        # col_names=[\"input_size\"], # uncomment for smaller output\n",
        "        col_names=[\"input_size\", \"output_size\", \"num_params\", \"trainable\"],\n",
        "        col_width=20,\n",
        "        row_settings=[\"var_names\"]\n",
        ")"
      ]
    },
    {
      "cell_type": "code",
      "execution_count": 37,
      "metadata": {
        "colab": {
          "base_uri": "https://localhost:8080/"
        },
        "id": "JyuUZiWWO_Ge",
        "outputId": "5fb9a5fe-4c43-4195-8459-49ec4915265c"
      },
      "outputs": [
        {
          "name": "stdout",
          "output_type": "stream",
          "text": [
            "[INFO] Created new inception model.\n"
          ]
        },
        {
          "data": {
            "text/plain": [
              "========================================================================================================================\n",
              "Layer (type (var_name))                  Input Shape          Output Shape         Param #              Trainable\n",
              "========================================================================================================================\n",
              "Inception3 (Inception3)                  [32, 3, 224, 224]    [32, 2]              3,326,696            Partial\n",
              "├─BasicConv2d (Conv2d_1a_3x3)            [32, 3, 224, 224]    [32, 32, 111, 111]   --                   False\n",
              "│    └─Conv2d (conv)                     [32, 3, 224, 224]    [32, 32, 111, 111]   (864)                False\n",
              "│    └─BatchNorm2d (bn)                  [32, 32, 111, 111]   [32, 32, 111, 111]   (64)                 False\n",
              "├─BasicConv2d (Conv2d_2a_3x3)            [32, 32, 111, 111]   [32, 32, 109, 109]   --                   False\n",
              "│    └─Conv2d (conv)                     [32, 32, 111, 111]   [32, 32, 109, 109]   (9,216)              False\n",
              "│    └─BatchNorm2d (bn)                  [32, 32, 109, 109]   [32, 32, 109, 109]   (64)                 False\n",
              "├─BasicConv2d (Conv2d_2b_3x3)            [32, 32, 109, 109]   [32, 64, 109, 109]   --                   False\n",
              "│    └─Conv2d (conv)                     [32, 32, 109, 109]   [32, 64, 109, 109]   (18,432)             False\n",
              "│    └─BatchNorm2d (bn)                  [32, 64, 109, 109]   [32, 64, 109, 109]   (128)                False\n",
              "├─MaxPool2d (maxpool1)                   [32, 64, 109, 109]   [32, 64, 54, 54]     --                   --\n",
              "├─BasicConv2d (Conv2d_3b_1x1)            [32, 64, 54, 54]     [32, 80, 54, 54]     --                   False\n",
              "│    └─Conv2d (conv)                     [32, 64, 54, 54]     [32, 80, 54, 54]     (5,120)              False\n",
              "│    └─BatchNorm2d (bn)                  [32, 80, 54, 54]     [32, 80, 54, 54]     (160)                False\n",
              "├─BasicConv2d (Conv2d_4a_3x3)            [32, 80, 54, 54]     [32, 192, 52, 52]    --                   False\n",
              "│    └─Conv2d (conv)                     [32, 80, 54, 54]     [32, 192, 52, 52]    (138,240)            False\n",
              "│    └─BatchNorm2d (bn)                  [32, 192, 52, 52]    [32, 192, 52, 52]    (384)                False\n",
              "├─MaxPool2d (maxpool2)                   [32, 192, 52, 52]    [32, 192, 25, 25]    --                   --\n",
              "├─InceptionA (Mixed_5b)                  [32, 192, 25, 25]    [32, 256, 25, 25]    --                   False\n",
              "│    └─BasicConv2d (branch1x1)           [32, 192, 25, 25]    [32, 64, 25, 25]     --                   False\n",
              "│    │    └─Conv2d (conv)                [32, 192, 25, 25]    [32, 64, 25, 25]     (12,288)             False\n",
              "│    │    └─BatchNorm2d (bn)             [32, 64, 25, 25]     [32, 64, 25, 25]     (128)                False\n",
              "│    └─BasicConv2d (branch5x5_1)         [32, 192, 25, 25]    [32, 48, 25, 25]     --                   False\n",
              "│    │    └─Conv2d (conv)                [32, 192, 25, 25]    [32, 48, 25, 25]     (9,216)              False\n",
              "│    │    └─BatchNorm2d (bn)             [32, 48, 25, 25]     [32, 48, 25, 25]     (96)                 False\n",
              "│    └─BasicConv2d (branch5x5_2)         [32, 48, 25, 25]     [32, 64, 25, 25]     --                   False\n",
              "│    │    └─Conv2d (conv)                [32, 48, 25, 25]     [32, 64, 25, 25]     (76,800)             False\n",
              "│    │    └─BatchNorm2d (bn)             [32, 64, 25, 25]     [32, 64, 25, 25]     (128)                False\n",
              "│    └─BasicConv2d (branch3x3dbl_1)      [32, 192, 25, 25]    [32, 64, 25, 25]     --                   False\n",
              "│    │    └─Conv2d (conv)                [32, 192, 25, 25]    [32, 64, 25, 25]     (12,288)             False\n",
              "│    │    └─BatchNorm2d (bn)             [32, 64, 25, 25]     [32, 64, 25, 25]     (128)                False\n",
              "│    └─BasicConv2d (branch3x3dbl_2)      [32, 64, 25, 25]     [32, 96, 25, 25]     --                   False\n",
              "│    │    └─Conv2d (conv)                [32, 64, 25, 25]     [32, 96, 25, 25]     (55,296)             False\n",
              "│    │    └─BatchNorm2d (bn)             [32, 96, 25, 25]     [32, 96, 25, 25]     (192)                False\n",
              "│    └─BasicConv2d (branch3x3dbl_3)      [32, 96, 25, 25]     [32, 96, 25, 25]     --                   False\n",
              "│    │    └─Conv2d (conv)                [32, 96, 25, 25]     [32, 96, 25, 25]     (82,944)             False\n",
              "│    │    └─BatchNorm2d (bn)             [32, 96, 25, 25]     [32, 96, 25, 25]     (192)                False\n",
              "│    └─BasicConv2d (branch_pool)         [32, 192, 25, 25]    [32, 32, 25, 25]     --                   False\n",
              "│    │    └─Conv2d (conv)                [32, 192, 25, 25]    [32, 32, 25, 25]     (6,144)              False\n",
              "│    │    └─BatchNorm2d (bn)             [32, 32, 25, 25]     [32, 32, 25, 25]     (64)                 False\n",
              "├─InceptionA (Mixed_5c)                  [32, 256, 25, 25]    [32, 288, 25, 25]    --                   False\n",
              "│    └─BasicConv2d (branch1x1)           [32, 256, 25, 25]    [32, 64, 25, 25]     --                   False\n",
              "│    │    └─Conv2d (conv)                [32, 256, 25, 25]    [32, 64, 25, 25]     (16,384)             False\n",
              "│    │    └─BatchNorm2d (bn)             [32, 64, 25, 25]     [32, 64, 25, 25]     (128)                False\n",
              "│    └─BasicConv2d (branch5x5_1)         [32, 256, 25, 25]    [32, 48, 25, 25]     --                   False\n",
              "│    │    └─Conv2d (conv)                [32, 256, 25, 25]    [32, 48, 25, 25]     (12,288)             False\n",
              "│    │    └─BatchNorm2d (bn)             [32, 48, 25, 25]     [32, 48, 25, 25]     (96)                 False\n",
              "│    └─BasicConv2d (branch5x5_2)         [32, 48, 25, 25]     [32, 64, 25, 25]     --                   False\n",
              "│    │    └─Conv2d (conv)                [32, 48, 25, 25]     [32, 64, 25, 25]     (76,800)             False\n",
              "│    │    └─BatchNorm2d (bn)             [32, 64, 25, 25]     [32, 64, 25, 25]     (128)                False\n",
              "│    └─BasicConv2d (branch3x3dbl_1)      [32, 256, 25, 25]    [32, 64, 25, 25]     --                   False\n",
              "│    │    └─Conv2d (conv)                [32, 256, 25, 25]    [32, 64, 25, 25]     (16,384)             False\n",
              "│    │    └─BatchNorm2d (bn)             [32, 64, 25, 25]     [32, 64, 25, 25]     (128)                False\n",
              "│    └─BasicConv2d (branch3x3dbl_2)      [32, 64, 25, 25]     [32, 96, 25, 25]     --                   False\n",
              "│    │    └─Conv2d (conv)                [32, 64, 25, 25]     [32, 96, 25, 25]     (55,296)             False\n",
              "│    │    └─BatchNorm2d (bn)             [32, 96, 25, 25]     [32, 96, 25, 25]     (192)                False\n",
              "│    └─BasicConv2d (branch3x3dbl_3)      [32, 96, 25, 25]     [32, 96, 25, 25]     --                   False\n",
              "│    │    └─Conv2d (conv)                [32, 96, 25, 25]     [32, 96, 25, 25]     (82,944)             False\n",
              "│    │    └─BatchNorm2d (bn)             [32, 96, 25, 25]     [32, 96, 25, 25]     (192)                False\n",
              "│    └─BasicConv2d (branch_pool)         [32, 256, 25, 25]    [32, 64, 25, 25]     --                   False\n",
              "│    │    └─Conv2d (conv)                [32, 256, 25, 25]    [32, 64, 25, 25]     (16,384)             False\n",
              "│    │    └─BatchNorm2d (bn)             [32, 64, 25, 25]     [32, 64, 25, 25]     (128)                False\n",
              "├─InceptionA (Mixed_5d)                  [32, 288, 25, 25]    [32, 288, 25, 25]    --                   False\n",
              "│    └─BasicConv2d (branch1x1)           [32, 288, 25, 25]    [32, 64, 25, 25]     --                   False\n",
              "│    │    └─Conv2d (conv)                [32, 288, 25, 25]    [32, 64, 25, 25]     (18,432)             False\n",
              "│    │    └─BatchNorm2d (bn)             [32, 64, 25, 25]     [32, 64, 25, 25]     (128)                False\n",
              "│    └─BasicConv2d (branch5x5_1)         [32, 288, 25, 25]    [32, 48, 25, 25]     --                   False\n",
              "│    │    └─Conv2d (conv)                [32, 288, 25, 25]    [32, 48, 25, 25]     (13,824)             False\n",
              "│    │    └─BatchNorm2d (bn)             [32, 48, 25, 25]     [32, 48, 25, 25]     (96)                 False\n",
              "│    └─BasicConv2d (branch5x5_2)         [32, 48, 25, 25]     [32, 64, 25, 25]     --                   False\n",
              "│    │    └─Conv2d (conv)                [32, 48, 25, 25]     [32, 64, 25, 25]     (76,800)             False\n",
              "│    │    └─BatchNorm2d (bn)             [32, 64, 25, 25]     [32, 64, 25, 25]     (128)                False\n",
              "│    └─BasicConv2d (branch3x3dbl_1)      [32, 288, 25, 25]    [32, 64, 25, 25]     --                   False\n",
              "│    │    └─Conv2d (conv)                [32, 288, 25, 25]    [32, 64, 25, 25]     (18,432)             False\n",
              "│    │    └─BatchNorm2d (bn)             [32, 64, 25, 25]     [32, 64, 25, 25]     (128)                False\n",
              "│    └─BasicConv2d (branch3x3dbl_2)      [32, 64, 25, 25]     [32, 96, 25, 25]     --                   False\n",
              "│    │    └─Conv2d (conv)                [32, 64, 25, 25]     [32, 96, 25, 25]     (55,296)             False\n",
              "│    │    └─BatchNorm2d (bn)             [32, 96, 25, 25]     [32, 96, 25, 25]     (192)                False\n",
              "│    └─BasicConv2d (branch3x3dbl_3)      [32, 96, 25, 25]     [32, 96, 25, 25]     --                   False\n",
              "│    │    └─Conv2d (conv)                [32, 96, 25, 25]     [32, 96, 25, 25]     (82,944)             False\n",
              "│    │    └─BatchNorm2d (bn)             [32, 96, 25, 25]     [32, 96, 25, 25]     (192)                False\n",
              "│    └─BasicConv2d (branch_pool)         [32, 288, 25, 25]    [32, 64, 25, 25]     --                   False\n",
              "│    │    └─Conv2d (conv)                [32, 288, 25, 25]    [32, 64, 25, 25]     (18,432)             False\n",
              "│    │    └─BatchNorm2d (bn)             [32, 64, 25, 25]     [32, 64, 25, 25]     (128)                False\n",
              "├─InceptionB (Mixed_6a)                  [32, 288, 25, 25]    [32, 768, 12, 12]    --                   False\n",
              "│    └─BasicConv2d (branch3x3)           [32, 288, 25, 25]    [32, 384, 12, 12]    --                   False\n",
              "│    │    └─Conv2d (conv)                [32, 288, 25, 25]    [32, 384, 12, 12]    (995,328)            False\n",
              "│    │    └─BatchNorm2d (bn)             [32, 384, 12, 12]    [32, 384, 12, 12]    (768)                False\n",
              "│    └─BasicConv2d (branch3x3dbl_1)      [32, 288, 25, 25]    [32, 64, 25, 25]     --                   False\n",
              "│    │    └─Conv2d (conv)                [32, 288, 25, 25]    [32, 64, 25, 25]     (18,432)             False\n",
              "│    │    └─BatchNorm2d (bn)             [32, 64, 25, 25]     [32, 64, 25, 25]     (128)                False\n",
              "│    └─BasicConv2d (branch3x3dbl_2)      [32, 64, 25, 25]     [32, 96, 25, 25]     --                   False\n",
              "│    │    └─Conv2d (conv)                [32, 64, 25, 25]     [32, 96, 25, 25]     (55,296)             False\n",
              "│    │    └─BatchNorm2d (bn)             [32, 96, 25, 25]     [32, 96, 25, 25]     (192)                False\n",
              "│    └─BasicConv2d (branch3x3dbl_3)      [32, 96, 25, 25]     [32, 96, 12, 12]     --                   False\n",
              "│    │    └─Conv2d (conv)                [32, 96, 25, 25]     [32, 96, 12, 12]     (82,944)             False\n",
              "│    │    └─BatchNorm2d (bn)             [32, 96, 12, 12]     [32, 96, 12, 12]     (192)                False\n",
              "├─InceptionC (Mixed_6b)                  [32, 768, 12, 12]    [32, 768, 12, 12]    --                   False\n",
              "│    └─BasicConv2d (branch1x1)           [32, 768, 12, 12]    [32, 192, 12, 12]    --                   False\n",
              "│    │    └─Conv2d (conv)                [32, 768, 12, 12]    [32, 192, 12, 12]    (147,456)            False\n",
              "│    │    └─BatchNorm2d (bn)             [32, 192, 12, 12]    [32, 192, 12, 12]    (384)                False\n",
              "│    └─BasicConv2d (branch7x7_1)         [32, 768, 12, 12]    [32, 128, 12, 12]    --                   False\n",
              "│    │    └─Conv2d (conv)                [32, 768, 12, 12]    [32, 128, 12, 12]    (98,304)             False\n",
              "│    │    └─BatchNorm2d (bn)             [32, 128, 12, 12]    [32, 128, 12, 12]    (256)                False\n",
              "│    └─BasicConv2d (branch7x7_2)         [32, 128, 12, 12]    [32, 128, 12, 12]    --                   False\n",
              "│    │    └─Conv2d (conv)                [32, 128, 12, 12]    [32, 128, 12, 12]    (114,688)            False\n",
              "│    │    └─BatchNorm2d (bn)             [32, 128, 12, 12]    [32, 128, 12, 12]    (256)                False\n",
              "│    └─BasicConv2d (branch7x7_3)         [32, 128, 12, 12]    [32, 192, 12, 12]    --                   False\n",
              "│    │    └─Conv2d (conv)                [32, 128, 12, 12]    [32, 192, 12, 12]    (172,032)            False\n",
              "│    │    └─BatchNorm2d (bn)             [32, 192, 12, 12]    [32, 192, 12, 12]    (384)                False\n",
              "│    └─BasicConv2d (branch7x7dbl_1)      [32, 768, 12, 12]    [32, 128, 12, 12]    --                   False\n",
              "│    │    └─Conv2d (conv)                [32, 768, 12, 12]    [32, 128, 12, 12]    (98,304)             False\n",
              "│    │    └─BatchNorm2d (bn)             [32, 128, 12, 12]    [32, 128, 12, 12]    (256)                False\n",
              "│    └─BasicConv2d (branch7x7dbl_2)      [32, 128, 12, 12]    [32, 128, 12, 12]    --                   False\n",
              "│    │    └─Conv2d (conv)                [32, 128, 12, 12]    [32, 128, 12, 12]    (114,688)            False\n",
              "│    │    └─BatchNorm2d (bn)             [32, 128, 12, 12]    [32, 128, 12, 12]    (256)                False\n",
              "│    └─BasicConv2d (branch7x7dbl_3)      [32, 128, 12, 12]    [32, 128, 12, 12]    --                   False\n",
              "│    │    └─Conv2d (conv)                [32, 128, 12, 12]    [32, 128, 12, 12]    (114,688)            False\n",
              "│    │    └─BatchNorm2d (bn)             [32, 128, 12, 12]    [32, 128, 12, 12]    (256)                False\n",
              "│    └─BasicConv2d (branch7x7dbl_4)      [32, 128, 12, 12]    [32, 128, 12, 12]    --                   False\n",
              "│    │    └─Conv2d (conv)                [32, 128, 12, 12]    [32, 128, 12, 12]    (114,688)            False\n",
              "│    │    └─BatchNorm2d (bn)             [32, 128, 12, 12]    [32, 128, 12, 12]    (256)                False\n",
              "│    └─BasicConv2d (branch7x7dbl_5)      [32, 128, 12, 12]    [32, 192, 12, 12]    --                   False\n",
              "│    │    └─Conv2d (conv)                [32, 128, 12, 12]    [32, 192, 12, 12]    (172,032)            False\n",
              "│    │    └─BatchNorm2d (bn)             [32, 192, 12, 12]    [32, 192, 12, 12]    (384)                False\n",
              "│    └─BasicConv2d (branch_pool)         [32, 768, 12, 12]    [32, 192, 12, 12]    --                   False\n",
              "│    │    └─Conv2d (conv)                [32, 768, 12, 12]    [32, 192, 12, 12]    (147,456)            False\n",
              "│    │    └─BatchNorm2d (bn)             [32, 192, 12, 12]    [32, 192, 12, 12]    (384)                False\n",
              "├─InceptionC (Mixed_6c)                  [32, 768, 12, 12]    [32, 768, 12, 12]    --                   False\n",
              "│    └─BasicConv2d (branch1x1)           [32, 768, 12, 12]    [32, 192, 12, 12]    --                   False\n",
              "│    │    └─Conv2d (conv)                [32, 768, 12, 12]    [32, 192, 12, 12]    (147,456)            False\n",
              "│    │    └─BatchNorm2d (bn)             [32, 192, 12, 12]    [32, 192, 12, 12]    (384)                False\n",
              "│    └─BasicConv2d (branch7x7_1)         [32, 768, 12, 12]    [32, 160, 12, 12]    --                   False\n",
              "│    │    └─Conv2d (conv)                [32, 768, 12, 12]    [32, 160, 12, 12]    (122,880)            False\n",
              "│    │    └─BatchNorm2d (bn)             [32, 160, 12, 12]    [32, 160, 12, 12]    (320)                False\n",
              "│    └─BasicConv2d (branch7x7_2)         [32, 160, 12, 12]    [32, 160, 12, 12]    --                   False\n",
              "│    │    └─Conv2d (conv)                [32, 160, 12, 12]    [32, 160, 12, 12]    (179,200)            False\n",
              "│    │    └─BatchNorm2d (bn)             [32, 160, 12, 12]    [32, 160, 12, 12]    (320)                False\n",
              "│    └─BasicConv2d (branch7x7_3)         [32, 160, 12, 12]    [32, 192, 12, 12]    --                   False\n",
              "│    │    └─Conv2d (conv)                [32, 160, 12, 12]    [32, 192, 12, 12]    (215,040)            False\n",
              "│    │    └─BatchNorm2d (bn)             [32, 192, 12, 12]    [32, 192, 12, 12]    (384)                False\n",
              "│    └─BasicConv2d (branch7x7dbl_1)      [32, 768, 12, 12]    [32, 160, 12, 12]    --                   False\n",
              "│    │    └─Conv2d (conv)                [32, 768, 12, 12]    [32, 160, 12, 12]    (122,880)            False\n",
              "│    │    └─BatchNorm2d (bn)             [32, 160, 12, 12]    [32, 160, 12, 12]    (320)                False\n",
              "│    └─BasicConv2d (branch7x7dbl_2)      [32, 160, 12, 12]    [32, 160, 12, 12]    --                   False\n",
              "│    │    └─Conv2d (conv)                [32, 160, 12, 12]    [32, 160, 12, 12]    (179,200)            False\n",
              "│    │    └─BatchNorm2d (bn)             [32, 160, 12, 12]    [32, 160, 12, 12]    (320)                False\n",
              "│    └─BasicConv2d (branch7x7dbl_3)      [32, 160, 12, 12]    [32, 160, 12, 12]    --                   False\n",
              "│    │    └─Conv2d (conv)                [32, 160, 12, 12]    [32, 160, 12, 12]    (179,200)            False\n",
              "│    │    └─BatchNorm2d (bn)             [32, 160, 12, 12]    [32, 160, 12, 12]    (320)                False\n",
              "│    └─BasicConv2d (branch7x7dbl_4)      [32, 160, 12, 12]    [32, 160, 12, 12]    --                   False\n",
              "│    │    └─Conv2d (conv)                [32, 160, 12, 12]    [32, 160, 12, 12]    (179,200)            False\n",
              "│    │    └─BatchNorm2d (bn)             [32, 160, 12, 12]    [32, 160, 12, 12]    (320)                False\n",
              "│    └─BasicConv2d (branch7x7dbl_5)      [32, 160, 12, 12]    [32, 192, 12, 12]    --                   False\n",
              "│    │    └─Conv2d (conv)                [32, 160, 12, 12]    [32, 192, 12, 12]    (215,040)            False\n",
              "│    │    └─BatchNorm2d (bn)             [32, 192, 12, 12]    [32, 192, 12, 12]    (384)                False\n",
              "│    └─BasicConv2d (branch_pool)         [32, 768, 12, 12]    [32, 192, 12, 12]    --                   False\n",
              "│    │    └─Conv2d (conv)                [32, 768, 12, 12]    [32, 192, 12, 12]    (147,456)            False\n",
              "│    │    └─BatchNorm2d (bn)             [32, 192, 12, 12]    [32, 192, 12, 12]    (384)                False\n",
              "├─InceptionC (Mixed_6d)                  [32, 768, 12, 12]    [32, 768, 12, 12]    --                   False\n",
              "│    └─BasicConv2d (branch1x1)           [32, 768, 12, 12]    [32, 192, 12, 12]    --                   False\n",
              "│    │    └─Conv2d (conv)                [32, 768, 12, 12]    [32, 192, 12, 12]    (147,456)            False\n",
              "│    │    └─BatchNorm2d (bn)             [32, 192, 12, 12]    [32, 192, 12, 12]    (384)                False\n",
              "│    └─BasicConv2d (branch7x7_1)         [32, 768, 12, 12]    [32, 160, 12, 12]    --                   False\n",
              "│    │    └─Conv2d (conv)                [32, 768, 12, 12]    [32, 160, 12, 12]    (122,880)            False\n",
              "│    │    └─BatchNorm2d (bn)             [32, 160, 12, 12]    [32, 160, 12, 12]    (320)                False\n",
              "│    └─BasicConv2d (branch7x7_2)         [32, 160, 12, 12]    [32, 160, 12, 12]    --                   False\n",
              "│    │    └─Conv2d (conv)                [32, 160, 12, 12]    [32, 160, 12, 12]    (179,200)            False\n",
              "│    │    └─BatchNorm2d (bn)             [32, 160, 12, 12]    [32, 160, 12, 12]    (320)                False\n",
              "│    └─BasicConv2d (branch7x7_3)         [32, 160, 12, 12]    [32, 192, 12, 12]    --                   False\n",
              "│    │    └─Conv2d (conv)                [32, 160, 12, 12]    [32, 192, 12, 12]    (215,040)            False\n",
              "│    │    └─BatchNorm2d (bn)             [32, 192, 12, 12]    [32, 192, 12, 12]    (384)                False\n",
              "│    └─BasicConv2d (branch7x7dbl_1)      [32, 768, 12, 12]    [32, 160, 12, 12]    --                   False\n",
              "│    │    └─Conv2d (conv)                [32, 768, 12, 12]    [32, 160, 12, 12]    (122,880)            False\n",
              "│    │    └─BatchNorm2d (bn)             [32, 160, 12, 12]    [32, 160, 12, 12]    (320)                False\n",
              "│    └─BasicConv2d (branch7x7dbl_2)      [32, 160, 12, 12]    [32, 160, 12, 12]    --                   False\n",
              "│    │    └─Conv2d (conv)                [32, 160, 12, 12]    [32, 160, 12, 12]    (179,200)            False\n",
              "│    │    └─BatchNorm2d (bn)             [32, 160, 12, 12]    [32, 160, 12, 12]    (320)                False\n",
              "│    └─BasicConv2d (branch7x7dbl_3)      [32, 160, 12, 12]    [32, 160, 12, 12]    --                   False\n",
              "│    │    └─Conv2d (conv)                [32, 160, 12, 12]    [32, 160, 12, 12]    (179,200)            False\n",
              "│    │    └─BatchNorm2d (bn)             [32, 160, 12, 12]    [32, 160, 12, 12]    (320)                False\n",
              "│    └─BasicConv2d (branch7x7dbl_4)      [32, 160, 12, 12]    [32, 160, 12, 12]    --                   False\n",
              "│    │    └─Conv2d (conv)                [32, 160, 12, 12]    [32, 160, 12, 12]    (179,200)            False\n",
              "│    │    └─BatchNorm2d (bn)             [32, 160, 12, 12]    [32, 160, 12, 12]    (320)                False\n",
              "│    └─BasicConv2d (branch7x7dbl_5)      [32, 160, 12, 12]    [32, 192, 12, 12]    --                   False\n",
              "│    │    └─Conv2d (conv)                [32, 160, 12, 12]    [32, 192, 12, 12]    (215,040)            False\n",
              "│    │    └─BatchNorm2d (bn)             [32, 192, 12, 12]    [32, 192, 12, 12]    (384)                False\n",
              "│    └─BasicConv2d (branch_pool)         [32, 768, 12, 12]    [32, 192, 12, 12]    --                   False\n",
              "│    │    └─Conv2d (conv)                [32, 768, 12, 12]    [32, 192, 12, 12]    (147,456)            False\n",
              "│    │    └─BatchNorm2d (bn)             [32, 192, 12, 12]    [32, 192, 12, 12]    (384)                False\n",
              "├─InceptionC (Mixed_6e)                  [32, 768, 12, 12]    [32, 768, 12, 12]    --                   False\n",
              "│    └─BasicConv2d (branch1x1)           [32, 768, 12, 12]    [32, 192, 12, 12]    --                   False\n",
              "│    │    └─Conv2d (conv)                [32, 768, 12, 12]    [32, 192, 12, 12]    (147,456)            False\n",
              "│    │    └─BatchNorm2d (bn)             [32, 192, 12, 12]    [32, 192, 12, 12]    (384)                False\n",
              "│    └─BasicConv2d (branch7x7_1)         [32, 768, 12, 12]    [32, 192, 12, 12]    --                   False\n",
              "│    │    └─Conv2d (conv)                [32, 768, 12, 12]    [32, 192, 12, 12]    (147,456)            False\n",
              "│    │    └─BatchNorm2d (bn)             [32, 192, 12, 12]    [32, 192, 12, 12]    (384)                False\n",
              "│    └─BasicConv2d (branch7x7_2)         [32, 192, 12, 12]    [32, 192, 12, 12]    --                   False\n",
              "│    │    └─Conv2d (conv)                [32, 192, 12, 12]    [32, 192, 12, 12]    (258,048)            False\n",
              "│    │    └─BatchNorm2d (bn)             [32, 192, 12, 12]    [32, 192, 12, 12]    (384)                False\n",
              "│    └─BasicConv2d (branch7x7_3)         [32, 192, 12, 12]    [32, 192, 12, 12]    --                   False\n",
              "│    │    └─Conv2d (conv)                [32, 192, 12, 12]    [32, 192, 12, 12]    (258,048)            False\n",
              "│    │    └─BatchNorm2d (bn)             [32, 192, 12, 12]    [32, 192, 12, 12]    (384)                False\n",
              "│    └─BasicConv2d (branch7x7dbl_1)      [32, 768, 12, 12]    [32, 192, 12, 12]    --                   False\n",
              "│    │    └─Conv2d (conv)                [32, 768, 12, 12]    [32, 192, 12, 12]    (147,456)            False\n",
              "│    │    └─BatchNorm2d (bn)             [32, 192, 12, 12]    [32, 192, 12, 12]    (384)                False\n",
              "│    └─BasicConv2d (branch7x7dbl_2)      [32, 192, 12, 12]    [32, 192, 12, 12]    --                   False\n",
              "│    │    └─Conv2d (conv)                [32, 192, 12, 12]    [32, 192, 12, 12]    (258,048)            False\n",
              "│    │    └─BatchNorm2d (bn)             [32, 192, 12, 12]    [32, 192, 12, 12]    (384)                False\n",
              "│    └─BasicConv2d (branch7x7dbl_3)      [32, 192, 12, 12]    [32, 192, 12, 12]    --                   False\n",
              "│    │    └─Conv2d (conv)                [32, 192, 12, 12]    [32, 192, 12, 12]    (258,048)            False\n",
              "│    │    └─BatchNorm2d (bn)             [32, 192, 12, 12]    [32, 192, 12, 12]    (384)                False\n",
              "│    └─BasicConv2d (branch7x7dbl_4)      [32, 192, 12, 12]    [32, 192, 12, 12]    --                   False\n",
              "│    │    └─Conv2d (conv)                [32, 192, 12, 12]    [32, 192, 12, 12]    (258,048)            False\n",
              "│    │    └─BatchNorm2d (bn)             [32, 192, 12, 12]    [32, 192, 12, 12]    (384)                False\n",
              "│    └─BasicConv2d (branch7x7dbl_5)      [32, 192, 12, 12]    [32, 192, 12, 12]    --                   False\n",
              "│    │    └─Conv2d (conv)                [32, 192, 12, 12]    [32, 192, 12, 12]    (258,048)            False\n",
              "│    │    └─BatchNorm2d (bn)             [32, 192, 12, 12]    [32, 192, 12, 12]    (384)                False\n",
              "│    └─BasicConv2d (branch_pool)         [32, 768, 12, 12]    [32, 192, 12, 12]    --                   False\n",
              "│    │    └─Conv2d (conv)                [32, 768, 12, 12]    [32, 192, 12, 12]    (147,456)            False\n",
              "│    │    └─BatchNorm2d (bn)             [32, 192, 12, 12]    [32, 192, 12, 12]    (384)                False\n",
              "├─InceptionD (Mixed_7a)                  [32, 768, 12, 12]    [32, 1280, 5, 5]     --                   False\n",
              "│    └─BasicConv2d (branch3x3_1)         [32, 768, 12, 12]    [32, 192, 12, 12]    --                   False\n",
              "│    │    └─Conv2d (conv)                [32, 768, 12, 12]    [32, 192, 12, 12]    (147,456)            False\n",
              "│    │    └─BatchNorm2d (bn)             [32, 192, 12, 12]    [32, 192, 12, 12]    (384)                False\n",
              "│    └─BasicConv2d (branch3x3_2)         [32, 192, 12, 12]    [32, 320, 5, 5]      --                   False\n",
              "│    │    └─Conv2d (conv)                [32, 192, 12, 12]    [32, 320, 5, 5]      (552,960)            False\n",
              "│    │    └─BatchNorm2d (bn)             [32, 320, 5, 5]      [32, 320, 5, 5]      (640)                False\n",
              "│    └─BasicConv2d (branch7x7x3_1)       [32, 768, 12, 12]    [32, 192, 12, 12]    --                   False\n",
              "│    │    └─Conv2d (conv)                [32, 768, 12, 12]    [32, 192, 12, 12]    (147,456)            False\n",
              "│    │    └─BatchNorm2d (bn)             [32, 192, 12, 12]    [32, 192, 12, 12]    (384)                False\n",
              "│    └─BasicConv2d (branch7x7x3_2)       [32, 192, 12, 12]    [32, 192, 12, 12]    --                   False\n",
              "│    │    └─Conv2d (conv)                [32, 192, 12, 12]    [32, 192, 12, 12]    (258,048)            False\n",
              "│    │    └─BatchNorm2d (bn)             [32, 192, 12, 12]    [32, 192, 12, 12]    (384)                False\n",
              "│    └─BasicConv2d (branch7x7x3_3)       [32, 192, 12, 12]    [32, 192, 12, 12]    --                   False\n",
              "│    │    └─Conv2d (conv)                [32, 192, 12, 12]    [32, 192, 12, 12]    (258,048)            False\n",
              "│    │    └─BatchNorm2d (bn)             [32, 192, 12, 12]    [32, 192, 12, 12]    (384)                False\n",
              "│    └─BasicConv2d (branch7x7x3_4)       [32, 192, 12, 12]    [32, 192, 5, 5]      --                   False\n",
              "│    │    └─Conv2d (conv)                [32, 192, 12, 12]    [32, 192, 5, 5]      (331,776)            False\n",
              "│    │    └─BatchNorm2d (bn)             [32, 192, 5, 5]      [32, 192, 5, 5]      (384)                False\n",
              "├─InceptionE (Mixed_7b)                  [32, 1280, 5, 5]     [32, 2048, 5, 5]     --                   False\n",
              "│    └─BasicConv2d (branch1x1)           [32, 1280, 5, 5]     [32, 320, 5, 5]      --                   False\n",
              "│    │    └─Conv2d (conv)                [32, 1280, 5, 5]     [32, 320, 5, 5]      (409,600)            False\n",
              "│    │    └─BatchNorm2d (bn)             [32, 320, 5, 5]      [32, 320, 5, 5]      (640)                False\n",
              "│    └─BasicConv2d (branch3x3_1)         [32, 1280, 5, 5]     [32, 384, 5, 5]      --                   False\n",
              "│    │    └─Conv2d (conv)                [32, 1280, 5, 5]     [32, 384, 5, 5]      (491,520)            False\n",
              "│    │    └─BatchNorm2d (bn)             [32, 384, 5, 5]      [32, 384, 5, 5]      (768)                False\n",
              "│    └─BasicConv2d (branch3x3_2a)        [32, 384, 5, 5]      [32, 384, 5, 5]      --                   False\n",
              "│    │    └─Conv2d (conv)                [32, 384, 5, 5]      [32, 384, 5, 5]      (442,368)            False\n",
              "│    │    └─BatchNorm2d (bn)             [32, 384, 5, 5]      [32, 384, 5, 5]      (768)                False\n",
              "│    └─BasicConv2d (branch3x3_2b)        [32, 384, 5, 5]      [32, 384, 5, 5]      --                   False\n",
              "│    │    └─Conv2d (conv)                [32, 384, 5, 5]      [32, 384, 5, 5]      (442,368)            False\n",
              "│    │    └─BatchNorm2d (bn)             [32, 384, 5, 5]      [32, 384, 5, 5]      (768)                False\n",
              "│    └─BasicConv2d (branch3x3dbl_1)      [32, 1280, 5, 5]     [32, 448, 5, 5]      --                   False\n",
              "│    │    └─Conv2d (conv)                [32, 1280, 5, 5]     [32, 448, 5, 5]      (573,440)            False\n",
              "│    │    └─BatchNorm2d (bn)             [32, 448, 5, 5]      [32, 448, 5, 5]      (896)                False\n",
              "│    └─BasicConv2d (branch3x3dbl_2)      [32, 448, 5, 5]      [32, 384, 5, 5]      --                   False\n",
              "│    │    └─Conv2d (conv)                [32, 448, 5, 5]      [32, 384, 5, 5]      (1,548,288)          False\n",
              "│    │    └─BatchNorm2d (bn)             [32, 384, 5, 5]      [32, 384, 5, 5]      (768)                False\n",
              "│    └─BasicConv2d (branch3x3dbl_3a)     [32, 384, 5, 5]      [32, 384, 5, 5]      --                   False\n",
              "│    │    └─Conv2d (conv)                [32, 384, 5, 5]      [32, 384, 5, 5]      (442,368)            False\n",
              "│    │    └─BatchNorm2d (bn)             [32, 384, 5, 5]      [32, 384, 5, 5]      (768)                False\n",
              "│    └─BasicConv2d (branch3x3dbl_3b)     [32, 384, 5, 5]      [32, 384, 5, 5]      --                   False\n",
              "│    │    └─Conv2d (conv)                [32, 384, 5, 5]      [32, 384, 5, 5]      (442,368)            False\n",
              "│    │    └─BatchNorm2d (bn)             [32, 384, 5, 5]      [32, 384, 5, 5]      (768)                False\n",
              "│    └─BasicConv2d (branch_pool)         [32, 1280, 5, 5]     [32, 192, 5, 5]      --                   False\n",
              "│    │    └─Conv2d (conv)                [32, 1280, 5, 5]     [32, 192, 5, 5]      (245,760)            False\n",
              "│    │    └─BatchNorm2d (bn)             [32, 192, 5, 5]      [32, 192, 5, 5]      (384)                False\n",
              "├─InceptionE (Mixed_7c)                  [32, 2048, 5, 5]     [32, 2048, 5, 5]     --                   False\n",
              "│    └─BasicConv2d (branch1x1)           [32, 2048, 5, 5]     [32, 320, 5, 5]      --                   False\n",
              "│    │    └─Conv2d (conv)                [32, 2048, 5, 5]     [32, 320, 5, 5]      (655,360)            False\n",
              "│    │    └─BatchNorm2d (bn)             [32, 320, 5, 5]      [32, 320, 5, 5]      (640)                False\n",
              "│    └─BasicConv2d (branch3x3_1)         [32, 2048, 5, 5]     [32, 384, 5, 5]      --                   False\n",
              "│    │    └─Conv2d (conv)                [32, 2048, 5, 5]     [32, 384, 5, 5]      (786,432)            False\n",
              "│    │    └─BatchNorm2d (bn)             [32, 384, 5, 5]      [32, 384, 5, 5]      (768)                False\n",
              "│    └─BasicConv2d (branch3x3_2a)        [32, 384, 5, 5]      [32, 384, 5, 5]      --                   False\n",
              "│    │    └─Conv2d (conv)                [32, 384, 5, 5]      [32, 384, 5, 5]      (442,368)            False\n",
              "│    │    └─BatchNorm2d (bn)             [32, 384, 5, 5]      [32, 384, 5, 5]      (768)                False\n",
              "│    └─BasicConv2d (branch3x3_2b)        [32, 384, 5, 5]      [32, 384, 5, 5]      --                   False\n",
              "│    │    └─Conv2d (conv)                [32, 384, 5, 5]      [32, 384, 5, 5]      (442,368)            False\n",
              "│    │    └─BatchNorm2d (bn)             [32, 384, 5, 5]      [32, 384, 5, 5]      (768)                False\n",
              "│    └─BasicConv2d (branch3x3dbl_1)      [32, 2048, 5, 5]     [32, 448, 5, 5]      --                   False\n",
              "│    │    └─Conv2d (conv)                [32, 2048, 5, 5]     [32, 448, 5, 5]      (917,504)            False\n",
              "│    │    └─BatchNorm2d (bn)             [32, 448, 5, 5]      [32, 448, 5, 5]      (896)                False\n",
              "│    └─BasicConv2d (branch3x3dbl_2)      [32, 448, 5, 5]      [32, 384, 5, 5]      --                   False\n",
              "│    │    └─Conv2d (conv)                [32, 448, 5, 5]      [32, 384, 5, 5]      (1,548,288)          False\n",
              "│    │    └─BatchNorm2d (bn)             [32, 384, 5, 5]      [32, 384, 5, 5]      (768)                False\n",
              "│    └─BasicConv2d (branch3x3dbl_3a)     [32, 384, 5, 5]      [32, 384, 5, 5]      --                   False\n",
              "│    │    └─Conv2d (conv)                [32, 384, 5, 5]      [32, 384, 5, 5]      (442,368)            False\n",
              "│    │    └─BatchNorm2d (bn)             [32, 384, 5, 5]      [32, 384, 5, 5]      (768)                False\n",
              "│    └─BasicConv2d (branch3x3dbl_3b)     [32, 384, 5, 5]      [32, 384, 5, 5]      --                   False\n",
              "│    │    └─Conv2d (conv)                [32, 384, 5, 5]      [32, 384, 5, 5]      (442,368)            False\n",
              "│    │    └─BatchNorm2d (bn)             [32, 384, 5, 5]      [32, 384, 5, 5]      (768)                False\n",
              "│    └─BasicConv2d (branch_pool)         [32, 2048, 5, 5]     [32, 192, 5, 5]      --                   False\n",
              "│    │    └─Conv2d (conv)                [32, 2048, 5, 5]     [32, 192, 5, 5]      (393,216)            False\n",
              "│    │    └─BatchNorm2d (bn)             [32, 192, 5, 5]      [32, 192, 5, 5]      (384)                False\n",
              "├─AdaptiveAvgPool2d (avgpool)            [32, 2048, 5, 5]     [32, 2048, 1, 1]     --                   --\n",
              "├─Dropout (dropout)                      [32, 2048, 1, 1]     [32, 2048, 1, 1]     --                   --\n",
              "├─Sequential (fc)                        [32, 2048]           [32, 2]              --                   True\n",
              "│    └─Linear (0)                        [32, 2048]           [32, 10]             20,490               True\n",
              "│    └─Linear (1)                        [32, 10]             [32, 2]              22                   True\n",
              "========================================================================================================================\n",
              "Total params: 25,132,776\n",
              "Trainable params: 20,512\n",
              "Non-trainable params: 25,112,264\n",
              "Total mult-adds (Units.GIGABYTES): 90.75\n",
              "========================================================================================================================\n",
              "Input size (MB): 19.27\n",
              "Forward/backward pass size (MB): 2379.95\n",
              "Params size (MB): 87.22\n",
              "Estimated Total Size (MB): 2486.44\n",
              "========================================================================================================================"
            ]
          },
          "execution_count": 37,
          "metadata": {},
          "output_type": "execute_result"
        }
      ],
      "source": [
        "inception = create_inception()\n",
        "\n",
        "# Get an output summary of the layers in our EffNetB2 feature extractor model (uncomment to view full output)\n",
        "summary(model=inception,\n",
        "        input_size=(32, 3, 224, 224), # make sure this is \"input_size\", not \"input_shape\"\n",
        "        # col_names=[\"input_size\"], # uncomment for smaller output\n",
        "        col_names=[\"input_size\", \"output_size\", \"num_params\", \"trainable\"],\n",
        "        col_width=20,\n",
        "        row_settings=[\"var_names\"]\n",
        ")"
      ]
    },
    {
      "cell_type": "code",
      "execution_count": 38,
      "metadata": {
        "colab": {
          "base_uri": "https://localhost:8080/"
        },
        "id": "2sxQaedwTdLM",
        "outputId": "018669f7-d1a0-4296-a6c0-3fccd19702cb"
      },
      "outputs": [
        {
          "name": "stdout",
          "output_type": "stream",
          "text": [
            "[INFO] Created new mobilenetv3 model.\n"
          ]
        },
        {
          "data": {
            "text/plain": [
              "============================================================================================================================================\n",
              "Layer (type (var_name))                                      Input Shape          Output Shape         Param #              Trainable\n",
              "============================================================================================================================================\n",
              "MobileNetV3 (MobileNetV3)                                    [32, 3, 224, 224]    [32, 2]              --                   Partial\n",
              "├─Sequential (features)                                      [32, 3, 224, 224]    [32, 960, 7, 7]      --                   False\n",
              "│    └─Conv2dNormActivation (0)                              [32, 3, 224, 224]    [32, 16, 112, 112]   --                   False\n",
              "│    │    └─Conv2d (0)                                       [32, 3, 224, 224]    [32, 16, 112, 112]   (432)                False\n",
              "│    │    └─BatchNorm2d (1)                                  [32, 16, 112, 112]   [32, 16, 112, 112]   (32)                 False\n",
              "│    │    └─Hardswish (2)                                    [32, 16, 112, 112]   [32, 16, 112, 112]   --                   --\n",
              "│    └─InvertedResidual (1)                                  [32, 16, 112, 112]   [32, 16, 112, 112]   --                   False\n",
              "│    │    └─Sequential (block)                               [32, 16, 112, 112]   [32, 16, 112, 112]   (464)                False\n",
              "│    └─InvertedResidual (2)                                  [32, 16, 112, 112]   [32, 24, 56, 56]     --                   False\n",
              "│    │    └─Sequential (block)                               [32, 16, 112, 112]   [32, 24, 56, 56]     (3,440)              False\n",
              "│    └─InvertedResidual (3)                                  [32, 24, 56, 56]     [32, 24, 56, 56]     --                   False\n",
              "│    │    └─Sequential (block)                               [32, 24, 56, 56]     [32, 24, 56, 56]     (4,440)              False\n",
              "│    └─InvertedResidual (4)                                  [32, 24, 56, 56]     [32, 40, 28, 28]     --                   False\n",
              "│    │    └─Sequential (block)                               [32, 24, 56, 56]     [32, 40, 28, 28]     (10,328)             False\n",
              "│    └─InvertedResidual (5)                                  [32, 40, 28, 28]     [32, 40, 28, 28]     --                   False\n",
              "│    │    └─Sequential (block)                               [32, 40, 28, 28]     [32, 40, 28, 28]     (20,992)             False\n",
              "│    └─InvertedResidual (6)                                  [32, 40, 28, 28]     [32, 40, 28, 28]     --                   False\n",
              "│    │    └─Sequential (block)                               [32, 40, 28, 28]     [32, 40, 28, 28]     (20,992)             False\n",
              "│    └─InvertedResidual (7)                                  [32, 40, 28, 28]     [32, 80, 14, 14]     --                   False\n",
              "│    │    └─Sequential (block)                               [32, 40, 28, 28]     [32, 80, 14, 14]     (32,080)             False\n",
              "│    └─InvertedResidual (8)                                  [32, 80, 14, 14]     [32, 80, 14, 14]     --                   False\n",
              "│    │    └─Sequential (block)                               [32, 80, 14, 14]     [32, 80, 14, 14]     (34,760)             False\n",
              "│    └─InvertedResidual (9)                                  [32, 80, 14, 14]     [32, 80, 14, 14]     --                   False\n",
              "│    │    └─Sequential (block)                               [32, 80, 14, 14]     [32, 80, 14, 14]     (31,992)             False\n",
              "│    └─InvertedResidual (10)                                 [32, 80, 14, 14]     [32, 80, 14, 14]     --                   False\n",
              "│    │    └─Sequential (block)                               [32, 80, 14, 14]     [32, 80, 14, 14]     (31,992)             False\n",
              "│    └─InvertedResidual (11)                                 [32, 80, 14, 14]     [32, 112, 14, 14]    --                   False\n",
              "│    │    └─Sequential (block)                               [32, 80, 14, 14]     [32, 112, 14, 14]    (214,424)            False\n",
              "│    └─InvertedResidual (12)                                 [32, 112, 14, 14]    [32, 112, 14, 14]    --                   False\n",
              "│    │    └─Sequential (block)                               [32, 112, 14, 14]    [32, 112, 14, 14]    (386,120)            False\n",
              "│    └─InvertedResidual (13)                                 [32, 112, 14, 14]    [32, 160, 7, 7]      --                   False\n",
              "│    │    └─Sequential (block)                               [32, 112, 14, 14]    [32, 160, 7, 7]      (429,224)            False\n",
              "│    └─InvertedResidual (14)                                 [32, 160, 7, 7]      [32, 160, 7, 7]      --                   False\n",
              "│    │    └─Sequential (block)                               [32, 160, 7, 7]      [32, 160, 7, 7]      (797,360)            False\n",
              "│    └─InvertedResidual (15)                                 [32, 160, 7, 7]      [32, 160, 7, 7]      --                   False\n",
              "│    │    └─Sequential (block)                               [32, 160, 7, 7]      [32, 160, 7, 7]      (797,360)            False\n",
              "│    └─Conv2dNormActivation (16)                             [32, 160, 7, 7]      [32, 960, 7, 7]      --                   False\n",
              "│    │    └─Conv2d (0)                                       [32, 160, 7, 7]      [32, 960, 7, 7]      (153,600)            False\n",
              "│    │    └─BatchNorm2d (1)                                  [32, 960, 7, 7]      [32, 960, 7, 7]      (1,920)              False\n",
              "│    │    └─Hardswish (2)                                    [32, 960, 7, 7]      [32, 960, 7, 7]      --                   --\n",
              "├─AdaptiveAvgPool2d (avgpool)                                [32, 960, 7, 7]      [32, 960, 1, 1]      --                   --\n",
              "├─Sequential (classifier)                                    [32, 960]            [32, 2]              --                   Partial\n",
              "│    └─Linear (0)                                            [32, 960]            [32, 1280]           (1,230,080)          False\n",
              "│    └─Hardswish (1)                                         [32, 1280]           [32, 1280]           --                   --\n",
              "│    └─Dropout (2)                                           [32, 1280]           [32, 1280]           --                   --\n",
              "│    └─Linear (3)                                            [32, 1280]           [32, 2]              2,562                True\n",
              "============================================================================================================================================\n",
              "Total params: 4,204,594\n",
              "Trainable params: 2,562\n",
              "Non-trainable params: 4,202,032\n",
              "Total mult-adds (Units.GIGABYTES): 6.89\n",
              "============================================================================================================================================\n",
              "Input size (MB): 19.27\n",
              "Forward/backward pass size (MB): 2254.33\n",
              "Params size (MB): 16.82\n",
              "Estimated Total Size (MB): 2290.42\n",
              "============================================================================================================================================"
            ]
          },
          "execution_count": 38,
          "metadata": {},
          "output_type": "execute_result"
        }
      ],
      "source": [
        "mobilenetv3 =  create_mobilenetv3()\n",
        "\n",
        "# Get an output summary of the layers in our EffNetB2 feature extractor model (uncomment to view full output)\n",
        "summary(model=mobilenetv3,\n",
        "        input_size=(32, 3, 224, 224), # make sure this is \"input_size\", not \"input_shape\"\n",
        "        # col_names=[\"input_size\"], # uncomment for smaller output\n",
        "        col_names=[\"input_size\", \"output_size\", \"num_params\", \"trainable\"],\n",
        "        col_width=20,\n",
        "        row_settings=[\"var_names\"]\n",
        ")"
      ]
    },
    {
      "cell_type": "code",
      "execution_count": 39,
      "metadata": {
        "colab": {
          "base_uri": "https://localhost:8080/"
        },
        "id": "9rQk7_6ITdVW",
        "outputId": "b95325e1-8f16-4874-9635-d6ed003d475c"
      },
      "outputs": [
        {
          "name": "stdout",
          "output_type": "stream",
          "text": [
            "[INFO] Created new resnet50 model.\n"
          ]
        },
        {
          "data": {
            "text/plain": [
              "========================================================================================================================\n",
              "Layer (type (var_name))                  Input Shape          Output Shape         Param #              Trainable\n",
              "========================================================================================================================\n",
              "ResNet (ResNet)                          [32, 3, 224, 224]    [32, 2]              --                   Partial\n",
              "├─Conv2d (conv1)                         [32, 3, 224, 224]    [32, 64, 112, 112]   (9,408)              False\n",
              "├─BatchNorm2d (bn1)                      [32, 64, 112, 112]   [32, 64, 112, 112]   (128)                False\n",
              "├─ReLU (relu)                            [32, 64, 112, 112]   [32, 64, 112, 112]   --                   --\n",
              "├─MaxPool2d (maxpool)                    [32, 64, 112, 112]   [32, 64, 56, 56]     --                   --\n",
              "├─Sequential (layer1)                    [32, 64, 56, 56]     [32, 256, 56, 56]    --                   False\n",
              "│    └─Bottleneck (0)                    [32, 64, 56, 56]     [32, 256, 56, 56]    --                   False\n",
              "│    │    └─Conv2d (conv1)               [32, 64, 56, 56]     [32, 64, 56, 56]     (4,096)              False\n",
              "│    │    └─BatchNorm2d (bn1)            [32, 64, 56, 56]     [32, 64, 56, 56]     (128)                False\n",
              "│    │    └─ReLU (relu)                  [32, 64, 56, 56]     [32, 64, 56, 56]     --                   --\n",
              "│    │    └─Conv2d (conv2)               [32, 64, 56, 56]     [32, 64, 56, 56]     (36,864)             False\n",
              "│    │    └─BatchNorm2d (bn2)            [32, 64, 56, 56]     [32, 64, 56, 56]     (128)                False\n",
              "│    │    └─ReLU (relu)                  [32, 64, 56, 56]     [32, 64, 56, 56]     --                   --\n",
              "│    │    └─Conv2d (conv3)               [32, 64, 56, 56]     [32, 256, 56, 56]    (16,384)             False\n",
              "│    │    └─BatchNorm2d (bn3)            [32, 256, 56, 56]    [32, 256, 56, 56]    (512)                False\n",
              "│    │    └─Sequential (downsample)      [32, 64, 56, 56]     [32, 256, 56, 56]    (16,896)             False\n",
              "│    │    └─ReLU (relu)                  [32, 256, 56, 56]    [32, 256, 56, 56]    --                   --\n",
              "│    └─Bottleneck (1)                    [32, 256, 56, 56]    [32, 256, 56, 56]    --                   False\n",
              "│    │    └─Conv2d (conv1)               [32, 256, 56, 56]    [32, 64, 56, 56]     (16,384)             False\n",
              "│    │    └─BatchNorm2d (bn1)            [32, 64, 56, 56]     [32, 64, 56, 56]     (128)                False\n",
              "│    │    └─ReLU (relu)                  [32, 64, 56, 56]     [32, 64, 56, 56]     --                   --\n",
              "│    │    └─Conv2d (conv2)               [32, 64, 56, 56]     [32, 64, 56, 56]     (36,864)             False\n",
              "│    │    └─BatchNorm2d (bn2)            [32, 64, 56, 56]     [32, 64, 56, 56]     (128)                False\n",
              "│    │    └─ReLU (relu)                  [32, 64, 56, 56]     [32, 64, 56, 56]     --                   --\n",
              "│    │    └─Conv2d (conv3)               [32, 64, 56, 56]     [32, 256, 56, 56]    (16,384)             False\n",
              "│    │    └─BatchNorm2d (bn3)            [32, 256, 56, 56]    [32, 256, 56, 56]    (512)                False\n",
              "│    │    └─ReLU (relu)                  [32, 256, 56, 56]    [32, 256, 56, 56]    --                   --\n",
              "│    └─Bottleneck (2)                    [32, 256, 56, 56]    [32, 256, 56, 56]    --                   False\n",
              "│    │    └─Conv2d (conv1)               [32, 256, 56, 56]    [32, 64, 56, 56]     (16,384)             False\n",
              "│    │    └─BatchNorm2d (bn1)            [32, 64, 56, 56]     [32, 64, 56, 56]     (128)                False\n",
              "│    │    └─ReLU (relu)                  [32, 64, 56, 56]     [32, 64, 56, 56]     --                   --\n",
              "│    │    └─Conv2d (conv2)               [32, 64, 56, 56]     [32, 64, 56, 56]     (36,864)             False\n",
              "│    │    └─BatchNorm2d (bn2)            [32, 64, 56, 56]     [32, 64, 56, 56]     (128)                False\n",
              "│    │    └─ReLU (relu)                  [32, 64, 56, 56]     [32, 64, 56, 56]     --                   --\n",
              "│    │    └─Conv2d (conv3)               [32, 64, 56, 56]     [32, 256, 56, 56]    (16,384)             False\n",
              "│    │    └─BatchNorm2d (bn3)            [32, 256, 56, 56]    [32, 256, 56, 56]    (512)                False\n",
              "│    │    └─ReLU (relu)                  [32, 256, 56, 56]    [32, 256, 56, 56]    --                   --\n",
              "├─Sequential (layer2)                    [32, 256, 56, 56]    [32, 512, 28, 28]    --                   False\n",
              "│    └─Bottleneck (0)                    [32, 256, 56, 56]    [32, 512, 28, 28]    --                   False\n",
              "│    │    └─Conv2d (conv1)               [32, 256, 56, 56]    [32, 128, 56, 56]    (32,768)             False\n",
              "│    │    └─BatchNorm2d (bn1)            [32, 128, 56, 56]    [32, 128, 56, 56]    (256)                False\n",
              "│    │    └─ReLU (relu)                  [32, 128, 56, 56]    [32, 128, 56, 56]    --                   --\n",
              "│    │    └─Conv2d (conv2)               [32, 128, 56, 56]    [32, 128, 28, 28]    (147,456)            False\n",
              "│    │    └─BatchNorm2d (bn2)            [32, 128, 28, 28]    [32, 128, 28, 28]    (256)                False\n",
              "│    │    └─ReLU (relu)                  [32, 128, 28, 28]    [32, 128, 28, 28]    --                   --\n",
              "│    │    └─Conv2d (conv3)               [32, 128, 28, 28]    [32, 512, 28, 28]    (65,536)             False\n",
              "│    │    └─BatchNorm2d (bn3)            [32, 512, 28, 28]    [32, 512, 28, 28]    (1,024)              False\n",
              "│    │    └─Sequential (downsample)      [32, 256, 56, 56]    [32, 512, 28, 28]    (132,096)            False\n",
              "│    │    └─ReLU (relu)                  [32, 512, 28, 28]    [32, 512, 28, 28]    --                   --\n",
              "│    └─Bottleneck (1)                    [32, 512, 28, 28]    [32, 512, 28, 28]    --                   False\n",
              "│    │    └─Conv2d (conv1)               [32, 512, 28, 28]    [32, 128, 28, 28]    (65,536)             False\n",
              "│    │    └─BatchNorm2d (bn1)            [32, 128, 28, 28]    [32, 128, 28, 28]    (256)                False\n",
              "│    │    └─ReLU (relu)                  [32, 128, 28, 28]    [32, 128, 28, 28]    --                   --\n",
              "│    │    └─Conv2d (conv2)               [32, 128, 28, 28]    [32, 128, 28, 28]    (147,456)            False\n",
              "│    │    └─BatchNorm2d (bn2)            [32, 128, 28, 28]    [32, 128, 28, 28]    (256)                False\n",
              "│    │    └─ReLU (relu)                  [32, 128, 28, 28]    [32, 128, 28, 28]    --                   --\n",
              "│    │    └─Conv2d (conv3)               [32, 128, 28, 28]    [32, 512, 28, 28]    (65,536)             False\n",
              "│    │    └─BatchNorm2d (bn3)            [32, 512, 28, 28]    [32, 512, 28, 28]    (1,024)              False\n",
              "│    │    └─ReLU (relu)                  [32, 512, 28, 28]    [32, 512, 28, 28]    --                   --\n",
              "│    └─Bottleneck (2)                    [32, 512, 28, 28]    [32, 512, 28, 28]    --                   False\n",
              "│    │    └─Conv2d (conv1)               [32, 512, 28, 28]    [32, 128, 28, 28]    (65,536)             False\n",
              "│    │    └─BatchNorm2d (bn1)            [32, 128, 28, 28]    [32, 128, 28, 28]    (256)                False\n",
              "│    │    └─ReLU (relu)                  [32, 128, 28, 28]    [32, 128, 28, 28]    --                   --\n",
              "│    │    └─Conv2d (conv2)               [32, 128, 28, 28]    [32, 128, 28, 28]    (147,456)            False\n",
              "│    │    └─BatchNorm2d (bn2)            [32, 128, 28, 28]    [32, 128, 28, 28]    (256)                False\n",
              "│    │    └─ReLU (relu)                  [32, 128, 28, 28]    [32, 128, 28, 28]    --                   --\n",
              "│    │    └─Conv2d (conv3)               [32, 128, 28, 28]    [32, 512, 28, 28]    (65,536)             False\n",
              "│    │    └─BatchNorm2d (bn3)            [32, 512, 28, 28]    [32, 512, 28, 28]    (1,024)              False\n",
              "│    │    └─ReLU (relu)                  [32, 512, 28, 28]    [32, 512, 28, 28]    --                   --\n",
              "│    └─Bottleneck (3)                    [32, 512, 28, 28]    [32, 512, 28, 28]    --                   False\n",
              "│    │    └─Conv2d (conv1)               [32, 512, 28, 28]    [32, 128, 28, 28]    (65,536)             False\n",
              "│    │    └─BatchNorm2d (bn1)            [32, 128, 28, 28]    [32, 128, 28, 28]    (256)                False\n",
              "│    │    └─ReLU (relu)                  [32, 128, 28, 28]    [32, 128, 28, 28]    --                   --\n",
              "│    │    └─Conv2d (conv2)               [32, 128, 28, 28]    [32, 128, 28, 28]    (147,456)            False\n",
              "│    │    └─BatchNorm2d (bn2)            [32, 128, 28, 28]    [32, 128, 28, 28]    (256)                False\n",
              "│    │    └─ReLU (relu)                  [32, 128, 28, 28]    [32, 128, 28, 28]    --                   --\n",
              "│    │    └─Conv2d (conv3)               [32, 128, 28, 28]    [32, 512, 28, 28]    (65,536)             False\n",
              "│    │    └─BatchNorm2d (bn3)            [32, 512, 28, 28]    [32, 512, 28, 28]    (1,024)              False\n",
              "│    │    └─ReLU (relu)                  [32, 512, 28, 28]    [32, 512, 28, 28]    --                   --\n",
              "├─Sequential (layer3)                    [32, 512, 28, 28]    [32, 1024, 14, 14]   --                   False\n",
              "│    └─Bottleneck (0)                    [32, 512, 28, 28]    [32, 1024, 14, 14]   --                   False\n",
              "│    │    └─Conv2d (conv1)               [32, 512, 28, 28]    [32, 256, 28, 28]    (131,072)            False\n",
              "│    │    └─BatchNorm2d (bn1)            [32, 256, 28, 28]    [32, 256, 28, 28]    (512)                False\n",
              "│    │    └─ReLU (relu)                  [32, 256, 28, 28]    [32, 256, 28, 28]    --                   --\n",
              "│    │    └─Conv2d (conv2)               [32, 256, 28, 28]    [32, 256, 14, 14]    (589,824)            False\n",
              "│    │    └─BatchNorm2d (bn2)            [32, 256, 14, 14]    [32, 256, 14, 14]    (512)                False\n",
              "│    │    └─ReLU (relu)                  [32, 256, 14, 14]    [32, 256, 14, 14]    --                   --\n",
              "│    │    └─Conv2d (conv3)               [32, 256, 14, 14]    [32, 1024, 14, 14]   (262,144)            False\n",
              "│    │    └─BatchNorm2d (bn3)            [32, 1024, 14, 14]   [32, 1024, 14, 14]   (2,048)              False\n",
              "│    │    └─Sequential (downsample)      [32, 512, 28, 28]    [32, 1024, 14, 14]   (526,336)            False\n",
              "│    │    └─ReLU (relu)                  [32, 1024, 14, 14]   [32, 1024, 14, 14]   --                   --\n",
              "│    └─Bottleneck (1)                    [32, 1024, 14, 14]   [32, 1024, 14, 14]   --                   False\n",
              "│    │    └─Conv2d (conv1)               [32, 1024, 14, 14]   [32, 256, 14, 14]    (262,144)            False\n",
              "│    │    └─BatchNorm2d (bn1)            [32, 256, 14, 14]    [32, 256, 14, 14]    (512)                False\n",
              "│    │    └─ReLU (relu)                  [32, 256, 14, 14]    [32, 256, 14, 14]    --                   --\n",
              "│    │    └─Conv2d (conv2)               [32, 256, 14, 14]    [32, 256, 14, 14]    (589,824)            False\n",
              "│    │    └─BatchNorm2d (bn2)            [32, 256, 14, 14]    [32, 256, 14, 14]    (512)                False\n",
              "│    │    └─ReLU (relu)                  [32, 256, 14, 14]    [32, 256, 14, 14]    --                   --\n",
              "│    │    └─Conv2d (conv3)               [32, 256, 14, 14]    [32, 1024, 14, 14]   (262,144)            False\n",
              "│    │    └─BatchNorm2d (bn3)            [32, 1024, 14, 14]   [32, 1024, 14, 14]   (2,048)              False\n",
              "│    │    └─ReLU (relu)                  [32, 1024, 14, 14]   [32, 1024, 14, 14]   --                   --\n",
              "│    └─Bottleneck (2)                    [32, 1024, 14, 14]   [32, 1024, 14, 14]   --                   False\n",
              "│    │    └─Conv2d (conv1)               [32, 1024, 14, 14]   [32, 256, 14, 14]    (262,144)            False\n",
              "│    │    └─BatchNorm2d (bn1)            [32, 256, 14, 14]    [32, 256, 14, 14]    (512)                False\n",
              "│    │    └─ReLU (relu)                  [32, 256, 14, 14]    [32, 256, 14, 14]    --                   --\n",
              "│    │    └─Conv2d (conv2)               [32, 256, 14, 14]    [32, 256, 14, 14]    (589,824)            False\n",
              "│    │    └─BatchNorm2d (bn2)            [32, 256, 14, 14]    [32, 256, 14, 14]    (512)                False\n",
              "│    │    └─ReLU (relu)                  [32, 256, 14, 14]    [32, 256, 14, 14]    --                   --\n",
              "│    │    └─Conv2d (conv3)               [32, 256, 14, 14]    [32, 1024, 14, 14]   (262,144)            False\n",
              "│    │    └─BatchNorm2d (bn3)            [32, 1024, 14, 14]   [32, 1024, 14, 14]   (2,048)              False\n",
              "│    │    └─ReLU (relu)                  [32, 1024, 14, 14]   [32, 1024, 14, 14]   --                   --\n",
              "│    └─Bottleneck (3)                    [32, 1024, 14, 14]   [32, 1024, 14, 14]   --                   False\n",
              "│    │    └─Conv2d (conv1)               [32, 1024, 14, 14]   [32, 256, 14, 14]    (262,144)            False\n",
              "│    │    └─BatchNorm2d (bn1)            [32, 256, 14, 14]    [32, 256, 14, 14]    (512)                False\n",
              "│    │    └─ReLU (relu)                  [32, 256, 14, 14]    [32, 256, 14, 14]    --                   --\n",
              "│    │    └─Conv2d (conv2)               [32, 256, 14, 14]    [32, 256, 14, 14]    (589,824)            False\n",
              "│    │    └─BatchNorm2d (bn2)            [32, 256, 14, 14]    [32, 256, 14, 14]    (512)                False\n",
              "│    │    └─ReLU (relu)                  [32, 256, 14, 14]    [32, 256, 14, 14]    --                   --\n",
              "│    │    └─Conv2d (conv3)               [32, 256, 14, 14]    [32, 1024, 14, 14]   (262,144)            False\n",
              "│    │    └─BatchNorm2d (bn3)            [32, 1024, 14, 14]   [32, 1024, 14, 14]   (2,048)              False\n",
              "│    │    └─ReLU (relu)                  [32, 1024, 14, 14]   [32, 1024, 14, 14]   --                   --\n",
              "│    └─Bottleneck (4)                    [32, 1024, 14, 14]   [32, 1024, 14, 14]   --                   False\n",
              "│    │    └─Conv2d (conv1)               [32, 1024, 14, 14]   [32, 256, 14, 14]    (262,144)            False\n",
              "│    │    └─BatchNorm2d (bn1)            [32, 256, 14, 14]    [32, 256, 14, 14]    (512)                False\n",
              "│    │    └─ReLU (relu)                  [32, 256, 14, 14]    [32, 256, 14, 14]    --                   --\n",
              "│    │    └─Conv2d (conv2)               [32, 256, 14, 14]    [32, 256, 14, 14]    (589,824)            False\n",
              "│    │    └─BatchNorm2d (bn2)            [32, 256, 14, 14]    [32, 256, 14, 14]    (512)                False\n",
              "│    │    └─ReLU (relu)                  [32, 256, 14, 14]    [32, 256, 14, 14]    --                   --\n",
              "│    │    └─Conv2d (conv3)               [32, 256, 14, 14]    [32, 1024, 14, 14]   (262,144)            False\n",
              "│    │    └─BatchNorm2d (bn3)            [32, 1024, 14, 14]   [32, 1024, 14, 14]   (2,048)              False\n",
              "│    │    └─ReLU (relu)                  [32, 1024, 14, 14]   [32, 1024, 14, 14]   --                   --\n",
              "│    └─Bottleneck (5)                    [32, 1024, 14, 14]   [32, 1024, 14, 14]   --                   False\n",
              "│    │    └─Conv2d (conv1)               [32, 1024, 14, 14]   [32, 256, 14, 14]    (262,144)            False\n",
              "│    │    └─BatchNorm2d (bn1)            [32, 256, 14, 14]    [32, 256, 14, 14]    (512)                False\n",
              "│    │    └─ReLU (relu)                  [32, 256, 14, 14]    [32, 256, 14, 14]    --                   --\n",
              "│    │    └─Conv2d (conv2)               [32, 256, 14, 14]    [32, 256, 14, 14]    (589,824)            False\n",
              "│    │    └─BatchNorm2d (bn2)            [32, 256, 14, 14]    [32, 256, 14, 14]    (512)                False\n",
              "│    │    └─ReLU (relu)                  [32, 256, 14, 14]    [32, 256, 14, 14]    --                   --\n",
              "│    │    └─Conv2d (conv3)               [32, 256, 14, 14]    [32, 1024, 14, 14]   (262,144)            False\n",
              "│    │    └─BatchNorm2d (bn3)            [32, 1024, 14, 14]   [32, 1024, 14, 14]   (2,048)              False\n",
              "│    │    └─ReLU (relu)                  [32, 1024, 14, 14]   [32, 1024, 14, 14]   --                   --\n",
              "├─Sequential (layer4)                    [32, 1024, 14, 14]   [32, 2048, 7, 7]     --                   False\n",
              "│    └─Bottleneck (0)                    [32, 1024, 14, 14]   [32, 2048, 7, 7]     --                   False\n",
              "│    │    └─Conv2d (conv1)               [32, 1024, 14, 14]   [32, 512, 14, 14]    (524,288)            False\n",
              "│    │    └─BatchNorm2d (bn1)            [32, 512, 14, 14]    [32, 512, 14, 14]    (1,024)              False\n",
              "│    │    └─ReLU (relu)                  [32, 512, 14, 14]    [32, 512, 14, 14]    --                   --\n",
              "│    │    └─Conv2d (conv2)               [32, 512, 14, 14]    [32, 512, 7, 7]      (2,359,296)          False\n",
              "│    │    └─BatchNorm2d (bn2)            [32, 512, 7, 7]      [32, 512, 7, 7]      (1,024)              False\n",
              "│    │    └─ReLU (relu)                  [32, 512, 7, 7]      [32, 512, 7, 7]      --                   --\n",
              "│    │    └─Conv2d (conv3)               [32, 512, 7, 7]      [32, 2048, 7, 7]     (1,048,576)          False\n",
              "│    │    └─BatchNorm2d (bn3)            [32, 2048, 7, 7]     [32, 2048, 7, 7]     (4,096)              False\n",
              "│    │    └─Sequential (downsample)      [32, 1024, 14, 14]   [32, 2048, 7, 7]     (2,101,248)          False\n",
              "│    │    └─ReLU (relu)                  [32, 2048, 7, 7]     [32, 2048, 7, 7]     --                   --\n",
              "│    └─Bottleneck (1)                    [32, 2048, 7, 7]     [32, 2048, 7, 7]     --                   False\n",
              "│    │    └─Conv2d (conv1)               [32, 2048, 7, 7]     [32, 512, 7, 7]      (1,048,576)          False\n",
              "│    │    └─BatchNorm2d (bn1)            [32, 512, 7, 7]      [32, 512, 7, 7]      (1,024)              False\n",
              "│    │    └─ReLU (relu)                  [32, 512, 7, 7]      [32, 512, 7, 7]      --                   --\n",
              "│    │    └─Conv2d (conv2)               [32, 512, 7, 7]      [32, 512, 7, 7]      (2,359,296)          False\n",
              "│    │    └─BatchNorm2d (bn2)            [32, 512, 7, 7]      [32, 512, 7, 7]      (1,024)              False\n",
              "│    │    └─ReLU (relu)                  [32, 512, 7, 7]      [32, 512, 7, 7]      --                   --\n",
              "│    │    └─Conv2d (conv3)               [32, 512, 7, 7]      [32, 2048, 7, 7]     (1,048,576)          False\n",
              "│    │    └─BatchNorm2d (bn3)            [32, 2048, 7, 7]     [32, 2048, 7, 7]     (4,096)              False\n",
              "│    │    └─ReLU (relu)                  [32, 2048, 7, 7]     [32, 2048, 7, 7]     --                   --\n",
              "│    └─Bottleneck (2)                    [32, 2048, 7, 7]     [32, 2048, 7, 7]     --                   False\n",
              "│    │    └─Conv2d (conv1)               [32, 2048, 7, 7]     [32, 512, 7, 7]      (1,048,576)          False\n",
              "│    │    └─BatchNorm2d (bn1)            [32, 512, 7, 7]      [32, 512, 7, 7]      (1,024)              False\n",
              "│    │    └─ReLU (relu)                  [32, 512, 7, 7]      [32, 512, 7, 7]      --                   --\n",
              "│    │    └─Conv2d (conv2)               [32, 512, 7, 7]      [32, 512, 7, 7]      (2,359,296)          False\n",
              "│    │    └─BatchNorm2d (bn2)            [32, 512, 7, 7]      [32, 512, 7, 7]      (1,024)              False\n",
              "│    │    └─ReLU (relu)                  [32, 512, 7, 7]      [32, 512, 7, 7]      --                   --\n",
              "│    │    └─Conv2d (conv3)               [32, 512, 7, 7]      [32, 2048, 7, 7]     (1,048,576)          False\n",
              "│    │    └─BatchNorm2d (bn3)            [32, 2048, 7, 7]     [32, 2048, 7, 7]     (4,096)              False\n",
              "│    │    └─ReLU (relu)                  [32, 2048, 7, 7]     [32, 2048, 7, 7]     --                   --\n",
              "├─AdaptiveAvgPool2d (avgpool)            [32, 2048, 7, 7]     [32, 2048, 1, 1]     --                   --\n",
              "├─Linear (fc)                            [32, 2048]           [32, 2]              4,098                True\n",
              "========================================================================================================================\n",
              "Total params: 23,512,130\n",
              "Trainable params: 4,098\n",
              "Non-trainable params: 23,508,032\n",
              "Total mult-adds (Units.GIGABYTES): 130.79\n",
              "========================================================================================================================\n",
              "Input size (MB): 19.27\n",
              "Forward/backward pass size (MB): 5690.36\n",
              "Params size (MB): 94.05\n",
              "Estimated Total Size (MB): 5803.68\n",
              "========================================================================================================================"
            ]
          },
          "execution_count": 39,
          "metadata": {},
          "output_type": "execute_result"
        }
      ],
      "source": [
        "resnet50 = create_resnet50()\n",
        "\n",
        "# Get an output summary of the layers in our EffNetB2 feature extractor model (uncomment to view full output)\n",
        "summary(model=resnet50,\n",
        "        input_size=(32, 3, 224, 224), # make sure this is \"input_size\", not \"input_shape\"\n",
        "        # col_names=[\"input_size\"], # uncomment for smaller output\n",
        "        col_names=[\"input_size\", \"output_size\", \"num_params\", \"trainable\"],\n",
        "        col_width=20,\n",
        "        row_settings=[\"var_names\"]\n",
        ")"
      ]
    },
    {
      "cell_type": "code",
      "execution_count": 40,
      "metadata": {
        "colab": {
          "base_uri": "https://localhost:8080/"
        },
        "id": "BbyYLkv-Tddn",
        "outputId": "416605d1-7c58-472b-a2f8-b7c298843b79"
      },
      "outputs": [
        {
          "name": "stdout",
          "output_type": "stream",
          "text": [
            "[INFO] Created new vgg16bn model.\n"
          ]
        },
        {
          "data": {
            "text/plain": [
              "========================================================================================================================\n",
              "Layer (type (var_name))                  Input Shape          Output Shape         Param #              Trainable\n",
              "========================================================================================================================\n",
              "VGG (VGG)                                [32, 3, 224, 224]    [32, 2]              --                   Partial\n",
              "├─Sequential (features)                  [32, 3, 224, 224]    [32, 512, 7, 7]      --                   False\n",
              "│    └─Conv2d (0)                        [32, 3, 224, 224]    [32, 64, 224, 224]   (1,792)              False\n",
              "│    └─BatchNorm2d (1)                   [32, 64, 224, 224]   [32, 64, 224, 224]   (128)                False\n",
              "│    └─ReLU (2)                          [32, 64, 224, 224]   [32, 64, 224, 224]   --                   --\n",
              "│    └─Conv2d (3)                        [32, 64, 224, 224]   [32, 64, 224, 224]   (36,928)             False\n",
              "│    └─BatchNorm2d (4)                   [32, 64, 224, 224]   [32, 64, 224, 224]   (128)                False\n",
              "│    └─ReLU (5)                          [32, 64, 224, 224]   [32, 64, 224, 224]   --                   --\n",
              "│    └─MaxPool2d (6)                     [32, 64, 224, 224]   [32, 64, 112, 112]   --                   --\n",
              "│    └─Conv2d (7)                        [32, 64, 112, 112]   [32, 128, 112, 112]  (73,856)             False\n",
              "│    └─BatchNorm2d (8)                   [32, 128, 112, 112]  [32, 128, 112, 112]  (256)                False\n",
              "│    └─ReLU (9)                          [32, 128, 112, 112]  [32, 128, 112, 112]  --                   --\n",
              "│    └─Conv2d (10)                       [32, 128, 112, 112]  [32, 128, 112, 112]  (147,584)            False\n",
              "│    └─BatchNorm2d (11)                  [32, 128, 112, 112]  [32, 128, 112, 112]  (256)                False\n",
              "│    └─ReLU (12)                         [32, 128, 112, 112]  [32, 128, 112, 112]  --                   --\n",
              "│    └─MaxPool2d (13)                    [32, 128, 112, 112]  [32, 128, 56, 56]    --                   --\n",
              "│    └─Conv2d (14)                       [32, 128, 56, 56]    [32, 256, 56, 56]    (295,168)            False\n",
              "│    └─BatchNorm2d (15)                  [32, 256, 56, 56]    [32, 256, 56, 56]    (512)                False\n",
              "│    └─ReLU (16)                         [32, 256, 56, 56]    [32, 256, 56, 56]    --                   --\n",
              "│    └─Conv2d (17)                       [32, 256, 56, 56]    [32, 256, 56, 56]    (590,080)            False\n",
              "│    └─BatchNorm2d (18)                  [32, 256, 56, 56]    [32, 256, 56, 56]    (512)                False\n",
              "│    └─ReLU (19)                         [32, 256, 56, 56]    [32, 256, 56, 56]    --                   --\n",
              "│    └─Conv2d (20)                       [32, 256, 56, 56]    [32, 256, 56, 56]    (590,080)            False\n",
              "│    └─BatchNorm2d (21)                  [32, 256, 56, 56]    [32, 256, 56, 56]    (512)                False\n",
              "│    └─ReLU (22)                         [32, 256, 56, 56]    [32, 256, 56, 56]    --                   --\n",
              "│    └─MaxPool2d (23)                    [32, 256, 56, 56]    [32, 256, 28, 28]    --                   --\n",
              "│    └─Conv2d (24)                       [32, 256, 28, 28]    [32, 512, 28, 28]    (1,180,160)          False\n",
              "│    └─BatchNorm2d (25)                  [32, 512, 28, 28]    [32, 512, 28, 28]    (1,024)              False\n",
              "│    └─ReLU (26)                         [32, 512, 28, 28]    [32, 512, 28, 28]    --                   --\n",
              "│    └─Conv2d (27)                       [32, 512, 28, 28]    [32, 512, 28, 28]    (2,359,808)          False\n",
              "│    └─BatchNorm2d (28)                  [32, 512, 28, 28]    [32, 512, 28, 28]    (1,024)              False\n",
              "│    └─ReLU (29)                         [32, 512, 28, 28]    [32, 512, 28, 28]    --                   --\n",
              "│    └─Conv2d (30)                       [32, 512, 28, 28]    [32, 512, 28, 28]    (2,359,808)          False\n",
              "│    └─BatchNorm2d (31)                  [32, 512, 28, 28]    [32, 512, 28, 28]    (1,024)              False\n",
              "│    └─ReLU (32)                         [32, 512, 28, 28]    [32, 512, 28, 28]    --                   --\n",
              "│    └─MaxPool2d (33)                    [32, 512, 28, 28]    [32, 512, 14, 14]    --                   --\n",
              "│    └─Conv2d (34)                       [32, 512, 14, 14]    [32, 512, 14, 14]    (2,359,808)          False\n",
              "│    └─BatchNorm2d (35)                  [32, 512, 14, 14]    [32, 512, 14, 14]    (1,024)              False\n",
              "│    └─ReLU (36)                         [32, 512, 14, 14]    [32, 512, 14, 14]    --                   --\n",
              "│    └─Conv2d (37)                       [32, 512, 14, 14]    [32, 512, 14, 14]    (2,359,808)          False\n",
              "│    └─BatchNorm2d (38)                  [32, 512, 14, 14]    [32, 512, 14, 14]    (1,024)              False\n",
              "│    └─ReLU (39)                         [32, 512, 14, 14]    [32, 512, 14, 14]    --                   --\n",
              "│    └─Conv2d (40)                       [32, 512, 14, 14]    [32, 512, 14, 14]    (2,359,808)          False\n",
              "│    └─BatchNorm2d (41)                  [32, 512, 14, 14]    [32, 512, 14, 14]    (1,024)              False\n",
              "│    └─ReLU (42)                         [32, 512, 14, 14]    [32, 512, 14, 14]    --                   --\n",
              "│    └─MaxPool2d (43)                    [32, 512, 14, 14]    [32, 512, 7, 7]      --                   --\n",
              "├─AdaptiveAvgPool2d (avgpool)            [32, 512, 7, 7]      [32, 512, 7, 7]      --                   --\n",
              "├─Sequential (classifier)                [32, 25088]          [32, 2]              --                   Partial\n",
              "│    └─Linear (0)                        [32, 25088]          [32, 4096]           (102,764,544)        False\n",
              "│    └─ReLU (1)                          [32, 4096]           [32, 4096]           --                   --\n",
              "│    └─Dropout (2)                       [32, 4096]           [32, 4096]           --                   --\n",
              "│    └─Linear (3)                        [32, 4096]           [32, 4096]           (16,781,312)         False\n",
              "│    └─ReLU (4)                          [32, 4096]           [32, 4096]           --                   --\n",
              "│    └─Dropout (5)                       [32, 4096]           [32, 4096]           --                   --\n",
              "│    └─Linear (6)                        [32, 4096]           [32, 2]              8,194                True\n",
              "========================================================================================================================\n",
              "Total params: 134,277,186\n",
              "Trainable params: 8,194\n",
              "Non-trainable params: 134,268,992\n",
              "Total mult-adds (Units.GIGABYTES): 495.35\n",
              "========================================================================================================================\n",
              "Input size (MB): 19.27\n",
              "Forward/backward pass size (MB): 6938.43\n",
              "Params size (MB): 537.11\n",
              "Estimated Total Size (MB): 7494.80\n",
              "========================================================================================================================"
            ]
          },
          "execution_count": 40,
          "metadata": {},
          "output_type": "execute_result"
        }
      ],
      "source": [
        "vgg16bn = create_vgg16bn()\n",
        "\n",
        "# Get an output summary of the layers in our EffNetB2 feature extractor model (uncomment to view full output)\n",
        "summary(model=vgg16bn,\n",
        "        input_size=(32, 3, 224, 224), # make sure this is \"input_size\", not \"input_shape\"\n",
        "        # col_names=[\"input_size\"], # uncomment for smaller output\n",
        "        col_names=[\"input_size\", \"output_size\", \"num_params\", \"trainable\"],\n",
        "        col_width=20,\n",
        "        row_settings=[\"var_names\"]\n",
        ")"
      ]
    },
    {
      "cell_type": "code",
      "execution_count": 41,
      "metadata": {
        "id": "AsCMfupZO_Op"
      },
      "outputs": [],
      "source": [
        "# 1. Create epochs list\n",
        "num_epochs = 50\n",
        "\n",
        "# 2. Create models list (need to create a new model for each experiment)\n",
        "models = [\"effnetv2\",\"inception\",\"mobilenetv3\",\"resnet50\",\"vgg16bn\"]\n",
        "\n",
        "# 3. Create dataloaders dictionary for various dataloaders\n",
        "# train_dataloaders = {\"data_train_effnet\": train_dataloader_effnet,\n",
        "#                      \"data_train_inception\": train_dataloader_inception,\n",
        "#                      \"data_train_mobilenet\": train_dataloader_mobilenet,\n",
        "#                      \"data_train_resnet50\": train_dataloader_resnet50,\n",
        "#                      \"data_train_vgg16\": train_dataloader_vgg16}"
      ]
    },
    {
      "cell_type": "code",
      "execution_count": 42,
      "metadata": {
        "colab": {
          "base_uri": "https://localhost:8080/"
        },
        "id": "lmnayCsNr7uO",
        "outputId": "0270abbf-a267-451f-ff2f-64ce85191da4"
      },
      "outputs": [
        {
          "data": {
            "text/plain": [
              "True"
            ]
          },
          "execution_count": 42,
          "metadata": {},
          "output_type": "execute_result"
        }
      ],
      "source": [
        "import wandb\n",
        "wandb.login()"
      ]
    },
    {
      "cell_type": "code",
      "execution_count": 44,
      "metadata": {
        "colab": {
          "base_uri": "https://localhost:8080/",
          "height": 1000,
          "referenced_widgets": [
            "c332f09c82814e398bc5041a0bea7ff9",
            "32250d2fb45343168a91742c2138cc1e",
            "943f2cf65e104e919cc37b5e2c696ad2",
            "6bf3b6dc82c54baeb35a538ccb723b85",
            "1456375061f4432e838dc62a8aa41f5d",
            "f4abfee7fae84fc7b203916f8f846c8b",
            "6b9ffd913aff45b688f0ea50e7c25aa5",
            "36b9cfe422bb4d7e93ef67b0d48ccce6",
            "e1bbaf75fe854a878d3ecd8a459a43ba",
            "059125b796354294aa5a6b9c1403515e",
            "8068005c621844ef88c27ebbb3fc1a1d",
            "05424f2c155e4a809542d70a70e46d3c",
            "5d6b1f7d834f4861a01463440ee74c3b",
            "dff8494a00264ad4aa0df876513db842",
            "ee2b9f4cfdca484bb02d139401e6d4b4",
            "111477019c434bfa9c2d62b62ccdcc93",
            "2e60f4c0ffa048178642cfdf475acdf1",
            "ccb7bd7b1f8847cbb688de801257fa21",
            "6a92a30e11464f8ea346bbdcd28a0f37",
            "d158b4ec2eeb41389180a955d5bd90ec",
            "1ff0c1d2f3c94b52ad37b64aca1b3934",
            "262aa7f575d145bba9da7597aa543524",
            "20229137009642eaa7d0bde11a20547f",
            "d2b991ee31d847fc949481c3db7581fa",
            "9bbd2d7c8ee147a5b8ffc48144afabc3",
            "d78f2165c40447949550275fd37bfecb",
            "97dd2ad84a494a6d9c8cfb82f8997b4e",
            "2afaed65e7294ccdb8a3c5422125ab70",
            "c996e44e5c9c48fba14966dfa9135436",
            "a1c24a5318cb4f6d8a970fdf89590465",
            "b58add1b404d43c49d723b30c74f884c",
            "d9f195304e2747b49f3385fe4fed014b",
            "03d33fa887234079bcfbc18b3055779f",
            "91a9366584934bf3b04514b2d94c2f55",
            "4aab2221739b44deb5dbd74836ada4f1",
            "2633812cf2ae4a058dc69ec633050cfe",
            "c1711d66ceac4dab926d03eded4a9d6d",
            "58751b792be94fecbb905c6616b537c3",
            "b7c6ae16a074430fba150e3337557328",
            "812a9bf5df8e4bb8934d3c29430b64bd",
            "4f67149ce273493b8062ece4ffe581d9",
            "6206c4869f3445e5a3872953a9762fe1",
            "f2b2052d8c6a4b9bad81f64773594bd1",
            "89e3a2f1791a4e5a975ada2175687721",
            "72e9127ae923443c8ae7127df71271ec",
            "9c1c5a400d134c28a047b960307dc15f",
            "144f54d7717f4a5e8a93faa03cb6d564",
            "a8f1d803cb6c4521aa40c0795c44bb8c",
            "bb4e457432b64310bf3221392713f858",
            "e663f94634fe46d5b8e1efa6d934e43d",
            "53f9319e8c5c468d9f299d59a9dbe44a",
            "d4a8c33f81c44f69a0721c313dbc9aa5",
            "4b292ca0dcba4b3ca6adff9c3a2bfc7e",
            "e37b34e06d114b0385102939cf498c62",
            "2e70192d3d774aa8bf7e3f99f2dfe246"
          ]
        },
        "id": "QHzG73vJO_TT",
        "outputId": "b2708d7a-1ab5-48ed-cd1d-8494a45cda6f"
      },
      "outputs": [
        {
          "name": "stdout",
          "output_type": "stream",
          "text": [
            "[INFO] Experiment number: 1\n",
            "[INFO] Model: effnetv2\n",
            "[INFO] Number of epochs: 50\n",
            "[INFO] Created new effnetv2 model.\n"
          ]
        },
        {
          "data": {
            "text/html": [
              "Tracking run with wandb version 0.21.0"
            ],
            "text/plain": [
              "<IPython.core.display.HTML object>"
            ]
          },
          "metadata": {},
          "output_type": "display_data"
        },
        {
          "data": {
            "text/html": [
              "Run data is saved locally in <code>/content/wandb/run-20250718_165947-zjqc6ixt</code>"
            ],
            "text/plain": [
              "<IPython.core.display.HTML object>"
            ]
          },
          "metadata": {},
          "output_type": "display_data"
        },
        {
          "data": {
            "text/html": [
              "Syncing run <strong><a href='https://wandb.ai/ellesar-srbiau/your-project-name/runs/zjqc6ixt' target=\"_blank\">effnetv2_50_epochs_exp_1</a></strong> to <a href='https://wandb.ai/ellesar-srbiau/your-project-name' target=\"_blank\">Weights & Biases</a> (<a href='https://wandb.me/developer-guide' target=\"_blank\">docs</a>)<br>"
            ],
            "text/plain": [
              "<IPython.core.display.HTML object>"
            ]
          },
          "metadata": {},
          "output_type": "display_data"
        },
        {
          "data": {
            "text/html": [
              " View project at <a href='https://wandb.ai/ellesar-srbiau/your-project-name' target=\"_blank\">https://wandb.ai/ellesar-srbiau/your-project-name</a>"
            ],
            "text/plain": [
              "<IPython.core.display.HTML object>"
            ]
          },
          "metadata": {},
          "output_type": "display_data"
        },
        {
          "data": {
            "text/html": [
              " View run at <a href='https://wandb.ai/ellesar-srbiau/your-project-name/runs/zjqc6ixt' target=\"_blank\">https://wandb.ai/ellesar-srbiau/your-project-name/runs/zjqc6ixt</a>"
            ],
            "text/plain": [
              "<IPython.core.display.HTML object>"
            ]
          },
          "metadata": {},
          "output_type": "display_data"
        },
        {
          "data": {
            "application/vnd.jupyter.widget-view+json": {
              "model_id": "c332f09c82814e398bc5041a0bea7ff9",
              "version_major": 2,
              "version_minor": 0
            },
            "text/plain": [
              "  0%|          | 0/50 [00:00<?, ?it/s]"
            ]
          },
          "metadata": {},
          "output_type": "display_data"
        },
        {
          "name": "stdout",
          "output_type": "stream",
          "text": [
            "Epoch: 1 | train_loss: 0.6050 | train_acc: 0.6706 | test_loss: 0.5087 | test_acc: 0.8281\n",
            "Epoch: 2 | train_loss: 0.4409 | train_acc: 0.8743 | test_loss: 0.5105 | test_acc: 0.7266\n",
            "Epoch: 3 | train_loss: 0.3470 | train_acc: 0.9121 | test_loss: 0.3018 | test_acc: 0.9375\n",
            "Epoch: 4 | train_loss: 0.3001 | train_acc: 0.9251 | test_loss: 0.2529 | test_acc: 0.9453\n",
            "Epoch: 5 | train_loss: 0.2661 | train_acc: 0.9368 | test_loss: 0.2292 | test_acc: 0.9531\n",
            "Epoch: 6 | train_loss: 0.2231 | train_acc: 0.9629 | test_loss: 0.1862 | test_acc: 0.9531\n",
            "Epoch: 7 | train_loss: 0.2257 | train_acc: 0.9492 | test_loss: 0.1644 | test_acc: 0.9531\n",
            "Epoch: 8 | train_loss: 0.2132 | train_acc: 0.9427 | test_loss: 0.1718 | test_acc: 0.9609\n",
            "Epoch: 9 | train_loss: 0.1753 | train_acc: 0.9648 | test_loss: 0.1514 | test_acc: 0.9531\n",
            "Epoch: 10 | train_loss: 0.1829 | train_acc: 0.9486 | test_loss: 0.1557 | test_acc: 0.9531\n",
            "Epoch: 11 | train_loss: 0.1801 | train_acc: 0.9427 | test_loss: 0.1334 | test_acc: 0.9609\n",
            "Epoch: 12 | train_loss: 0.1683 | train_acc: 0.9466 | test_loss: 0.1318 | test_acc: 0.9531\n",
            "Epoch: 13 | train_loss: 0.1526 | train_acc: 0.9570 | test_loss: 0.1257 | test_acc: 0.9609\n",
            "Epoch: 14 | train_loss: 0.1721 | train_acc: 0.9466 | test_loss: 0.1184 | test_acc: 0.9531\n",
            "Epoch: 15 | train_loss: 0.1573 | train_acc: 0.9525 | test_loss: 0.1137 | test_acc: 0.9766\n",
            "Epoch: 16 | train_loss: 0.1564 | train_acc: 0.9707 | test_loss: 0.1066 | test_acc: 0.9688\n",
            "Epoch: 17 | train_loss: 0.1505 | train_acc: 0.9466 | test_loss: 0.1086 | test_acc: 0.9688\n",
            "Epoch: 18 | train_loss: 0.1274 | train_acc: 0.9805 | test_loss: 0.0981 | test_acc: 0.9688\n",
            "Epoch: 19 | train_loss: 0.1139 | train_acc: 0.9805 | test_loss: 0.0936 | test_acc: 0.9688\n",
            "Epoch: 20 | train_loss: 0.1327 | train_acc: 0.9544 | test_loss: 0.0910 | test_acc: 0.9766\n",
            "Epoch: 21 | train_loss: 0.1190 | train_acc: 0.9648 | test_loss: 0.0933 | test_acc: 0.9688\n",
            "Epoch: 22 | train_loss: 0.1178 | train_acc: 0.9766 | test_loss: 0.0851 | test_acc: 0.9766\n",
            "Epoch: 23 | train_loss: 0.1348 | train_acc: 0.9629 | test_loss: 0.0860 | test_acc: 0.9688\n",
            "Epoch: 24 | train_loss: 0.1065 | train_acc: 0.9727 | test_loss: 0.0860 | test_acc: 0.9766\n",
            "Epoch: 25 | train_loss: 0.1262 | train_acc: 0.9707 | test_loss: 0.0749 | test_acc: 0.9688\n",
            "Epoch: 26 | train_loss: 0.1008 | train_acc: 0.9805 | test_loss: 0.0941 | test_acc: 0.9688\n",
            "Epoch: 27 | train_loss: 0.1025 | train_acc: 0.9759 | test_loss: 0.0755 | test_acc: 0.9766\n",
            "Epoch: 28 | train_loss: 0.1065 | train_acc: 0.9668 | test_loss: 0.0863 | test_acc: 0.9688\n",
            "Epoch: 29 | train_loss: 0.0928 | train_acc: 0.9766 | test_loss: 0.0723 | test_acc: 0.9688\n",
            "Epoch: 30 | train_loss: 0.1266 | train_acc: 0.9622 | test_loss: 0.0692 | test_acc: 0.9766\n",
            "Epoch: 31 | train_loss: 0.0925 | train_acc: 0.9766 | test_loss: 0.0727 | test_acc: 0.9688\n",
            "Epoch: 32 | train_loss: 0.1021 | train_acc: 0.9766 | test_loss: 0.0722 | test_acc: 0.9688\n",
            "Epoch: 33 | train_loss: 0.1099 | train_acc: 0.9583 | test_loss: 0.0679 | test_acc: 0.9766\n",
            "Epoch: 34 | train_loss: 0.0993 | train_acc: 0.9707 | test_loss: 0.0641 | test_acc: 0.9688\n",
            "Epoch: 35 | train_loss: 0.1034 | train_acc: 0.9707 | test_loss: 0.0781 | test_acc: 0.9688\n",
            "Epoch: 36 | train_loss: 0.0849 | train_acc: 0.9766 | test_loss: 0.0627 | test_acc: 0.9688\n",
            "Epoch: 37 | train_loss: 0.0850 | train_acc: 0.9766 | test_loss: 0.0658 | test_acc: 0.9688\n",
            "Epoch: 38 | train_loss: 0.0990 | train_acc: 0.9648 | test_loss: 0.0616 | test_acc: 0.9688\n",
            "Epoch: 39 | train_loss: 0.0891 | train_acc: 0.9785 | test_loss: 0.0552 | test_acc: 0.9766\n",
            "Epoch: 40 | train_loss: 0.0757 | train_acc: 0.9785 | test_loss: 0.0569 | test_acc: 0.9766\n",
            "Epoch: 41 | train_loss: 0.0828 | train_acc: 0.9785 | test_loss: 0.0607 | test_acc: 0.9688\n",
            "Epoch: 42 | train_loss: 0.0932 | train_acc: 0.9648 | test_loss: 0.0582 | test_acc: 0.9766\n",
            "Epoch: 43 | train_loss: 0.0697 | train_acc: 0.9824 | test_loss: 0.0604 | test_acc: 0.9688\n",
            "Epoch: 44 | train_loss: 0.0939 | train_acc: 0.9668 | test_loss: 0.0501 | test_acc: 0.9844\n",
            "Epoch: 45 | train_loss: 0.0866 | train_acc: 0.9766 | test_loss: 0.0591 | test_acc: 0.9766\n",
            "Epoch: 46 | train_loss: 0.0901 | train_acc: 0.9785 | test_loss: 0.0533 | test_acc: 0.9922\n",
            "Epoch: 47 | train_loss: 0.0699 | train_acc: 0.9766 | test_loss: 0.0531 | test_acc: 0.9688\n",
            "Epoch: 48 | train_loss: 0.0812 | train_acc: 0.9688 | test_loss: 0.0529 | test_acc: 0.9766\n",
            "Epoch: 49 | train_loss: 0.1143 | train_acc: 0.9557 | test_loss: 0.0508 | test_acc: 0.9922\n",
            "Epoch: 50 | train_loss: 0.0824 | train_acc: 0.9727 | test_loss: 0.0453 | test_acc: 1.0000\n",
            "[INFO] Saving model to: models/01_effnetv2_50_epochs.pth\n",
            "--------------------------------------------------\n",
            "\n",
            "[INFO] Experiment number: 2\n",
            "[INFO] Model: inception\n",
            "[INFO] Number of epochs: 50\n",
            "[INFO] Created new inception model.\n"
          ]
        },
        {
          "data": {
            "text/html": [
              "Finishing previous runs because reinit is set to 'default'."
            ],
            "text/plain": [
              "<IPython.core.display.HTML object>"
            ]
          },
          "metadata": {},
          "output_type": "display_data"
        },
        {
          "data": {
            "text/html": [],
            "text/plain": [
              "<IPython.core.display.HTML object>"
            ]
          },
          "metadata": {},
          "output_type": "display_data"
        },
        {
          "data": {
            "text/html": [
              "<br>    <style><br>        .wandb-row {<br>            display: flex;<br>            flex-direction: row;<br>            flex-wrap: wrap;<br>            justify-content: flex-start;<br>            width: 100%;<br>        }<br>        .wandb-col {<br>            display: flex;<br>            flex-direction: column;<br>            flex-basis: 100%;<br>            flex: 1;<br>            padding: 10px;<br>        }<br>    </style><br><div class=\"wandb-row\"><div class=\"wandb-col\"><h3>Run history:</h3><br/><table class=\"wandb\"><tr><td>epoch</td><td>▁▁▁▁▂▂▂▂▂▂▃▃▃▃▃▄▄▄▄▄▄▅▅▅▅▅▅▆▆▆▆▇▇▇▇▇▇███</td></tr><tr><td>test_acc</td><td>▄▁▆▇▇▇▇▇▇▇▇▇▇▇▇▇▇▇▇▇▇▇▇▇▇▇▇▇▇▇▇▇▇▇▇▇█▇▇█</td></tr><tr><td>test_loss</td><td>██▅▄▄▃▃▃▃▂▂▂▂▂▂▂▂▂▂▂▂▁▂▁▁▁▁▁▁▁▁▁▁▁▁▁▁▁▁▁</td></tr><tr><td>train_acc</td><td>▁▆▆▇▇▇▇█▇▇▇▇▇█▇█▇█████████▇█████████████</td></tr><tr><td>train_loss</td><td>█▆▅▄▃▃▂▂▂▂▂▂▂▂▂▂▂▂▂▁▁▁▁▁▂▁▂▁▁▁▁▁▁▁▁▁▁▁▁▁</td></tr></table><br/></div><div class=\"wandb-col\"><h3>Run summary:</h3><br/><table class=\"wandb\"><tr><td>epoch</td><td>50</td></tr><tr><td>test_acc</td><td>1</td></tr><tr><td>test_loss</td><td>0.04532</td></tr><tr><td>train_acc</td><td>0.97266</td></tr><tr><td>train_loss</td><td>0.08237</td></tr></table><br/></div></div>"
            ],
            "text/plain": [
              "<IPython.core.display.HTML object>"
            ]
          },
          "metadata": {},
          "output_type": "display_data"
        },
        {
          "data": {
            "text/html": [
              " View run <strong style=\"color:#cdcd00\">effnetv2_50_epochs_exp_1</strong> at: <a href='https://wandb.ai/ellesar-srbiau/your-project-name/runs/zjqc6ixt' target=\"_blank\">https://wandb.ai/ellesar-srbiau/your-project-name/runs/zjqc6ixt</a><br> View project at: <a href='https://wandb.ai/ellesar-srbiau/your-project-name' target=\"_blank\">https://wandb.ai/ellesar-srbiau/your-project-name</a><br>Synced 5 W&B file(s), 0 media file(s), 0 artifact file(s) and 0 other file(s)"
            ],
            "text/plain": [
              "<IPython.core.display.HTML object>"
            ]
          },
          "metadata": {},
          "output_type": "display_data"
        },
        {
          "data": {
            "text/html": [
              "Find logs at: <code>./wandb/run-20250718_165947-zjqc6ixt/logs</code>"
            ],
            "text/plain": [
              "<IPython.core.display.HTML object>"
            ]
          },
          "metadata": {},
          "output_type": "display_data"
        },
        {
          "data": {
            "text/html": [
              "Tracking run with wandb version 0.21.0"
            ],
            "text/plain": [
              "<IPython.core.display.HTML object>"
            ]
          },
          "metadata": {},
          "output_type": "display_data"
        },
        {
          "data": {
            "text/html": [
              "Run data is saved locally in <code>/content/wandb/run-20250718_171407-3q42wvnq</code>"
            ],
            "text/plain": [
              "<IPython.core.display.HTML object>"
            ]
          },
          "metadata": {},
          "output_type": "display_data"
        },
        {
          "data": {
            "text/html": [
              "Syncing run <strong><a href='https://wandb.ai/ellesar-srbiau/your-project-name/runs/3q42wvnq' target=\"_blank\">inception_50_epochs_exp_2</a></strong> to <a href='https://wandb.ai/ellesar-srbiau/your-project-name' target=\"_blank\">Weights & Biases</a> (<a href='https://wandb.me/developer-guide' target=\"_blank\">docs</a>)<br>"
            ],
            "text/plain": [
              "<IPython.core.display.HTML object>"
            ]
          },
          "metadata": {},
          "output_type": "display_data"
        },
        {
          "data": {
            "text/html": [
              " View project at <a href='https://wandb.ai/ellesar-srbiau/your-project-name' target=\"_blank\">https://wandb.ai/ellesar-srbiau/your-project-name</a>"
            ],
            "text/plain": [
              "<IPython.core.display.HTML object>"
            ]
          },
          "metadata": {},
          "output_type": "display_data"
        },
        {
          "data": {
            "text/html": [
              " View run at <a href='https://wandb.ai/ellesar-srbiau/your-project-name/runs/3q42wvnq' target=\"_blank\">https://wandb.ai/ellesar-srbiau/your-project-name/runs/3q42wvnq</a>"
            ],
            "text/plain": [
              "<IPython.core.display.HTML object>"
            ]
          },
          "metadata": {},
          "output_type": "display_data"
        },
        {
          "data": {
            "application/vnd.jupyter.widget-view+json": {
              "model_id": "05424f2c155e4a809542d70a70e46d3c",
              "version_major": 2,
              "version_minor": 0
            },
            "text/plain": [
              "  0%|          | 0/50 [00:00<?, ?it/s]"
            ]
          },
          "metadata": {},
          "output_type": "display_data"
        },
        {
          "name": "stdout",
          "output_type": "stream",
          "text": [
            "Epoch: 1 | train_loss: 0.6147 | train_acc: 0.6725 | test_loss: 0.5590 | test_acc: 0.8281\n",
            "Epoch: 2 | train_loss: 0.4874 | train_acc: 0.7793 | test_loss: 0.6165 | test_acc: 0.5625\n",
            "Epoch: 3 | train_loss: 0.4273 | train_acc: 0.7793 | test_loss: 0.4637 | test_acc: 0.8125\n",
            "Epoch: 4 | train_loss: 0.3095 | train_acc: 0.8763 | test_loss: 0.2743 | test_acc: 0.9219\n",
            "Epoch: 5 | train_loss: 0.2840 | train_acc: 0.8984 | test_loss: 0.2162 | test_acc: 0.9219\n",
            "Epoch: 6 | train_loss: 0.2517 | train_acc: 0.8848 | test_loss: 0.2623 | test_acc: 0.9219\n",
            "Epoch: 7 | train_loss: 0.2168 | train_acc: 0.9095 | test_loss: 0.1970 | test_acc: 0.9219\n",
            "Epoch: 8 | train_loss: 0.1918 | train_acc: 0.9225 | test_loss: 0.1680 | test_acc: 0.9453\n",
            "Epoch: 9 | train_loss: 0.1992 | train_acc: 0.9095 | test_loss: 0.1598 | test_acc: 0.9297\n",
            "Epoch: 10 | train_loss: 0.1574 | train_acc: 0.9395 | test_loss: 0.1433 | test_acc: 0.9609\n",
            "Epoch: 11 | train_loss: 0.2561 | train_acc: 0.8776 | test_loss: 0.1704 | test_acc: 0.9297\n",
            "Epoch: 12 | train_loss: 0.2542 | train_acc: 0.8913 | test_loss: 0.1379 | test_acc: 0.9453\n",
            "Epoch: 13 | train_loss: 0.2215 | train_acc: 0.9173 | test_loss: 0.2554 | test_acc: 0.9219\n",
            "Epoch: 14 | train_loss: 0.1645 | train_acc: 0.9316 | test_loss: 0.2706 | test_acc: 0.9219\n",
            "Epoch: 15 | train_loss: 0.1814 | train_acc: 0.9238 | test_loss: 0.1444 | test_acc: 0.9453\n",
            "Epoch: 16 | train_loss: 0.2313 | train_acc: 0.9056 | test_loss: 0.1257 | test_acc: 0.9531\n",
            "Epoch: 17 | train_loss: 0.1653 | train_acc: 0.9453 | test_loss: 0.1255 | test_acc: 0.9609\n",
            "Epoch: 18 | train_loss: 0.1342 | train_acc: 0.9434 | test_loss: 0.1909 | test_acc: 0.9297\n",
            "Epoch: 19 | train_loss: 0.1385 | train_acc: 0.9388 | test_loss: 0.1436 | test_acc: 0.9453\n",
            "Epoch: 20 | train_loss: 0.0907 | train_acc: 0.9564 | test_loss: 0.1028 | test_acc: 0.9688\n",
            "Epoch: 21 | train_loss: 0.1343 | train_acc: 0.9447 | test_loss: 0.1339 | test_acc: 0.9531\n",
            "Epoch: 22 | train_loss: 0.1189 | train_acc: 0.9551 | test_loss: 0.1134 | test_acc: 0.9688\n",
            "Epoch: 23 | train_loss: 0.1449 | train_acc: 0.9329 | test_loss: 0.1557 | test_acc: 0.9297\n",
            "Epoch: 24 | train_loss: 0.1396 | train_acc: 0.9375 | test_loss: 0.0837 | test_acc: 0.9766\n",
            "Epoch: 25 | train_loss: 0.1384 | train_acc: 0.9316 | test_loss: 0.0931 | test_acc: 0.9844\n",
            "Epoch: 26 | train_loss: 0.1713 | train_acc: 0.9316 | test_loss: 0.1121 | test_acc: 0.9766\n",
            "Epoch: 27 | train_loss: 0.1789 | train_acc: 0.9408 | test_loss: 0.0850 | test_acc: 0.9766\n",
            "Epoch: 28 | train_loss: 0.1434 | train_acc: 0.9505 | test_loss: 0.1245 | test_acc: 0.9609\n",
            "Epoch: 29 | train_loss: 0.1534 | train_acc: 0.9316 | test_loss: 0.2800 | test_acc: 0.8594\n",
            "Epoch: 30 | train_loss: 0.0804 | train_acc: 0.9727 | test_loss: 0.0785 | test_acc: 0.9922\n",
            "Epoch: 31 | train_loss: 0.1094 | train_acc: 0.9668 | test_loss: 0.0731 | test_acc: 0.9766\n",
            "Epoch: 32 | train_loss: 0.1650 | train_acc: 0.9375 | test_loss: 0.0833 | test_acc: 0.9844\n",
            "Epoch: 33 | train_loss: 0.1469 | train_acc: 0.9531 | test_loss: 0.1661 | test_acc: 0.9453\n",
            "Epoch: 34 | train_loss: 0.0876 | train_acc: 0.9688 | test_loss: 0.1941 | test_acc: 0.9453\n",
            "Epoch: 35 | train_loss: 0.1492 | train_acc: 0.9453 | test_loss: 0.0922 | test_acc: 0.9844\n",
            "Epoch: 36 | train_loss: 0.1248 | train_acc: 0.9447 | test_loss: 0.0730 | test_acc: 0.9844\n",
            "Epoch: 37 | train_loss: 0.1546 | train_acc: 0.9329 | test_loss: 0.0734 | test_acc: 0.9844\n",
            "Epoch: 38 | train_loss: 0.0943 | train_acc: 0.9648 | test_loss: 0.0796 | test_acc: 0.9922\n",
            "Epoch: 39 | train_loss: 0.0921 | train_acc: 0.9661 | test_loss: 0.0997 | test_acc: 0.9922\n",
            "Epoch: 40 | train_loss: 0.0995 | train_acc: 0.9688 | test_loss: 0.0762 | test_acc: 0.9766\n",
            "Epoch: 41 | train_loss: 0.0766 | train_acc: 0.9707 | test_loss: 0.1028 | test_acc: 0.9844\n",
            "Epoch: 42 | train_loss: 0.1187 | train_acc: 0.9440 | test_loss: 0.0767 | test_acc: 0.9844\n",
            "Epoch: 43 | train_loss: 0.1237 | train_acc: 0.9531 | test_loss: 0.0869 | test_acc: 0.9922\n",
            "Epoch: 44 | train_loss: 0.0938 | train_acc: 0.9648 | test_loss: 0.1068 | test_acc: 0.9766\n",
            "Epoch: 45 | train_loss: 0.0740 | train_acc: 0.9688 | test_loss: 0.0806 | test_acc: 0.9766\n",
            "Epoch: 46 | train_loss: 0.1842 | train_acc: 0.9427 | test_loss: 0.0738 | test_acc: 0.9766\n",
            "Epoch: 47 | train_loss: 0.0981 | train_acc: 0.9531 | test_loss: 0.2040 | test_acc: 0.9219\n",
            "Epoch: 48 | train_loss: 0.0765 | train_acc: 0.9668 | test_loss: 0.0727 | test_acc: 0.9766\n",
            "Epoch: 49 | train_loss: 0.0871 | train_acc: 0.9609 | test_loss: 0.0925 | test_acc: 0.9844\n",
            "Epoch: 50 | train_loss: 0.0884 | train_acc: 0.9727 | test_loss: 0.0915 | test_acc: 0.9922\n",
            "[INFO] Saving model to: models/01_inception_50_epochs.pth\n",
            "--------------------------------------------------\n",
            "\n",
            "[INFO] Experiment number: 3\n",
            "[INFO] Model: mobilenetv3\n",
            "[INFO] Number of epochs: 50\n",
            "[INFO] Created new mobilenetv3 model.\n"
          ]
        },
        {
          "data": {
            "text/html": [
              "Finishing previous runs because reinit is set to 'default'."
            ],
            "text/plain": [
              "<IPython.core.display.HTML object>"
            ]
          },
          "metadata": {},
          "output_type": "display_data"
        },
        {
          "data": {
            "text/html": [],
            "text/plain": [
              "<IPython.core.display.HTML object>"
            ]
          },
          "metadata": {},
          "output_type": "display_data"
        },
        {
          "data": {
            "text/html": [
              "<br>    <style><br>        .wandb-row {<br>            display: flex;<br>            flex-direction: row;<br>            flex-wrap: wrap;<br>            justify-content: flex-start;<br>            width: 100%;<br>        }<br>        .wandb-col {<br>            display: flex;<br>            flex-direction: column;<br>            flex-basis: 100%;<br>            flex: 1;<br>            padding: 10px;<br>        }<br>    </style><br><div class=\"wandb-row\"><div class=\"wandb-col\"><h3>Run history:</h3><br/><table class=\"wandb\"><tr><td>epoch</td><td>▁▁▁▁▂▂▂▂▂▂▃▃▃▃▃▄▄▄▄▄▄▅▅▅▅▅▅▆▆▆▆▇▇▇▇▇▇███</td></tr><tr><td>test_acc</td><td>▅▁▅▇▇▇▇▇▇▇▇▇▇▇▇▇█▇█▇███▇▆██▇▇████████▇██</td></tr><tr><td>test_loss</td><td>▇█▆▄▃▃▂▂▂▂▃▄▂▂▂▂▁▂▂▂▁▂▁▂▄▁▂▃▁▁▁▁▁▁▁▁▁▃▁▁</td></tr><tr><td>train_acc</td><td>▁▃▃▆▆▇▇▇▆▆▇▆▇▇▇▇█▇▇▇▇▇▇████▇▇▇███▇██▇███</td></tr><tr><td>train_loss</td><td>█▆▆▄▄▃▃▃▃▃▂▂▃▂▂▁▂▂▂▂▂▂▂▁▁▂▁▂▂▂▁▁▁▂▂▁▂▁▁▁</td></tr></table><br/></div><div class=\"wandb-col\"><h3>Run summary:</h3><br/><table class=\"wandb\"><tr><td>epoch</td><td>50</td></tr><tr><td>test_acc</td><td>0.99219</td></tr><tr><td>test_loss</td><td>0.09147</td></tr><tr><td>train_acc</td><td>0.97266</td></tr><tr><td>train_loss</td><td>0.08841</td></tr></table><br/></div></div>"
            ],
            "text/plain": [
              "<IPython.core.display.HTML object>"
            ]
          },
          "metadata": {},
          "output_type": "display_data"
        },
        {
          "data": {
            "text/html": [
              " View run <strong style=\"color:#cdcd00\">inception_50_epochs_exp_2</strong> at: <a href='https://wandb.ai/ellesar-srbiau/your-project-name/runs/3q42wvnq' target=\"_blank\">https://wandb.ai/ellesar-srbiau/your-project-name/runs/3q42wvnq</a><br> View project at: <a href='https://wandb.ai/ellesar-srbiau/your-project-name' target=\"_blank\">https://wandb.ai/ellesar-srbiau/your-project-name</a><br>Synced 5 W&B file(s), 0 media file(s), 0 artifact file(s) and 0 other file(s)"
            ],
            "text/plain": [
              "<IPython.core.display.HTML object>"
            ]
          },
          "metadata": {},
          "output_type": "display_data"
        },
        {
          "data": {
            "text/html": [
              "Find logs at: <code>./wandb/run-20250718_171407-3q42wvnq/logs</code>"
            ],
            "text/plain": [
              "<IPython.core.display.HTML object>"
            ]
          },
          "metadata": {},
          "output_type": "display_data"
        },
        {
          "data": {
            "text/html": [
              "Tracking run with wandb version 0.21.0"
            ],
            "text/plain": [
              "<IPython.core.display.HTML object>"
            ]
          },
          "metadata": {},
          "output_type": "display_data"
        },
        {
          "data": {
            "text/html": [
              "Run data is saved locally in <code>/content/wandb/run-20250718_171906-ppub56d2</code>"
            ],
            "text/plain": [
              "<IPython.core.display.HTML object>"
            ]
          },
          "metadata": {},
          "output_type": "display_data"
        },
        {
          "data": {
            "text/html": [
              "Syncing run <strong><a href='https://wandb.ai/ellesar-srbiau/your-project-name/runs/ppub56d2' target=\"_blank\">mobilenetv3_50_epochs_exp_3</a></strong> to <a href='https://wandb.ai/ellesar-srbiau/your-project-name' target=\"_blank\">Weights & Biases</a> (<a href='https://wandb.me/developer-guide' target=\"_blank\">docs</a>)<br>"
            ],
            "text/plain": [
              "<IPython.core.display.HTML object>"
            ]
          },
          "metadata": {},
          "output_type": "display_data"
        },
        {
          "data": {
            "text/html": [
              " View project at <a href='https://wandb.ai/ellesar-srbiau/your-project-name' target=\"_blank\">https://wandb.ai/ellesar-srbiau/your-project-name</a>"
            ],
            "text/plain": [
              "<IPython.core.display.HTML object>"
            ]
          },
          "metadata": {},
          "output_type": "display_data"
        },
        {
          "data": {
            "text/html": [
              " View run at <a href='https://wandb.ai/ellesar-srbiau/your-project-name/runs/ppub56d2' target=\"_blank\">https://wandb.ai/ellesar-srbiau/your-project-name/runs/ppub56d2</a>"
            ],
            "text/plain": [
              "<IPython.core.display.HTML object>"
            ]
          },
          "metadata": {},
          "output_type": "display_data"
        },
        {
          "data": {
            "application/vnd.jupyter.widget-view+json": {
              "model_id": "20229137009642eaa7d0bde11a20547f",
              "version_major": 2,
              "version_minor": 0
            },
            "text/plain": [
              "  0%|          | 0/50 [00:00<?, ?it/s]"
            ]
          },
          "metadata": {},
          "output_type": "display_data"
        },
        {
          "name": "stdout",
          "output_type": "stream",
          "text": [
            "Epoch: 1 | train_loss: 0.5646 | train_acc: 0.7611 | test_loss: 0.6304 | test_acc: 0.5859\n",
            "Epoch: 2 | train_loss: 0.3561 | train_acc: 0.9017 | test_loss: 0.5309 | test_acc: 0.7109\n",
            "Epoch: 3 | train_loss: 0.2734 | train_acc: 0.9303 | test_loss: 0.4902 | test_acc: 0.7266\n",
            "Epoch: 4 | train_loss: 0.2128 | train_acc: 0.9570 | test_loss: 0.4746 | test_acc: 0.7188\n",
            "Epoch: 5 | train_loss: 0.1829 | train_acc: 0.9622 | test_loss: 0.4568 | test_acc: 0.7578\n",
            "Epoch: 6 | train_loss: 0.1616 | train_acc: 0.9707 | test_loss: 0.4344 | test_acc: 0.7656\n",
            "Epoch: 7 | train_loss: 0.1399 | train_acc: 0.9805 | test_loss: 0.4554 | test_acc: 0.7578\n",
            "Epoch: 8 | train_loss: 0.1344 | train_acc: 0.9824 | test_loss: 0.4676 | test_acc: 0.7266\n",
            "Epoch: 9 | train_loss: 0.1194 | train_acc: 0.9824 | test_loss: 0.4531 | test_acc: 0.7266\n",
            "Epoch: 10 | train_loss: 0.1108 | train_acc: 0.9824 | test_loss: 0.4455 | test_acc: 0.7188\n",
            "Epoch: 11 | train_loss: 0.1462 | train_acc: 0.9714 | test_loss: 0.4307 | test_acc: 0.7344\n",
            "Epoch: 12 | train_loss: 0.1084 | train_acc: 0.9694 | test_loss: 0.4061 | test_acc: 0.7656\n",
            "Epoch: 13 | train_loss: 0.1035 | train_acc: 0.9844 | test_loss: 0.3848 | test_acc: 0.8047\n",
            "Epoch: 14 | train_loss: 0.0881 | train_acc: 0.9941 | test_loss: 0.3607 | test_acc: 0.8359\n",
            "Epoch: 15 | train_loss: 0.0839 | train_acc: 0.9922 | test_loss: 0.3529 | test_acc: 0.8203\n",
            "Epoch: 16 | train_loss: 0.0794 | train_acc: 0.9941 | test_loss: 0.3329 | test_acc: 0.8359\n",
            "Epoch: 17 | train_loss: 0.0627 | train_acc: 1.0000 | test_loss: 0.3096 | test_acc: 0.8984\n",
            "Epoch: 18 | train_loss: 0.0662 | train_acc: 0.9961 | test_loss: 0.3018 | test_acc: 0.9062\n",
            "Epoch: 19 | train_loss: 0.0744 | train_acc: 0.9922 | test_loss: 0.2944 | test_acc: 0.9062\n",
            "Epoch: 20 | train_loss: 0.0584 | train_acc: 0.9980 | test_loss: 0.2734 | test_acc: 0.9297\n",
            "Epoch: 21 | train_loss: 0.0624 | train_acc: 0.9941 | test_loss: 0.2490 | test_acc: 0.9453\n",
            "Epoch: 22 | train_loss: 0.0566 | train_acc: 0.9941 | test_loss: 0.2313 | test_acc: 0.9609\n",
            "Epoch: 23 | train_loss: 0.0496 | train_acc: 0.9961 | test_loss: 0.2123 | test_acc: 0.9609\n",
            "Epoch: 24 | train_loss: 0.0477 | train_acc: 0.9980 | test_loss: 0.1934 | test_acc: 0.9688\n",
            "Epoch: 25 | train_loss: 0.0541 | train_acc: 0.9961 | test_loss: 0.1813 | test_acc: 0.9688\n",
            "Epoch: 26 | train_loss: 0.0533 | train_acc: 0.9922 | test_loss: 0.1729 | test_acc: 0.9531\n",
            "Epoch: 27 | train_loss: 0.0538 | train_acc: 0.9896 | test_loss: 0.1622 | test_acc: 0.9531\n",
            "Epoch: 28 | train_loss: 0.0418 | train_acc: 0.9941 | test_loss: 0.1508 | test_acc: 0.9453\n",
            "Epoch: 29 | train_loss: 0.0437 | train_acc: 0.9961 | test_loss: 0.1448 | test_acc: 0.9453\n",
            "Epoch: 30 | train_loss: 0.0420 | train_acc: 0.9961 | test_loss: 0.1411 | test_acc: 0.9609\n",
            "Epoch: 31 | train_loss: 0.0474 | train_acc: 0.9941 | test_loss: 0.1344 | test_acc: 0.9531\n",
            "Epoch: 32 | train_loss: 0.0394 | train_acc: 1.0000 | test_loss: 0.1278 | test_acc: 0.9375\n",
            "Epoch: 33 | train_loss: 0.0425 | train_acc: 0.9941 | test_loss: 0.1216 | test_acc: 0.9375\n",
            "Epoch: 34 | train_loss: 0.0372 | train_acc: 0.9980 | test_loss: 0.1160 | test_acc: 0.9375\n",
            "Epoch: 35 | train_loss: 0.0359 | train_acc: 1.0000 | test_loss: 0.1107 | test_acc: 0.9531\n",
            "Epoch: 36 | train_loss: 0.0328 | train_acc: 1.0000 | test_loss: 0.1051 | test_acc: 0.9531\n",
            "Epoch: 37 | train_loss: 0.0298 | train_acc: 0.9980 | test_loss: 0.0999 | test_acc: 0.9531\n",
            "Epoch: 38 | train_loss: 0.0408 | train_acc: 1.0000 | test_loss: 0.0996 | test_acc: 0.9531\n",
            "Epoch: 39 | train_loss: 0.0491 | train_acc: 0.9857 | test_loss: 0.1029 | test_acc: 0.9531\n",
            "Epoch: 40 | train_loss: 0.0282 | train_acc: 1.0000 | test_loss: 0.1009 | test_acc: 0.9531\n",
            "Epoch: 41 | train_loss: 0.0324 | train_acc: 0.9961 | test_loss: 0.0995 | test_acc: 0.9531\n",
            "Epoch: 42 | train_loss: 0.0348 | train_acc: 1.0000 | test_loss: 0.0966 | test_acc: 0.9609\n",
            "Epoch: 43 | train_loss: 0.0220 | train_acc: 1.0000 | test_loss: 0.0961 | test_acc: 0.9688\n",
            "Epoch: 44 | train_loss: 0.0348 | train_acc: 0.9980 | test_loss: 0.0929 | test_acc: 0.9688\n",
            "Epoch: 45 | train_loss: 0.0271 | train_acc: 1.0000 | test_loss: 0.0898 | test_acc: 0.9688\n",
            "Epoch: 46 | train_loss: 0.0355 | train_acc: 0.9961 | test_loss: 0.0876 | test_acc: 0.9688\n",
            "Epoch: 47 | train_loss: 0.0327 | train_acc: 1.0000 | test_loss: 0.0859 | test_acc: 0.9688\n",
            "Epoch: 48 | train_loss: 0.0221 | train_acc: 1.0000 | test_loss: 0.0848 | test_acc: 0.9688\n",
            "Epoch: 49 | train_loss: 0.0246 | train_acc: 0.9980 | test_loss: 0.0827 | test_acc: 0.9688\n",
            "Epoch: 50 | train_loss: 0.0219 | train_acc: 1.0000 | test_loss: 0.0800 | test_acc: 0.9688\n",
            "[INFO] Saving model to: models/01_mobilenetv3_50_epochs.pth\n",
            "--------------------------------------------------\n",
            "\n",
            "[INFO] Experiment number: 4\n",
            "[INFO] Model: resnet50\n",
            "[INFO] Number of epochs: 50\n",
            "[INFO] Created new resnet50 model.\n"
          ]
        },
        {
          "data": {
            "text/html": [
              "Finishing previous runs because reinit is set to 'default'."
            ],
            "text/plain": [
              "<IPython.core.display.HTML object>"
            ]
          },
          "metadata": {},
          "output_type": "display_data"
        },
        {
          "data": {
            "text/html": [],
            "text/plain": [
              "<IPython.core.display.HTML object>"
            ]
          },
          "metadata": {},
          "output_type": "display_data"
        },
        {
          "data": {
            "text/html": [
              "<br>    <style><br>        .wandb-row {<br>            display: flex;<br>            flex-direction: row;<br>            flex-wrap: wrap;<br>            justify-content: flex-start;<br>            width: 100%;<br>        }<br>        .wandb-col {<br>            display: flex;<br>            flex-direction: column;<br>            flex-basis: 100%;<br>            flex: 1;<br>            padding: 10px;<br>        }<br>    </style><br><div class=\"wandb-row\"><div class=\"wandb-col\"><h3>Run history:</h3><br/><table class=\"wandb\"><tr><td>epoch</td><td>▁▁▁▁▂▂▂▂▂▂▃▃▃▃▃▄▄▄▄▄▅▅▅▅▅▆▆▆▆▆▆▇▇▇▇▇▇███</td></tr><tr><td>test_acc</td><td>▁▃▄▃▄▄▄▄▃▄▅▆▅▆▇▇▇█████████▇▇▇███████████</td></tr><tr><td>test_loss</td><td>█▇▆▆▆▆▆▆▅▅▅▄▄▄▄▃▃▃▃▂▂▂▂▂▂▂▁▁▁▁▁▁▁▁▁▁▁▁▁▁</td></tr><tr><td>train_acc</td><td>▁▅▆▇▇▇▇▇▇▇██████████████████████████████</td></tr><tr><td>train_loss</td><td>█▅▄▃▃▃▂▂▂▃▂▂▂▂▂▂▁▂▁▁▁▁▁▁▁▁▁▁▁▁▁▁▁▁▁▁▁▁▁▁</td></tr></table><br/></div><div class=\"wandb-col\"><h3>Run summary:</h3><br/><table class=\"wandb\"><tr><td>epoch</td><td>50</td></tr><tr><td>test_acc</td><td>0.96875</td></tr><tr><td>test_loss</td><td>0.08002</td></tr><tr><td>train_acc</td><td>1</td></tr><tr><td>train_loss</td><td>0.0219</td></tr></table><br/></div></div>"
            ],
            "text/plain": [
              "<IPython.core.display.HTML object>"
            ]
          },
          "metadata": {},
          "output_type": "display_data"
        },
        {
          "data": {
            "text/html": [
              " View run <strong style=\"color:#cdcd00\">mobilenetv3_50_epochs_exp_3</strong> at: <a href='https://wandb.ai/ellesar-srbiau/your-project-name/runs/ppub56d2' target=\"_blank\">https://wandb.ai/ellesar-srbiau/your-project-name/runs/ppub56d2</a><br> View project at: <a href='https://wandb.ai/ellesar-srbiau/your-project-name' target=\"_blank\">https://wandb.ai/ellesar-srbiau/your-project-name</a><br>Synced 5 W&B file(s), 0 media file(s), 0 artifact file(s) and 0 other file(s)"
            ],
            "text/plain": [
              "<IPython.core.display.HTML object>"
            ]
          },
          "metadata": {},
          "output_type": "display_data"
        },
        {
          "data": {
            "text/html": [
              "Find logs at: <code>./wandb/run-20250718_171906-ppub56d2/logs</code>"
            ],
            "text/plain": [
              "<IPython.core.display.HTML object>"
            ]
          },
          "metadata": {},
          "output_type": "display_data"
        },
        {
          "data": {
            "text/html": [
              "Tracking run with wandb version 0.21.0"
            ],
            "text/plain": [
              "<IPython.core.display.HTML object>"
            ]
          },
          "metadata": {},
          "output_type": "display_data"
        },
        {
          "data": {
            "text/html": [
              "Run data is saved locally in <code>/content/wandb/run-20250718_172227-3lt7y4ye</code>"
            ],
            "text/plain": [
              "<IPython.core.display.HTML object>"
            ]
          },
          "metadata": {},
          "output_type": "display_data"
        },
        {
          "data": {
            "text/html": [
              "Syncing run <strong><a href='https://wandb.ai/ellesar-srbiau/your-project-name/runs/3lt7y4ye' target=\"_blank\">resnet50_50_epochs_exp_4</a></strong> to <a href='https://wandb.ai/ellesar-srbiau/your-project-name' target=\"_blank\">Weights & Biases</a> (<a href='https://wandb.me/developer-guide' target=\"_blank\">docs</a>)<br>"
            ],
            "text/plain": [
              "<IPython.core.display.HTML object>"
            ]
          },
          "metadata": {},
          "output_type": "display_data"
        },
        {
          "data": {
            "text/html": [
              " View project at <a href='https://wandb.ai/ellesar-srbiau/your-project-name' target=\"_blank\">https://wandb.ai/ellesar-srbiau/your-project-name</a>"
            ],
            "text/plain": [
              "<IPython.core.display.HTML object>"
            ]
          },
          "metadata": {},
          "output_type": "display_data"
        },
        {
          "data": {
            "text/html": [
              " View run at <a href='https://wandb.ai/ellesar-srbiau/your-project-name/runs/3lt7y4ye' target=\"_blank\">https://wandb.ai/ellesar-srbiau/your-project-name/runs/3lt7y4ye</a>"
            ],
            "text/plain": [
              "<IPython.core.display.HTML object>"
            ]
          },
          "metadata": {},
          "output_type": "display_data"
        },
        {
          "data": {
            "application/vnd.jupyter.widget-view+json": {
              "model_id": "91a9366584934bf3b04514b2d94c2f55",
              "version_major": 2,
              "version_minor": 0
            },
            "text/plain": [
              "  0%|          | 0/50 [00:00<?, ?it/s]"
            ]
          },
          "metadata": {},
          "output_type": "display_data"
        },
        {
          "name": "stdout",
          "output_type": "stream",
          "text": [
            "Epoch: 1 | train_loss: 0.6101 | train_acc: 0.7272 | test_loss: 0.6459 | test_acc: 0.5234\n",
            "Epoch: 2 | train_loss: 0.4617 | train_acc: 0.9141 | test_loss: 1.0780 | test_acc: 0.4141\n",
            "Epoch: 3 | train_loss: 0.3842 | train_acc: 0.8783 | test_loss: 0.5872 | test_acc: 0.5859\n",
            "Epoch: 4 | train_loss: 0.3496 | train_acc: 0.9095 | test_loss: 0.5179 | test_acc: 0.7188\n",
            "Epoch: 5 | train_loss: 0.2992 | train_acc: 0.9284 | test_loss: 0.3236 | test_acc: 0.9062\n",
            "Epoch: 6 | train_loss: 0.2626 | train_acc: 0.9473 | test_loss: 0.2728 | test_acc: 0.9375\n",
            "Epoch: 7 | train_loss: 0.2345 | train_acc: 0.9551 | test_loss: 0.2636 | test_acc: 0.9375\n",
            "Epoch: 8 | train_loss: 0.2258 | train_acc: 0.9447 | test_loss: 0.2310 | test_acc: 0.9375\n",
            "Epoch: 9 | train_loss: 0.2039 | train_acc: 0.9609 | test_loss: 0.2147 | test_acc: 0.9688\n",
            "Epoch: 10 | train_loss: 0.1896 | train_acc: 0.9629 | test_loss: 0.2094 | test_acc: 0.9531\n",
            "Epoch: 11 | train_loss: 0.1714 | train_acc: 0.9707 | test_loss: 0.1985 | test_acc: 0.9531\n",
            "Epoch: 12 | train_loss: 0.1550 | train_acc: 0.9785 | test_loss: 0.1902 | test_acc: 0.9531\n",
            "Epoch: 13 | train_loss: 0.1618 | train_acc: 0.9766 | test_loss: 0.1883 | test_acc: 0.9688\n",
            "Epoch: 14 | train_loss: 0.1469 | train_acc: 0.9766 | test_loss: 0.1709 | test_acc: 0.9766\n",
            "Epoch: 15 | train_loss: 0.1412 | train_acc: 0.9844 | test_loss: 0.1674 | test_acc: 0.9688\n",
            "Epoch: 16 | train_loss: 0.1456 | train_acc: 0.9805 | test_loss: 0.1560 | test_acc: 0.9766\n",
            "Epoch: 17 | train_loss: 0.1240 | train_acc: 0.9902 | test_loss: 0.1516 | test_acc: 0.9844\n",
            "Epoch: 18 | train_loss: 0.1086 | train_acc: 0.9902 | test_loss: 0.1522 | test_acc: 0.9766\n",
            "Epoch: 19 | train_loss: 0.1117 | train_acc: 0.9883 | test_loss: 0.1438 | test_acc: 0.9922\n",
            "Epoch: 20 | train_loss: 0.1241 | train_acc: 0.9863 | test_loss: 0.1356 | test_acc: 0.9844\n",
            "Epoch: 21 | train_loss: 0.1267 | train_acc: 0.9694 | test_loss: 0.1387 | test_acc: 0.9844\n",
            "Epoch: 22 | train_loss: 0.1131 | train_acc: 0.9883 | test_loss: 0.1317 | test_acc: 0.9844\n",
            "Epoch: 23 | train_loss: 0.1157 | train_acc: 0.9805 | test_loss: 0.1376 | test_acc: 0.9688\n",
            "Epoch: 24 | train_loss: 0.0982 | train_acc: 0.9863 | test_loss: 0.1250 | test_acc: 0.9844\n",
            "Epoch: 25 | train_loss: 0.0956 | train_acc: 0.9980 | test_loss: 0.1273 | test_acc: 0.9766\n",
            "Epoch: 26 | train_loss: 0.0823 | train_acc: 0.9902 | test_loss: 0.1198 | test_acc: 0.9766\n",
            "Epoch: 27 | train_loss: 0.0744 | train_acc: 1.0000 | test_loss: 0.1157 | test_acc: 0.9844\n",
            "Epoch: 28 | train_loss: 0.0843 | train_acc: 0.9961 | test_loss: 0.1183 | test_acc: 0.9766\n",
            "Epoch: 29 | train_loss: 0.0748 | train_acc: 0.9941 | test_loss: 0.1142 | test_acc: 0.9766\n",
            "Epoch: 30 | train_loss: 0.0691 | train_acc: 0.9941 | test_loss: 0.1105 | test_acc: 0.9766\n",
            "Epoch: 31 | train_loss: 0.0765 | train_acc: 0.9876 | test_loss: 0.1091 | test_acc: 0.9844\n",
            "Epoch: 32 | train_loss: 0.0744 | train_acc: 1.0000 | test_loss: 0.1044 | test_acc: 0.9844\n",
            "Epoch: 33 | train_loss: 0.0657 | train_acc: 0.9980 | test_loss: 0.1008 | test_acc: 0.9844\n",
            "Epoch: 34 | train_loss: 0.0703 | train_acc: 0.9980 | test_loss: 0.1022 | test_acc: 0.9844\n",
            "Epoch: 35 | train_loss: 0.0927 | train_acc: 0.9792 | test_loss: 0.1014 | test_acc: 0.9844\n",
            "Epoch: 36 | train_loss: 0.0634 | train_acc: 0.9941 | test_loss: 0.0970 | test_acc: 0.9844\n",
            "Epoch: 37 | train_loss: 0.0825 | train_acc: 0.9837 | test_loss: 0.1053 | test_acc: 0.9688\n",
            "Epoch: 38 | train_loss: 0.0575 | train_acc: 1.0000 | test_loss: 0.0981 | test_acc: 0.9844\n",
            "Epoch: 39 | train_loss: 0.0511 | train_acc: 1.0000 | test_loss: 0.0999 | test_acc: 0.9844\n",
            "Epoch: 40 | train_loss: 0.0516 | train_acc: 0.9980 | test_loss: 0.0954 | test_acc: 0.9766\n",
            "Epoch: 41 | train_loss: 0.0555 | train_acc: 0.9980 | test_loss: 0.0929 | test_acc: 0.9844\n",
            "Epoch: 42 | train_loss: 0.0716 | train_acc: 0.9792 | test_loss: 0.0919 | test_acc: 0.9766\n",
            "Epoch: 43 | train_loss: 0.0630 | train_acc: 0.9961 | test_loss: 0.0920 | test_acc: 0.9766\n",
            "Epoch: 44 | train_loss: 0.0581 | train_acc: 0.9896 | test_loss: 0.0895 | test_acc: 0.9844\n",
            "Epoch: 45 | train_loss: 0.0458 | train_acc: 0.9980 | test_loss: 0.0955 | test_acc: 0.9766\n",
            "Epoch: 46 | train_loss: 0.0459 | train_acc: 0.9961 | test_loss: 0.0885 | test_acc: 0.9766\n",
            "Epoch: 47 | train_loss: 0.0469 | train_acc: 0.9961 | test_loss: 0.0954 | test_acc: 0.9766\n",
            "Epoch: 48 | train_loss: 0.0406 | train_acc: 1.0000 | test_loss: 0.0904 | test_acc: 0.9766\n",
            "Epoch: 49 | train_loss: 0.0431 | train_acc: 1.0000 | test_loss: 0.0830 | test_acc: 0.9844\n",
            "Epoch: 50 | train_loss: 0.0430 | train_acc: 1.0000 | test_loss: 0.0861 | test_acc: 0.9766\n",
            "[INFO] Saving model to: models/01_resnet50_50_epochs.pth\n",
            "--------------------------------------------------\n",
            "\n",
            "[INFO] Experiment number: 5\n",
            "[INFO] Model: vgg16bn\n",
            "[INFO] Number of epochs: 50\n",
            "[INFO] Created new vgg16bn model.\n"
          ]
        },
        {
          "data": {
            "text/html": [
              "Finishing previous runs because reinit is set to 'default'."
            ],
            "text/plain": [
              "<IPython.core.display.HTML object>"
            ]
          },
          "metadata": {},
          "output_type": "display_data"
        },
        {
          "data": {
            "text/html": [],
            "text/plain": [
              "<IPython.core.display.HTML object>"
            ]
          },
          "metadata": {},
          "output_type": "display_data"
        },
        {
          "data": {
            "text/html": [
              "<br>    <style><br>        .wandb-row {<br>            display: flex;<br>            flex-direction: row;<br>            flex-wrap: wrap;<br>            justify-content: flex-start;<br>            width: 100%;<br>        }<br>        .wandb-col {<br>            display: flex;<br>            flex-direction: column;<br>            flex-basis: 100%;<br>            flex: 1;<br>            padding: 10px;<br>        }<br>    </style><br><div class=\"wandb-row\"><div class=\"wandb-col\"><h3>Run history:</h3><br/><table class=\"wandb\"><tr><td>epoch</td><td>▁▁▁▁▂▂▂▂▂▂▃▃▃▃▃▄▄▄▄▄▄▅▅▅▅▅▅▆▆▆▆▇▇▇▇▇▇███</td></tr><tr><td>test_acc</td><td>▂▁▃▅▇▇▇█████████████████████████████████</td></tr><tr><td>test_loss</td><td>▅█▅▄▃▂▂▂▂▂▂▂▁▁▁▁▁▁▁▁▁▁▁▁▁▁▁▁▁▁▁▁▁▁▁▁▁▁▁▁</td></tr><tr><td>train_acc</td><td>▁▆▅▆▆▇▇▇▇▇▇▇████▇█▇████████▇█████▇██████</td></tr><tr><td>train_loss</td><td>█▆▅▅▄▃▃▃▃▃▂▂▂▂▂▂▂▂▂▂▂▂▁▂▁▁▁▁▁▂▂▁▁▁▁▁▁▁▁▁</td></tr></table><br/></div><div class=\"wandb-col\"><h3>Run summary:</h3><br/><table class=\"wandb\"><tr><td>epoch</td><td>50</td></tr><tr><td>test_acc</td><td>0.97656</td></tr><tr><td>test_loss</td><td>0.08609</td></tr><tr><td>train_acc</td><td>1</td></tr><tr><td>train_loss</td><td>0.04295</td></tr></table><br/></div></div>"
            ],
            "text/plain": [
              "<IPython.core.display.HTML object>"
            ]
          },
          "metadata": {},
          "output_type": "display_data"
        },
        {
          "data": {
            "text/html": [
              " View run <strong style=\"color:#cdcd00\">resnet50_50_epochs_exp_4</strong> at: <a href='https://wandb.ai/ellesar-srbiau/your-project-name/runs/3lt7y4ye' target=\"_blank\">https://wandb.ai/ellesar-srbiau/your-project-name/runs/3lt7y4ye</a><br> View project at: <a href='https://wandb.ai/ellesar-srbiau/your-project-name' target=\"_blank\">https://wandb.ai/ellesar-srbiau/your-project-name</a><br>Synced 5 W&B file(s), 0 media file(s), 0 artifact file(s) and 0 other file(s)"
            ],
            "text/plain": [
              "<IPython.core.display.HTML object>"
            ]
          },
          "metadata": {},
          "output_type": "display_data"
        },
        {
          "data": {
            "text/html": [
              "Find logs at: <code>./wandb/run-20250718_172227-3lt7y4ye/logs</code>"
            ],
            "text/plain": [
              "<IPython.core.display.HTML object>"
            ]
          },
          "metadata": {},
          "output_type": "display_data"
        },
        {
          "data": {
            "text/html": [
              "Tracking run with wandb version 0.21.0"
            ],
            "text/plain": [
              "<IPython.core.display.HTML object>"
            ]
          },
          "metadata": {},
          "output_type": "display_data"
        },
        {
          "data": {
            "text/html": [
              "Run data is saved locally in <code>/content/wandb/run-20250718_172610-5ti7cifa</code>"
            ],
            "text/plain": [
              "<IPython.core.display.HTML object>"
            ]
          },
          "metadata": {},
          "output_type": "display_data"
        },
        {
          "data": {
            "text/html": [
              "Syncing run <strong><a href='https://wandb.ai/ellesar-srbiau/your-project-name/runs/5ti7cifa' target=\"_blank\">vgg16bn_50_epochs_exp_5</a></strong> to <a href='https://wandb.ai/ellesar-srbiau/your-project-name' target=\"_blank\">Weights & Biases</a> (<a href='https://wandb.me/developer-guide' target=\"_blank\">docs</a>)<br>"
            ],
            "text/plain": [
              "<IPython.core.display.HTML object>"
            ]
          },
          "metadata": {},
          "output_type": "display_data"
        },
        {
          "data": {
            "text/html": [
              " View project at <a href='https://wandb.ai/ellesar-srbiau/your-project-name' target=\"_blank\">https://wandb.ai/ellesar-srbiau/your-project-name</a>"
            ],
            "text/plain": [
              "<IPython.core.display.HTML object>"
            ]
          },
          "metadata": {},
          "output_type": "display_data"
        },
        {
          "data": {
            "text/html": [
              " View run at <a href='https://wandb.ai/ellesar-srbiau/your-project-name/runs/5ti7cifa' target=\"_blank\">https://wandb.ai/ellesar-srbiau/your-project-name/runs/5ti7cifa</a>"
            ],
            "text/plain": [
              "<IPython.core.display.HTML object>"
            ]
          },
          "metadata": {},
          "output_type": "display_data"
        },
        {
          "data": {
            "application/vnd.jupyter.widget-view+json": {
              "model_id": "72e9127ae923443c8ae7127df71271ec",
              "version_major": 2,
              "version_minor": 0
            },
            "text/plain": [
              "  0%|          | 0/50 [00:00<?, ?it/s]"
            ]
          },
          "metadata": {},
          "output_type": "display_data"
        },
        {
          "name": "stdout",
          "output_type": "stream",
          "text": [
            "Epoch: 1 | train_loss: 0.5057 | train_acc: 0.7747 | test_loss: 0.2922 | test_acc: 0.8984\n",
            "Epoch: 2 | train_loss: 0.2857 | train_acc: 0.9102 | test_loss: 0.2462 | test_acc: 0.9062\n",
            "Epoch: 3 | train_loss: 0.2356 | train_acc: 0.9115 | test_loss: 0.1972 | test_acc: 0.9375\n",
            "Epoch: 4 | train_loss: 0.2203 | train_acc: 0.9180 | test_loss: 0.1781 | test_acc: 0.9297\n",
            "Epoch: 5 | train_loss: 0.2357 | train_acc: 0.9043 | test_loss: 0.1633 | test_acc: 0.9375\n",
            "Epoch: 6 | train_loss: 0.2343 | train_acc: 0.9010 | test_loss: 0.1546 | test_acc: 0.9453\n",
            "Epoch: 7 | train_loss: 0.1601 | train_acc: 0.9486 | test_loss: 0.1494 | test_acc: 0.9453\n",
            "Epoch: 8 | train_loss: 0.1332 | train_acc: 0.9544 | test_loss: 0.1477 | test_acc: 0.9375\n",
            "Epoch: 9 | train_loss: 0.1486 | train_acc: 0.9486 | test_loss: 0.1346 | test_acc: 0.9688\n",
            "Epoch: 10 | train_loss: 0.1185 | train_acc: 0.9609 | test_loss: 0.1330 | test_acc: 0.9609\n",
            "Epoch: 11 | train_loss: 0.1483 | train_acc: 0.9277 | test_loss: 0.1274 | test_acc: 0.9531\n",
            "Epoch: 12 | train_loss: 0.1256 | train_acc: 0.9590 | test_loss: 0.1222 | test_acc: 0.9453\n",
            "Epoch: 13 | train_loss: 0.1286 | train_acc: 0.9583 | test_loss: 0.1195 | test_acc: 0.9844\n",
            "Epoch: 14 | train_loss: 0.1290 | train_acc: 0.9525 | test_loss: 0.1292 | test_acc: 0.9688\n",
            "Epoch: 15 | train_loss: 0.0955 | train_acc: 0.9688 | test_loss: 0.1174 | test_acc: 0.9766\n",
            "Epoch: 16 | train_loss: 0.1308 | train_acc: 0.9590 | test_loss: 0.1058 | test_acc: 0.9766\n",
            "Epoch: 17 | train_loss: 0.1216 | train_acc: 0.9453 | test_loss: 0.1060 | test_acc: 0.9609\n",
            "Epoch: 18 | train_loss: 0.1235 | train_acc: 0.9479 | test_loss: 0.1041 | test_acc: 0.9609\n",
            "Epoch: 19 | train_loss: 0.1109 | train_acc: 0.9688 | test_loss: 0.0967 | test_acc: 0.9609\n",
            "Epoch: 20 | train_loss: 0.1064 | train_acc: 0.9577 | test_loss: 0.1010 | test_acc: 0.9844\n",
            "Epoch: 21 | train_loss: 0.0927 | train_acc: 0.9629 | test_loss: 0.0973 | test_acc: 0.9766\n",
            "Epoch: 22 | train_loss: 0.0939 | train_acc: 0.9629 | test_loss: 0.1174 | test_acc: 0.9766\n",
            "Epoch: 23 | train_loss: 0.0879 | train_acc: 0.9707 | test_loss: 0.0957 | test_acc: 0.9844\n",
            "Epoch: 24 | train_loss: 0.1259 | train_acc: 0.9479 | test_loss: 0.0979 | test_acc: 0.9688\n",
            "Epoch: 25 | train_loss: 0.1067 | train_acc: 0.9648 | test_loss: 0.1056 | test_acc: 0.9453\n",
            "Epoch: 26 | train_loss: 0.0899 | train_acc: 0.9727 | test_loss: 0.1192 | test_acc: 0.9453\n",
            "Epoch: 27 | train_loss: 0.0712 | train_acc: 0.9785 | test_loss: 0.1053 | test_acc: 0.9766\n",
            "Epoch: 28 | train_loss: 0.0806 | train_acc: 0.9746 | test_loss: 0.0981 | test_acc: 0.9766\n",
            "Epoch: 29 | train_loss: 0.1140 | train_acc: 0.9564 | test_loss: 0.0991 | test_acc: 0.9609\n",
            "Epoch: 30 | train_loss: 0.1096 | train_acc: 0.9375 | test_loss: 0.1142 | test_acc: 0.9766\n",
            "Epoch: 31 | train_loss: 0.1319 | train_acc: 0.9486 | test_loss: 0.1010 | test_acc: 0.9766\n",
            "Epoch: 32 | train_loss: 0.1926 | train_acc: 0.9342 | test_loss: 0.1454 | test_acc: 0.9141\n",
            "Epoch: 33 | train_loss: 0.0826 | train_acc: 0.9707 | test_loss: 0.1221 | test_acc: 0.9453\n",
            "Epoch: 34 | train_loss: 0.0968 | train_acc: 0.9681 | test_loss: 0.1016 | test_acc: 0.9609\n",
            "Epoch: 35 | train_loss: 0.0907 | train_acc: 0.9622 | test_loss: 0.0969 | test_acc: 0.9531\n",
            "Epoch: 36 | train_loss: 0.0589 | train_acc: 0.9779 | test_loss: 0.1000 | test_acc: 0.9688\n",
            "Epoch: 37 | train_loss: 0.0823 | train_acc: 0.9785 | test_loss: 0.0927 | test_acc: 0.9688\n",
            "Epoch: 38 | train_loss: 0.0781 | train_acc: 0.9746 | test_loss: 0.0925 | test_acc: 0.9766\n",
            "Epoch: 39 | train_loss: 0.0911 | train_acc: 0.9688 | test_loss: 0.1026 | test_acc: 0.9766\n",
            "Epoch: 40 | train_loss: 0.0727 | train_acc: 0.9844 | test_loss: 0.0993 | test_acc: 0.9688\n",
            "Epoch: 41 | train_loss: 0.0808 | train_acc: 0.9642 | test_loss: 0.1001 | test_acc: 0.9531\n",
            "Epoch: 42 | train_loss: 0.1072 | train_acc: 0.9583 | test_loss: 0.1326 | test_acc: 0.9453\n",
            "Epoch: 43 | train_loss: 0.0864 | train_acc: 0.9648 | test_loss: 0.1039 | test_acc: 0.9766\n",
            "Epoch: 44 | train_loss: 0.0805 | train_acc: 0.9701 | test_loss: 0.0918 | test_acc: 0.9609\n",
            "Epoch: 45 | train_loss: 0.0572 | train_acc: 0.9844 | test_loss: 0.0947 | test_acc: 0.9766\n",
            "Epoch: 46 | train_loss: 0.0713 | train_acc: 0.9720 | test_loss: 0.1008 | test_acc: 0.9766\n",
            "Epoch: 47 | train_loss: 0.0794 | train_acc: 0.9688 | test_loss: 0.1168 | test_acc: 0.9453\n",
            "Epoch: 48 | train_loss: 0.0787 | train_acc: 0.9727 | test_loss: 0.1187 | test_acc: 0.9453\n",
            "Epoch: 49 | train_loss: 0.0820 | train_acc: 0.9727 | test_loss: 0.0940 | test_acc: 0.9766\n",
            "Epoch: 50 | train_loss: 0.0663 | train_acc: 0.9766 | test_loss: 0.0882 | test_acc: 0.9766\n",
            "[INFO] Saving model to: models/01_vgg16bn_50_epochs.pth\n",
            "--------------------------------------------------\n",
            "\n",
            "CPU times: user 13min 51s, sys: 2min 3s, total: 15min 55s\n",
            "Wall time: 30min 55s\n"
          ]
        }
      ],
      "source": [
        "%%time\n",
        "from going_modular.going_modular.utils import save_model\n",
        "import wandb\n",
        "\n",
        "# 1. Set the random seeds\n",
        "# set_seeds(seed=42)\n",
        "\n",
        "# 2. Keep track of experiment numbers\n",
        "experiment_number = 0\n",
        "\n",
        "for model_name in models:\n",
        "\n",
        "    # 6. Create information print outs\n",
        "    experiment_number += 1\n",
        "    print(f\"[INFO] Experiment number: {experiment_number}\")\n",
        "    print(f\"[INFO] Model: {model_name}\")\n",
        "    #print(f\"[INFO] DataLoader: {dataloader_name}\")\n",
        "    print(f\"[INFO] Number of epochs: {num_epochs}\")\n",
        "\n",
        "    # 7. Select the model\n",
        "    if model_name == \"effnetv2\":\n",
        "        model = create_effnetv2() # creates a new model each time (important because we want each experiment to start from scratch)\n",
        "        train_dataloader=train_dataloader_effnet\n",
        "        test_dataloader=test_dataloader_effnet\n",
        "\n",
        "    elif model_name == \"inception\":\n",
        "        model = create_inception() # creates a new model each time (important because we want each experiment to start from scratch)\n",
        "        train_dataloader=train_dataloader_inception\n",
        "        test_dataloader=test_dataloader_inception\n",
        "\n",
        "    elif model_name == \"mobilenetv3\":\n",
        "        model = create_mobilenetv3() # creates a new model each time (important because we want each experiment to start from scratch)\n",
        "        train_dataloader=train_dataloader_mobilenet\n",
        "        test_dataloader=test_dataloader_mobilenet\n",
        "\n",
        "    elif model_name == \"resnet50\":\n",
        "        model = create_resnet50() # creates a new model each time (important because we want each experiment to start from scratch)\n",
        "        train_dataloader=train_dataloader_resnet50\n",
        "        test_dataloader=test_dataloader_resnet50\n",
        "\n",
        "    else:\n",
        "        model = create_vgg16bn() # creates a new model each time (important because we want each experiment to start from scratch)\n",
        "        train_dataloader=train_dataloader_vgg16\n",
        "        test_dataloader=test_dataloader_vgg16\n",
        "\n",
        "\n",
        "\n",
        "    # 8. Create a new loss and optimizer for every model\n",
        "    loss_fn = nn.CrossEntropyLoss()\n",
        "    optimizer = torch.optim.Adam(params=model.parameters(), lr=0.001)\n",
        "\n",
        "    # Initialize a new wandb run for each experiment\n",
        "    wandb.init(project=\"your-project-name\",\n",
        "               name=f\"{model_name}_{num_epochs}_epochs_exp_{experiment_number}\",\n",
        "               config={\n",
        "                   \"model_name\": model_name,\n",
        "                   \"num_epochs\": num_epochs,\n",
        "                   \"batch_size\": BATCH_SIZE,\n",
        "                   \"learning_rate\": 0.001,\n",
        "                   \"loss_fn\": loss_fn.__class__.__name__,\n",
        "                   \"optimizer\": optimizer.__class__.__name__\n",
        "               })\n",
        "\n",
        "\n",
        "\n",
        "    # 9. Train target model with target dataloaders and track experiments\n",
        "    train(model=model,\n",
        "          train_dataloader=train_dataloader,\n",
        "          test_dataloader=test_dataloader,\n",
        "          optimizer=optimizer,\n",
        "          loss_fn=loss_fn,\n",
        "          epochs=num_epochs,\n",
        "          device=device,\n",
        "          # writer=create_writer(experiment_name=experiment_number,\n",
        "          #                       model_name=model_name,\n",
        "          #                       extra=f\"{num_epochs}_epochs\")\n",
        "          )\n",
        "\n",
        "    # 10. Save the model to file so we can get back the best model\n",
        "    save_filepath = f\"01_{model_name}_{num_epochs}_epochs.pth\"\n",
        "    save_model(model=model,\n",
        "                target_dir=\"models\",\n",
        "                model_name=save_filepath)\n",
        "    print(\"-\"*50 + \"\\n\")"
      ]
    },
    {
      "cell_type": "code",
      "execution_count": null,
      "metadata": {
        "id": "yNzMXpkuPhcy"
      },
      "outputs": [],
      "source": [
        "# # Viewing TensorBoard in Jupyter and Google Colab Notebooks (uncomment to view full TensorBoard instance)\n",
        "# %load_ext tensorboard\n",
        "# %tensorboard --logdir runs"
      ]
    },
    {
      "cell_type": "code",
      "execution_count": null,
      "metadata": {
        "colab": {
          "base_uri": "https://localhost:8080/"
        },
        "id": "CTyxSDDUMza2",
        "outputId": "7a215576-3047-47f2-ccd1-b91c1e736247"
      },
      "outputs": [
        {
          "name": "stdout",
          "output_type": "stream",
          "text": [
            "'models/01_effnetv2_50_epochs.pth' -> 'drive/MyDrive/emp/models/01_effnetv2_50_epochs.pth'\n",
            "'models/01_inception_50_epochs.pth' -> 'drive/MyDrive/emp/models/01_inception_50_epochs.pth'\n",
            "'models/01_mobilenetv3_50_epochs.pth' -> 'drive/MyDrive/emp/models/01_mobilenetv3_50_epochs.pth'\n",
            "'models/01_resnet50_50_epochs.pth' -> 'drive/MyDrive/emp/models/01_resnet50_50_epochs.pth'\n",
            "'models/01_vgg16bn_50_epochs.pth' -> 'drive/MyDrive/emp/models/01_vgg16bn_50_epochs.pth'\n"
          ]
        }
      ],
      "source": [
        "# %cp -av models drive/MyDrive/emp/"
      ]
    },
    {
      "cell_type": "code",
      "execution_count": null,
      "metadata": {
        "id": "_IaC_IHJPhgo"
      },
      "outputs": [],
      "source": [
        "# # Setup the best model filepath\n",
        "# best_model_path = \"models/07_effnetb2_data_20_percent_10_epochs.pth\"\n",
        "\n",
        "# # Instantiate a new instance of EffNetB2 (to load the saved state_dict() to)\n",
        "# best_model = create_effnetb2()\n",
        "\n",
        "# # Load the saved best model state_dict()\n",
        "# best_model.load_state_dict(torch.load(best_model_path))\n"
      ]
    },
    {
      "cell_type": "code",
      "execution_count": null,
      "metadata": {
        "id": "Bisoz6UuSlcV"
      },
      "outputs": [],
      "source": [
        "# # Check the model file size\n",
        "# from pathlib import Path\n",
        "\n",
        "# # Get the model size in bytes then convert to megabytes\n",
        "# effnetb2_model_size = Path(best_model_path).stat().st_size // (1024*1024)\n",
        "# print(f\"EfficientNetB2 feature extractor model size: {effnetb2_model_size} MB\")"
      ]
    },
    {
      "cell_type": "code",
      "execution_count": null,
      "metadata": {
        "colab": {
          "base_uri": "https://localhost:8080/",
          "height": 211
        },
        "id": "fiRPPwwfSloH",
        "outputId": "0d470f91-262b-4525-de7f-cdd5af8d4390"
      },
      "outputs": [
        {
          "ename": "NameError",
          "evalue": "name 'data_20_percent_path' is not defined",
          "output_type": "error",
          "traceback": [
            "\u001b[0;31m---------------------------------------------------------------------------\u001b[0m",
            "\u001b[0;31mNameError\u001b[0m                                 Traceback (most recent call last)",
            "\u001b[0;32m<ipython-input-24-2e42289302d4>\u001b[0m in \u001b[0;36m<cell line: 0>\u001b[0;34m()\u001b[0m\n\u001b[1;32m      6\u001b[0m \u001b[0;32mimport\u001b[0m \u001b[0mrandom\u001b[0m\u001b[0;34m\u001b[0m\u001b[0;34m\u001b[0m\u001b[0m\n\u001b[1;32m      7\u001b[0m \u001b[0mnum_images_to_plot\u001b[0m \u001b[0;34m=\u001b[0m \u001b[0;36m3\u001b[0m\u001b[0;34m\u001b[0m\u001b[0;34m\u001b[0m\u001b[0m\n\u001b[0;32m----> 8\u001b[0;31m \u001b[0mtest_image_path_list\u001b[0m \u001b[0;34m=\u001b[0m \u001b[0mlist\u001b[0m\u001b[0;34m(\u001b[0m\u001b[0mPath\u001b[0m\u001b[0;34m(\u001b[0m\u001b[0mdata_20_percent_path\u001b[0m \u001b[0;34m/\u001b[0m \u001b[0;34m\"test\"\u001b[0m\u001b[0;34m)\u001b[0m\u001b[0;34m.\u001b[0m\u001b[0mglob\u001b[0m\u001b[0;34m(\u001b[0m\u001b[0;34m\"*/*.jpg\"\u001b[0m\u001b[0;34m)\u001b[0m\u001b[0;34m)\u001b[0m \u001b[0;31m# get all test image paths from 20% dataset\u001b[0m\u001b[0;34m\u001b[0m\u001b[0;34m\u001b[0m\u001b[0m\n\u001b[0m\u001b[1;32m      9\u001b[0m test_image_path_sample = random.sample(population=test_image_path_list,\n\u001b[1;32m     10\u001b[0m                                        k=num_images_to_plot) # randomly select k number of images\n",
            "\u001b[0;31mNameError\u001b[0m: name 'data_20_percent_path' is not defined"
          ]
        }
      ],
      "source": [
        "# # Import function to make predictions on images and plot them\n",
        "# # See the function previously created in section: https://www.learnpytorch.io/06_pytorch_transfer_learning/#6-make-predictions-on-images-from-the-test-set\n",
        "# from going_modular.going_modular.predictions import pred_and_plot_image\n",
        "\n",
        "# # Get a random list of 3 images from 20% test set\n",
        "import random\n",
        "num_images_to_plot = 3\n",
        "test_image_path_list = list(Path(data_20_percent_path / \"test\").glob(\"*/*.jpg\")) # get all test image paths from 20% dataset\n",
        "test_image_path_sample = random.sample(population=test_image_path_list,\n",
        "                                       k=num_images_to_plot) # randomly select k number of images\n",
        "\n",
        "# Iterate through random test image paths, make predictions on them and plot them\n",
        "for image_path in test_image_path_sample:\n",
        "    pred_and_plot_image(model=best_model,\n",
        "                        image_path=image_path,\n",
        "                        class_names=class_names,\n",
        "                        image_size=(224, 224))"
      ]
    },
    {
      "cell_type": "code",
      "execution_count": null,
      "metadata": {
        "colab": {
          "base_uri": "https://localhost:8080/",
          "height": 193
        },
        "id": "ms1yc97KSwxo",
        "outputId": "4bf21c70-59e4-46f4-ec75-d62ce200389f"
      },
      "outputs": [
        {
          "ename": "NameError",
          "evalue": "name 'pred_and_plot_image' is not defined",
          "output_type": "error",
          "traceback": [
            "\u001b[0;31m---------------------------------------------------------------------------\u001b[0m",
            "\u001b[0;31mNameError\u001b[0m                                 Traceback (most recent call last)",
            "\u001b[0;32m<ipython-input-23-82da1b913502>\u001b[0m in \u001b[0;36m<cell line: 0>\u001b[0;34m()\u001b[0m\n\u001b[1;32m      1\u001b[0m \u001b[0;31m# Predict on custom image\u001b[0m\u001b[0;34m\u001b[0m\u001b[0;34m\u001b[0m\u001b[0m\n\u001b[0;32m----> 2\u001b[0;31m pred_and_plot_image(model=model,\n\u001b[0m\u001b[1;32m      3\u001b[0m                     \u001b[0mimage_path\u001b[0m\u001b[0;34m=\u001b[0m\u001b[0mcustom_image_path\u001b[0m\u001b[0;34m,\u001b[0m\u001b[0;34m\u001b[0m\u001b[0;34m\u001b[0m\u001b[0m\n\u001b[1;32m      4\u001b[0m                     class_names=class_names)\n",
            "\u001b[0;31mNameError\u001b[0m: name 'pred_and_plot_image' is not defined"
          ]
        }
      ],
      "source": [
        "# Predict on custom image\n",
        "pred_and_plot_image(model=model,\n",
        "                    image_path=custom_image_path,\n",
        "                    class_names=class_names)"
      ]
    },
    {
      "cell_type": "code",
      "execution_count": null,
      "metadata": {
        "id": "jLudY9kWSw33"
      },
      "outputs": [],
      "source": []
    },
    {
      "cell_type": "code",
      "execution_count": null,
      "metadata": {
        "id": "S7fxTOXqTTr9"
      },
      "outputs": [],
      "source": []
    }
  ],
  "metadata": {
    "accelerator": "GPU",
    "colab": {
      "gpuType": "T4",
      "provenance": []
    },
    "kernelspec": {
      "display_name": "Python 3",
      "name": "python3"
    },
    "language_info": {
      "name": "python"
    },
    "widgets": {
      "application/vnd.jupyter.widget-state+json": {
        "03d33fa887234079bcfbc18b3055779f": {
          "model_module": "@jupyter-widgets/controls",
          "model_module_version": "1.5.0",
          "model_name": "DescriptionStyleModel",
          "state": {
            "_model_module": "@jupyter-widgets/controls",
            "_model_module_version": "1.5.0",
            "_model_name": "DescriptionStyleModel",
            "_view_count": null,
            "_view_module": "@jupyter-widgets/base",
            "_view_module_version": "1.2.0",
            "_view_name": "StyleView",
            "description_width": ""
          }
        },
        "05424f2c155e4a809542d70a70e46d3c": {
          "model_module": "@jupyter-widgets/controls",
          "model_module_version": "1.5.0",
          "model_name": "HBoxModel",
          "state": {
            "_dom_classes": [],
            "_model_module": "@jupyter-widgets/controls",
            "_model_module_version": "1.5.0",
            "_model_name": "HBoxModel",
            "_view_count": null,
            "_view_module": "@jupyter-widgets/controls",
            "_view_module_version": "1.5.0",
            "_view_name": "HBoxView",
            "box_style": "",
            "children": [
              "IPY_MODEL_5d6b1f7d834f4861a01463440ee74c3b",
              "IPY_MODEL_dff8494a00264ad4aa0df876513db842",
              "IPY_MODEL_ee2b9f4cfdca484bb02d139401e6d4b4"
            ],
            "layout": "IPY_MODEL_111477019c434bfa9c2d62b62ccdcc93"
          }
        },
        "059125b796354294aa5a6b9c1403515e": {
          "model_module": "@jupyter-widgets/base",
          "model_module_version": "1.2.0",
          "model_name": "LayoutModel",
          "state": {
            "_model_module": "@jupyter-widgets/base",
            "_model_module_version": "1.2.0",
            "_model_name": "LayoutModel",
            "_view_count": null,
            "_view_module": "@jupyter-widgets/base",
            "_view_module_version": "1.2.0",
            "_view_name": "LayoutView",
            "align_content": null,
            "align_items": null,
            "align_self": null,
            "border": null,
            "bottom": null,
            "display": null,
            "flex": null,
            "flex_flow": null,
            "grid_area": null,
            "grid_auto_columns": null,
            "grid_auto_flow": null,
            "grid_auto_rows": null,
            "grid_column": null,
            "grid_gap": null,
            "grid_row": null,
            "grid_template_areas": null,
            "grid_template_columns": null,
            "grid_template_rows": null,
            "height": null,
            "justify_content": null,
            "justify_items": null,
            "left": null,
            "margin": null,
            "max_height": null,
            "max_width": null,
            "min_height": null,
            "min_width": null,
            "object_fit": null,
            "object_position": null,
            "order": null,
            "overflow": null,
            "overflow_x": null,
            "overflow_y": null,
            "padding": null,
            "right": null,
            "top": null,
            "visibility": null,
            "width": null
          }
        },
        "111477019c434bfa9c2d62b62ccdcc93": {
          "model_module": "@jupyter-widgets/base",
          "model_module_version": "1.2.0",
          "model_name": "LayoutModel",
          "state": {
            "_model_module": "@jupyter-widgets/base",
            "_model_module_version": "1.2.0",
            "_model_name": "LayoutModel",
            "_view_count": null,
            "_view_module": "@jupyter-widgets/base",
            "_view_module_version": "1.2.0",
            "_view_name": "LayoutView",
            "align_content": null,
            "align_items": null,
            "align_self": null,
            "border": null,
            "bottom": null,
            "display": null,
            "flex": null,
            "flex_flow": null,
            "grid_area": null,
            "grid_auto_columns": null,
            "grid_auto_flow": null,
            "grid_auto_rows": null,
            "grid_column": null,
            "grid_gap": null,
            "grid_row": null,
            "grid_template_areas": null,
            "grid_template_columns": null,
            "grid_template_rows": null,
            "height": null,
            "justify_content": null,
            "justify_items": null,
            "left": null,
            "margin": null,
            "max_height": null,
            "max_width": null,
            "min_height": null,
            "min_width": null,
            "object_fit": null,
            "object_position": null,
            "order": null,
            "overflow": null,
            "overflow_x": null,
            "overflow_y": null,
            "padding": null,
            "right": null,
            "top": null,
            "visibility": null,
            "width": null
          }
        },
        "144f54d7717f4a5e8a93faa03cb6d564": {
          "model_module": "@jupyter-widgets/controls",
          "model_module_version": "1.5.0",
          "model_name": "FloatProgressModel",
          "state": {
            "_dom_classes": [],
            "_model_module": "@jupyter-widgets/controls",
            "_model_module_version": "1.5.0",
            "_model_name": "FloatProgressModel",
            "_view_count": null,
            "_view_module": "@jupyter-widgets/controls",
            "_view_module_version": "1.5.0",
            "_view_name": "ProgressView",
            "bar_style": "success",
            "description": "",
            "description_tooltip": null,
            "layout": "IPY_MODEL_d4a8c33f81c44f69a0721c313dbc9aa5",
            "max": 50,
            "min": 0,
            "orientation": "horizontal",
            "style": "IPY_MODEL_4b292ca0dcba4b3ca6adff9c3a2bfc7e",
            "value": 50
          }
        },
        "1456375061f4432e838dc62a8aa41f5d": {
          "model_module": "@jupyter-widgets/base",
          "model_module_version": "1.2.0",
          "model_name": "LayoutModel",
          "state": {
            "_model_module": "@jupyter-widgets/base",
            "_model_module_version": "1.2.0",
            "_model_name": "LayoutModel",
            "_view_count": null,
            "_view_module": "@jupyter-widgets/base",
            "_view_module_version": "1.2.0",
            "_view_name": "LayoutView",
            "align_content": null,
            "align_items": null,
            "align_self": null,
            "border": null,
            "bottom": null,
            "display": null,
            "flex": null,
            "flex_flow": null,
            "grid_area": null,
            "grid_auto_columns": null,
            "grid_auto_flow": null,
            "grid_auto_rows": null,
            "grid_column": null,
            "grid_gap": null,
            "grid_row": null,
            "grid_template_areas": null,
            "grid_template_columns": null,
            "grid_template_rows": null,
            "height": null,
            "justify_content": null,
            "justify_items": null,
            "left": null,
            "margin": null,
            "max_height": null,
            "max_width": null,
            "min_height": null,
            "min_width": null,
            "object_fit": null,
            "object_position": null,
            "order": null,
            "overflow": null,
            "overflow_x": null,
            "overflow_y": null,
            "padding": null,
            "right": null,
            "top": null,
            "visibility": null,
            "width": null
          }
        },
        "1ff0c1d2f3c94b52ad37b64aca1b3934": {
          "model_module": "@jupyter-widgets/base",
          "model_module_version": "1.2.0",
          "model_name": "LayoutModel",
          "state": {
            "_model_module": "@jupyter-widgets/base",
            "_model_module_version": "1.2.0",
            "_model_name": "LayoutModel",
            "_view_count": null,
            "_view_module": "@jupyter-widgets/base",
            "_view_module_version": "1.2.0",
            "_view_name": "LayoutView",
            "align_content": null,
            "align_items": null,
            "align_self": null,
            "border": null,
            "bottom": null,
            "display": null,
            "flex": null,
            "flex_flow": null,
            "grid_area": null,
            "grid_auto_columns": null,
            "grid_auto_flow": null,
            "grid_auto_rows": null,
            "grid_column": null,
            "grid_gap": null,
            "grid_row": null,
            "grid_template_areas": null,
            "grid_template_columns": null,
            "grid_template_rows": null,
            "height": null,
            "justify_content": null,
            "justify_items": null,
            "left": null,
            "margin": null,
            "max_height": null,
            "max_width": null,
            "min_height": null,
            "min_width": null,
            "object_fit": null,
            "object_position": null,
            "order": null,
            "overflow": null,
            "overflow_x": null,
            "overflow_y": null,
            "padding": null,
            "right": null,
            "top": null,
            "visibility": null,
            "width": null
          }
        },
        "20229137009642eaa7d0bde11a20547f": {
          "model_module": "@jupyter-widgets/controls",
          "model_module_version": "1.5.0",
          "model_name": "HBoxModel",
          "state": {
            "_dom_classes": [],
            "_model_module": "@jupyter-widgets/controls",
            "_model_module_version": "1.5.0",
            "_model_name": "HBoxModel",
            "_view_count": null,
            "_view_module": "@jupyter-widgets/controls",
            "_view_module_version": "1.5.0",
            "_view_name": "HBoxView",
            "box_style": "",
            "children": [
              "IPY_MODEL_d2b991ee31d847fc949481c3db7581fa",
              "IPY_MODEL_9bbd2d7c8ee147a5b8ffc48144afabc3",
              "IPY_MODEL_d78f2165c40447949550275fd37bfecb"
            ],
            "layout": "IPY_MODEL_97dd2ad84a494a6d9c8cfb82f8997b4e"
          }
        },
        "262aa7f575d145bba9da7597aa543524": {
          "model_module": "@jupyter-widgets/controls",
          "model_module_version": "1.5.0",
          "model_name": "DescriptionStyleModel",
          "state": {
            "_model_module": "@jupyter-widgets/controls",
            "_model_module_version": "1.5.0",
            "_model_name": "DescriptionStyleModel",
            "_view_count": null,
            "_view_module": "@jupyter-widgets/base",
            "_view_module_version": "1.2.0",
            "_view_name": "StyleView",
            "description_width": ""
          }
        },
        "2633812cf2ae4a058dc69ec633050cfe": {
          "model_module": "@jupyter-widgets/controls",
          "model_module_version": "1.5.0",
          "model_name": "FloatProgressModel",
          "state": {
            "_dom_classes": [],
            "_model_module": "@jupyter-widgets/controls",
            "_model_module_version": "1.5.0",
            "_model_name": "FloatProgressModel",
            "_view_count": null,
            "_view_module": "@jupyter-widgets/controls",
            "_view_module_version": "1.5.0",
            "_view_name": "ProgressView",
            "bar_style": "success",
            "description": "",
            "description_tooltip": null,
            "layout": "IPY_MODEL_4f67149ce273493b8062ece4ffe581d9",
            "max": 50,
            "min": 0,
            "orientation": "horizontal",
            "style": "IPY_MODEL_6206c4869f3445e5a3872953a9762fe1",
            "value": 50
          }
        },
        "2afaed65e7294ccdb8a3c5422125ab70": {
          "model_module": "@jupyter-widgets/base",
          "model_module_version": "1.2.0",
          "model_name": "LayoutModel",
          "state": {
            "_model_module": "@jupyter-widgets/base",
            "_model_module_version": "1.2.0",
            "_model_name": "LayoutModel",
            "_view_count": null,
            "_view_module": "@jupyter-widgets/base",
            "_view_module_version": "1.2.0",
            "_view_name": "LayoutView",
            "align_content": null,
            "align_items": null,
            "align_self": null,
            "border": null,
            "bottom": null,
            "display": null,
            "flex": null,
            "flex_flow": null,
            "grid_area": null,
            "grid_auto_columns": null,
            "grid_auto_flow": null,
            "grid_auto_rows": null,
            "grid_column": null,
            "grid_gap": null,
            "grid_row": null,
            "grid_template_areas": null,
            "grid_template_columns": null,
            "grid_template_rows": null,
            "height": null,
            "justify_content": null,
            "justify_items": null,
            "left": null,
            "margin": null,
            "max_height": null,
            "max_width": null,
            "min_height": null,
            "min_width": null,
            "object_fit": null,
            "object_position": null,
            "order": null,
            "overflow": null,
            "overflow_x": null,
            "overflow_y": null,
            "padding": null,
            "right": null,
            "top": null,
            "visibility": null,
            "width": null
          }
        },
        "2e60f4c0ffa048178642cfdf475acdf1": {
          "model_module": "@jupyter-widgets/base",
          "model_module_version": "1.2.0",
          "model_name": "LayoutModel",
          "state": {
            "_model_module": "@jupyter-widgets/base",
            "_model_module_version": "1.2.0",
            "_model_name": "LayoutModel",
            "_view_count": null,
            "_view_module": "@jupyter-widgets/base",
            "_view_module_version": "1.2.0",
            "_view_name": "LayoutView",
            "align_content": null,
            "align_items": null,
            "align_self": null,
            "border": null,
            "bottom": null,
            "display": null,
            "flex": null,
            "flex_flow": null,
            "grid_area": null,
            "grid_auto_columns": null,
            "grid_auto_flow": null,
            "grid_auto_rows": null,
            "grid_column": null,
            "grid_gap": null,
            "grid_row": null,
            "grid_template_areas": null,
            "grid_template_columns": null,
            "grid_template_rows": null,
            "height": null,
            "justify_content": null,
            "justify_items": null,
            "left": null,
            "margin": null,
            "max_height": null,
            "max_width": null,
            "min_height": null,
            "min_width": null,
            "object_fit": null,
            "object_position": null,
            "order": null,
            "overflow": null,
            "overflow_x": null,
            "overflow_y": null,
            "padding": null,
            "right": null,
            "top": null,
            "visibility": null,
            "width": null
          }
        },
        "2e70192d3d774aa8bf7e3f99f2dfe246": {
          "model_module": "@jupyter-widgets/controls",
          "model_module_version": "1.5.0",
          "model_name": "DescriptionStyleModel",
          "state": {
            "_model_module": "@jupyter-widgets/controls",
            "_model_module_version": "1.5.0",
            "_model_name": "DescriptionStyleModel",
            "_view_count": null,
            "_view_module": "@jupyter-widgets/base",
            "_view_module_version": "1.2.0",
            "_view_name": "StyleView",
            "description_width": ""
          }
        },
        "32250d2fb45343168a91742c2138cc1e": {
          "model_module": "@jupyter-widgets/controls",
          "model_module_version": "1.5.0",
          "model_name": "HTMLModel",
          "state": {
            "_dom_classes": [],
            "_model_module": "@jupyter-widgets/controls",
            "_model_module_version": "1.5.0",
            "_model_name": "HTMLModel",
            "_view_count": null,
            "_view_module": "@jupyter-widgets/controls",
            "_view_module_version": "1.5.0",
            "_view_name": "HTMLView",
            "description": "",
            "description_tooltip": null,
            "layout": "IPY_MODEL_f4abfee7fae84fc7b203916f8f846c8b",
            "placeholder": "​",
            "style": "IPY_MODEL_6b9ffd913aff45b688f0ea50e7c25aa5",
            "value": "100%"
          }
        },
        "36b9cfe422bb4d7e93ef67b0d48ccce6": {
          "model_module": "@jupyter-widgets/base",
          "model_module_version": "1.2.0",
          "model_name": "LayoutModel",
          "state": {
            "_model_module": "@jupyter-widgets/base",
            "_model_module_version": "1.2.0",
            "_model_name": "LayoutModel",
            "_view_count": null,
            "_view_module": "@jupyter-widgets/base",
            "_view_module_version": "1.2.0",
            "_view_name": "LayoutView",
            "align_content": null,
            "align_items": null,
            "align_self": null,
            "border": null,
            "bottom": null,
            "display": null,
            "flex": null,
            "flex_flow": null,
            "grid_area": null,
            "grid_auto_columns": null,
            "grid_auto_flow": null,
            "grid_auto_rows": null,
            "grid_column": null,
            "grid_gap": null,
            "grid_row": null,
            "grid_template_areas": null,
            "grid_template_columns": null,
            "grid_template_rows": null,
            "height": null,
            "justify_content": null,
            "justify_items": null,
            "left": null,
            "margin": null,
            "max_height": null,
            "max_width": null,
            "min_height": null,
            "min_width": null,
            "object_fit": null,
            "object_position": null,
            "order": null,
            "overflow": null,
            "overflow_x": null,
            "overflow_y": null,
            "padding": null,
            "right": null,
            "top": null,
            "visibility": null,
            "width": null
          }
        },
        "4aab2221739b44deb5dbd74836ada4f1": {
          "model_module": "@jupyter-widgets/controls",
          "model_module_version": "1.5.0",
          "model_name": "HTMLModel",
          "state": {
            "_dom_classes": [],
            "_model_module": "@jupyter-widgets/controls",
            "_model_module_version": "1.5.0",
            "_model_name": "HTMLModel",
            "_view_count": null,
            "_view_module": "@jupyter-widgets/controls",
            "_view_module_version": "1.5.0",
            "_view_name": "HTMLView",
            "description": "",
            "description_tooltip": null,
            "layout": "IPY_MODEL_b7c6ae16a074430fba150e3337557328",
            "placeholder": "​",
            "style": "IPY_MODEL_812a9bf5df8e4bb8934d3c29430b64bd",
            "value": "100%"
          }
        },
        "4b292ca0dcba4b3ca6adff9c3a2bfc7e": {
          "model_module": "@jupyter-widgets/controls",
          "model_module_version": "1.5.0",
          "model_name": "ProgressStyleModel",
          "state": {
            "_model_module": "@jupyter-widgets/controls",
            "_model_module_version": "1.5.0",
            "_model_name": "ProgressStyleModel",
            "_view_count": null,
            "_view_module": "@jupyter-widgets/base",
            "_view_module_version": "1.2.0",
            "_view_name": "StyleView",
            "bar_color": null,
            "description_width": ""
          }
        },
        "4f67149ce273493b8062ece4ffe581d9": {
          "model_module": "@jupyter-widgets/base",
          "model_module_version": "1.2.0",
          "model_name": "LayoutModel",
          "state": {
            "_model_module": "@jupyter-widgets/base",
            "_model_module_version": "1.2.0",
            "_model_name": "LayoutModel",
            "_view_count": null,
            "_view_module": "@jupyter-widgets/base",
            "_view_module_version": "1.2.0",
            "_view_name": "LayoutView",
            "align_content": null,
            "align_items": null,
            "align_self": null,
            "border": null,
            "bottom": null,
            "display": null,
            "flex": null,
            "flex_flow": null,
            "grid_area": null,
            "grid_auto_columns": null,
            "grid_auto_flow": null,
            "grid_auto_rows": null,
            "grid_column": null,
            "grid_gap": null,
            "grid_row": null,
            "grid_template_areas": null,
            "grid_template_columns": null,
            "grid_template_rows": null,
            "height": null,
            "justify_content": null,
            "justify_items": null,
            "left": null,
            "margin": null,
            "max_height": null,
            "max_width": null,
            "min_height": null,
            "min_width": null,
            "object_fit": null,
            "object_position": null,
            "order": null,
            "overflow": null,
            "overflow_x": null,
            "overflow_y": null,
            "padding": null,
            "right": null,
            "top": null,
            "visibility": null,
            "width": null
          }
        },
        "53f9319e8c5c468d9f299d59a9dbe44a": {
          "model_module": "@jupyter-widgets/controls",
          "model_module_version": "1.5.0",
          "model_name": "DescriptionStyleModel",
          "state": {
            "_model_module": "@jupyter-widgets/controls",
            "_model_module_version": "1.5.0",
            "_model_name": "DescriptionStyleModel",
            "_view_count": null,
            "_view_module": "@jupyter-widgets/base",
            "_view_module_version": "1.2.0",
            "_view_name": "StyleView",
            "description_width": ""
          }
        },
        "58751b792be94fecbb905c6616b537c3": {
          "model_module": "@jupyter-widgets/base",
          "model_module_version": "1.2.0",
          "model_name": "LayoutModel",
          "state": {
            "_model_module": "@jupyter-widgets/base",
            "_model_module_version": "1.2.0",
            "_model_name": "LayoutModel",
            "_view_count": null,
            "_view_module": "@jupyter-widgets/base",
            "_view_module_version": "1.2.0",
            "_view_name": "LayoutView",
            "align_content": null,
            "align_items": null,
            "align_self": null,
            "border": null,
            "bottom": null,
            "display": null,
            "flex": null,
            "flex_flow": null,
            "grid_area": null,
            "grid_auto_columns": null,
            "grid_auto_flow": null,
            "grid_auto_rows": null,
            "grid_column": null,
            "grid_gap": null,
            "grid_row": null,
            "grid_template_areas": null,
            "grid_template_columns": null,
            "grid_template_rows": null,
            "height": null,
            "justify_content": null,
            "justify_items": null,
            "left": null,
            "margin": null,
            "max_height": null,
            "max_width": null,
            "min_height": null,
            "min_width": null,
            "object_fit": null,
            "object_position": null,
            "order": null,
            "overflow": null,
            "overflow_x": null,
            "overflow_y": null,
            "padding": null,
            "right": null,
            "top": null,
            "visibility": null,
            "width": null
          }
        },
        "5d6b1f7d834f4861a01463440ee74c3b": {
          "model_module": "@jupyter-widgets/controls",
          "model_module_version": "1.5.0",
          "model_name": "HTMLModel",
          "state": {
            "_dom_classes": [],
            "_model_module": "@jupyter-widgets/controls",
            "_model_module_version": "1.5.0",
            "_model_name": "HTMLModel",
            "_view_count": null,
            "_view_module": "@jupyter-widgets/controls",
            "_view_module_version": "1.5.0",
            "_view_name": "HTMLView",
            "description": "",
            "description_tooltip": null,
            "layout": "IPY_MODEL_2e60f4c0ffa048178642cfdf475acdf1",
            "placeholder": "​",
            "style": "IPY_MODEL_ccb7bd7b1f8847cbb688de801257fa21",
            "value": "100%"
          }
        },
        "6206c4869f3445e5a3872953a9762fe1": {
          "model_module": "@jupyter-widgets/controls",
          "model_module_version": "1.5.0",
          "model_name": "ProgressStyleModel",
          "state": {
            "_model_module": "@jupyter-widgets/controls",
            "_model_module_version": "1.5.0",
            "_model_name": "ProgressStyleModel",
            "_view_count": null,
            "_view_module": "@jupyter-widgets/base",
            "_view_module_version": "1.2.0",
            "_view_name": "StyleView",
            "bar_color": null,
            "description_width": ""
          }
        },
        "6a92a30e11464f8ea346bbdcd28a0f37": {
          "model_module": "@jupyter-widgets/base",
          "model_module_version": "1.2.0",
          "model_name": "LayoutModel",
          "state": {
            "_model_module": "@jupyter-widgets/base",
            "_model_module_version": "1.2.0",
            "_model_name": "LayoutModel",
            "_view_count": null,
            "_view_module": "@jupyter-widgets/base",
            "_view_module_version": "1.2.0",
            "_view_name": "LayoutView",
            "align_content": null,
            "align_items": null,
            "align_self": null,
            "border": null,
            "bottom": null,
            "display": null,
            "flex": null,
            "flex_flow": null,
            "grid_area": null,
            "grid_auto_columns": null,
            "grid_auto_flow": null,
            "grid_auto_rows": null,
            "grid_column": null,
            "grid_gap": null,
            "grid_row": null,
            "grid_template_areas": null,
            "grid_template_columns": null,
            "grid_template_rows": null,
            "height": null,
            "justify_content": null,
            "justify_items": null,
            "left": null,
            "margin": null,
            "max_height": null,
            "max_width": null,
            "min_height": null,
            "min_width": null,
            "object_fit": null,
            "object_position": null,
            "order": null,
            "overflow": null,
            "overflow_x": null,
            "overflow_y": null,
            "padding": null,
            "right": null,
            "top": null,
            "visibility": null,
            "width": null
          }
        },
        "6b9ffd913aff45b688f0ea50e7c25aa5": {
          "model_module": "@jupyter-widgets/controls",
          "model_module_version": "1.5.0",
          "model_name": "DescriptionStyleModel",
          "state": {
            "_model_module": "@jupyter-widgets/controls",
            "_model_module_version": "1.5.0",
            "_model_name": "DescriptionStyleModel",
            "_view_count": null,
            "_view_module": "@jupyter-widgets/base",
            "_view_module_version": "1.2.0",
            "_view_name": "StyleView",
            "description_width": ""
          }
        },
        "6bf3b6dc82c54baeb35a538ccb723b85": {
          "model_module": "@jupyter-widgets/controls",
          "model_module_version": "1.5.0",
          "model_name": "HTMLModel",
          "state": {
            "_dom_classes": [],
            "_model_module": "@jupyter-widgets/controls",
            "_model_module_version": "1.5.0",
            "_model_name": "HTMLModel",
            "_view_count": null,
            "_view_module": "@jupyter-widgets/controls",
            "_view_module_version": "1.5.0",
            "_view_name": "HTMLView",
            "description": "",
            "description_tooltip": null,
            "layout": "IPY_MODEL_059125b796354294aa5a6b9c1403515e",
            "placeholder": "​",
            "style": "IPY_MODEL_8068005c621844ef88c27ebbb3fc1a1d",
            "value": " 50/50 [14:12&lt;00:00, 17.01s/it]"
          }
        },
        "72e9127ae923443c8ae7127df71271ec": {
          "model_module": "@jupyter-widgets/controls",
          "model_module_version": "1.5.0",
          "model_name": "HBoxModel",
          "state": {
            "_dom_classes": [],
            "_model_module": "@jupyter-widgets/controls",
            "_model_module_version": "1.5.0",
            "_model_name": "HBoxModel",
            "_view_count": null,
            "_view_module": "@jupyter-widgets/controls",
            "_view_module_version": "1.5.0",
            "_view_name": "HBoxView",
            "box_style": "",
            "children": [
              "IPY_MODEL_9c1c5a400d134c28a047b960307dc15f",
              "IPY_MODEL_144f54d7717f4a5e8a93faa03cb6d564",
              "IPY_MODEL_a8f1d803cb6c4521aa40c0795c44bb8c"
            ],
            "layout": "IPY_MODEL_bb4e457432b64310bf3221392713f858"
          }
        },
        "8068005c621844ef88c27ebbb3fc1a1d": {
          "model_module": "@jupyter-widgets/controls",
          "model_module_version": "1.5.0",
          "model_name": "DescriptionStyleModel",
          "state": {
            "_model_module": "@jupyter-widgets/controls",
            "_model_module_version": "1.5.0",
            "_model_name": "DescriptionStyleModel",
            "_view_count": null,
            "_view_module": "@jupyter-widgets/base",
            "_view_module_version": "1.2.0",
            "_view_name": "StyleView",
            "description_width": ""
          }
        },
        "812a9bf5df8e4bb8934d3c29430b64bd": {
          "model_module": "@jupyter-widgets/controls",
          "model_module_version": "1.5.0",
          "model_name": "DescriptionStyleModel",
          "state": {
            "_model_module": "@jupyter-widgets/controls",
            "_model_module_version": "1.5.0",
            "_model_name": "DescriptionStyleModel",
            "_view_count": null,
            "_view_module": "@jupyter-widgets/base",
            "_view_module_version": "1.2.0",
            "_view_name": "StyleView",
            "description_width": ""
          }
        },
        "89e3a2f1791a4e5a975ada2175687721": {
          "model_module": "@jupyter-widgets/controls",
          "model_module_version": "1.5.0",
          "model_name": "DescriptionStyleModel",
          "state": {
            "_model_module": "@jupyter-widgets/controls",
            "_model_module_version": "1.5.0",
            "_model_name": "DescriptionStyleModel",
            "_view_count": null,
            "_view_module": "@jupyter-widgets/base",
            "_view_module_version": "1.2.0",
            "_view_name": "StyleView",
            "description_width": ""
          }
        },
        "91a9366584934bf3b04514b2d94c2f55": {
          "model_module": "@jupyter-widgets/controls",
          "model_module_version": "1.5.0",
          "model_name": "HBoxModel",
          "state": {
            "_dom_classes": [],
            "_model_module": "@jupyter-widgets/controls",
            "_model_module_version": "1.5.0",
            "_model_name": "HBoxModel",
            "_view_count": null,
            "_view_module": "@jupyter-widgets/controls",
            "_view_module_version": "1.5.0",
            "_view_name": "HBoxView",
            "box_style": "",
            "children": [
              "IPY_MODEL_4aab2221739b44deb5dbd74836ada4f1",
              "IPY_MODEL_2633812cf2ae4a058dc69ec633050cfe",
              "IPY_MODEL_c1711d66ceac4dab926d03eded4a9d6d"
            ],
            "layout": "IPY_MODEL_58751b792be94fecbb905c6616b537c3"
          }
        },
        "943f2cf65e104e919cc37b5e2c696ad2": {
          "model_module": "@jupyter-widgets/controls",
          "model_module_version": "1.5.0",
          "model_name": "FloatProgressModel",
          "state": {
            "_dom_classes": [],
            "_model_module": "@jupyter-widgets/controls",
            "_model_module_version": "1.5.0",
            "_model_name": "FloatProgressModel",
            "_view_count": null,
            "_view_module": "@jupyter-widgets/controls",
            "_view_module_version": "1.5.0",
            "_view_name": "ProgressView",
            "bar_style": "success",
            "description": "",
            "description_tooltip": null,
            "layout": "IPY_MODEL_36b9cfe422bb4d7e93ef67b0d48ccce6",
            "max": 50,
            "min": 0,
            "orientation": "horizontal",
            "style": "IPY_MODEL_e1bbaf75fe854a878d3ecd8a459a43ba",
            "value": 50
          }
        },
        "97dd2ad84a494a6d9c8cfb82f8997b4e": {
          "model_module": "@jupyter-widgets/base",
          "model_module_version": "1.2.0",
          "model_name": "LayoutModel",
          "state": {
            "_model_module": "@jupyter-widgets/base",
            "_model_module_version": "1.2.0",
            "_model_name": "LayoutModel",
            "_view_count": null,
            "_view_module": "@jupyter-widgets/base",
            "_view_module_version": "1.2.0",
            "_view_name": "LayoutView",
            "align_content": null,
            "align_items": null,
            "align_self": null,
            "border": null,
            "bottom": null,
            "display": null,
            "flex": null,
            "flex_flow": null,
            "grid_area": null,
            "grid_auto_columns": null,
            "grid_auto_flow": null,
            "grid_auto_rows": null,
            "grid_column": null,
            "grid_gap": null,
            "grid_row": null,
            "grid_template_areas": null,
            "grid_template_columns": null,
            "grid_template_rows": null,
            "height": null,
            "justify_content": null,
            "justify_items": null,
            "left": null,
            "margin": null,
            "max_height": null,
            "max_width": null,
            "min_height": null,
            "min_width": null,
            "object_fit": null,
            "object_position": null,
            "order": null,
            "overflow": null,
            "overflow_x": null,
            "overflow_y": null,
            "padding": null,
            "right": null,
            "top": null,
            "visibility": null,
            "width": null
          }
        },
        "9bbd2d7c8ee147a5b8ffc48144afabc3": {
          "model_module": "@jupyter-widgets/controls",
          "model_module_version": "1.5.0",
          "model_name": "FloatProgressModel",
          "state": {
            "_dom_classes": [],
            "_model_module": "@jupyter-widgets/controls",
            "_model_module_version": "1.5.0",
            "_model_name": "FloatProgressModel",
            "_view_count": null,
            "_view_module": "@jupyter-widgets/controls",
            "_view_module_version": "1.5.0",
            "_view_name": "ProgressView",
            "bar_style": "success",
            "description": "",
            "description_tooltip": null,
            "layout": "IPY_MODEL_a1c24a5318cb4f6d8a970fdf89590465",
            "max": 50,
            "min": 0,
            "orientation": "horizontal",
            "style": "IPY_MODEL_b58add1b404d43c49d723b30c74f884c",
            "value": 50
          }
        },
        "9c1c5a400d134c28a047b960307dc15f": {
          "model_module": "@jupyter-widgets/controls",
          "model_module_version": "1.5.0",
          "model_name": "HTMLModel",
          "state": {
            "_dom_classes": [],
            "_model_module": "@jupyter-widgets/controls",
            "_model_module_version": "1.5.0",
            "_model_name": "HTMLModel",
            "_view_count": null,
            "_view_module": "@jupyter-widgets/controls",
            "_view_module_version": "1.5.0",
            "_view_name": "HTMLView",
            "description": "",
            "description_tooltip": null,
            "layout": "IPY_MODEL_e663f94634fe46d5b8e1efa6d934e43d",
            "placeholder": "​",
            "style": "IPY_MODEL_53f9319e8c5c468d9f299d59a9dbe44a",
            "value": "100%"
          }
        },
        "a1c24a5318cb4f6d8a970fdf89590465": {
          "model_module": "@jupyter-widgets/base",
          "model_module_version": "1.2.0",
          "model_name": "LayoutModel",
          "state": {
            "_model_module": "@jupyter-widgets/base",
            "_model_module_version": "1.2.0",
            "_model_name": "LayoutModel",
            "_view_count": null,
            "_view_module": "@jupyter-widgets/base",
            "_view_module_version": "1.2.0",
            "_view_name": "LayoutView",
            "align_content": null,
            "align_items": null,
            "align_self": null,
            "border": null,
            "bottom": null,
            "display": null,
            "flex": null,
            "flex_flow": null,
            "grid_area": null,
            "grid_auto_columns": null,
            "grid_auto_flow": null,
            "grid_auto_rows": null,
            "grid_column": null,
            "grid_gap": null,
            "grid_row": null,
            "grid_template_areas": null,
            "grid_template_columns": null,
            "grid_template_rows": null,
            "height": null,
            "justify_content": null,
            "justify_items": null,
            "left": null,
            "margin": null,
            "max_height": null,
            "max_width": null,
            "min_height": null,
            "min_width": null,
            "object_fit": null,
            "object_position": null,
            "order": null,
            "overflow": null,
            "overflow_x": null,
            "overflow_y": null,
            "padding": null,
            "right": null,
            "top": null,
            "visibility": null,
            "width": null
          }
        },
        "a8f1d803cb6c4521aa40c0795c44bb8c": {
          "model_module": "@jupyter-widgets/controls",
          "model_module_version": "1.5.0",
          "model_name": "HTMLModel",
          "state": {
            "_dom_classes": [],
            "_model_module": "@jupyter-widgets/controls",
            "_model_module_version": "1.5.0",
            "_model_name": "HTMLModel",
            "_view_count": null,
            "_view_module": "@jupyter-widgets/controls",
            "_view_module_version": "1.5.0",
            "_view_name": "HTMLView",
            "description": "",
            "description_tooltip": null,
            "layout": "IPY_MODEL_e37b34e06d114b0385102939cf498c62",
            "placeholder": "​",
            "style": "IPY_MODEL_2e70192d3d774aa8bf7e3f99f2dfe246",
            "value": " 50/50 [04:17&lt;00:00,  5.03s/it]"
          }
        },
        "b58add1b404d43c49d723b30c74f884c": {
          "model_module": "@jupyter-widgets/controls",
          "model_module_version": "1.5.0",
          "model_name": "ProgressStyleModel",
          "state": {
            "_model_module": "@jupyter-widgets/controls",
            "_model_module_version": "1.5.0",
            "_model_name": "ProgressStyleModel",
            "_view_count": null,
            "_view_module": "@jupyter-widgets/base",
            "_view_module_version": "1.2.0",
            "_view_name": "StyleView",
            "bar_color": null,
            "description_width": ""
          }
        },
        "b7c6ae16a074430fba150e3337557328": {
          "model_module": "@jupyter-widgets/base",
          "model_module_version": "1.2.0",
          "model_name": "LayoutModel",
          "state": {
            "_model_module": "@jupyter-widgets/base",
            "_model_module_version": "1.2.0",
            "_model_name": "LayoutModel",
            "_view_count": null,
            "_view_module": "@jupyter-widgets/base",
            "_view_module_version": "1.2.0",
            "_view_name": "LayoutView",
            "align_content": null,
            "align_items": null,
            "align_self": null,
            "border": null,
            "bottom": null,
            "display": null,
            "flex": null,
            "flex_flow": null,
            "grid_area": null,
            "grid_auto_columns": null,
            "grid_auto_flow": null,
            "grid_auto_rows": null,
            "grid_column": null,
            "grid_gap": null,
            "grid_row": null,
            "grid_template_areas": null,
            "grid_template_columns": null,
            "grid_template_rows": null,
            "height": null,
            "justify_content": null,
            "justify_items": null,
            "left": null,
            "margin": null,
            "max_height": null,
            "max_width": null,
            "min_height": null,
            "min_width": null,
            "object_fit": null,
            "object_position": null,
            "order": null,
            "overflow": null,
            "overflow_x": null,
            "overflow_y": null,
            "padding": null,
            "right": null,
            "top": null,
            "visibility": null,
            "width": null
          }
        },
        "bb4e457432b64310bf3221392713f858": {
          "model_module": "@jupyter-widgets/base",
          "model_module_version": "1.2.0",
          "model_name": "LayoutModel",
          "state": {
            "_model_module": "@jupyter-widgets/base",
            "_model_module_version": "1.2.0",
            "_model_name": "LayoutModel",
            "_view_count": null,
            "_view_module": "@jupyter-widgets/base",
            "_view_module_version": "1.2.0",
            "_view_name": "LayoutView",
            "align_content": null,
            "align_items": null,
            "align_self": null,
            "border": null,
            "bottom": null,
            "display": null,
            "flex": null,
            "flex_flow": null,
            "grid_area": null,
            "grid_auto_columns": null,
            "grid_auto_flow": null,
            "grid_auto_rows": null,
            "grid_column": null,
            "grid_gap": null,
            "grid_row": null,
            "grid_template_areas": null,
            "grid_template_columns": null,
            "grid_template_rows": null,
            "height": null,
            "justify_content": null,
            "justify_items": null,
            "left": null,
            "margin": null,
            "max_height": null,
            "max_width": null,
            "min_height": null,
            "min_width": null,
            "object_fit": null,
            "object_position": null,
            "order": null,
            "overflow": null,
            "overflow_x": null,
            "overflow_y": null,
            "padding": null,
            "right": null,
            "top": null,
            "visibility": null,
            "width": null
          }
        },
        "c1711d66ceac4dab926d03eded4a9d6d": {
          "model_module": "@jupyter-widgets/controls",
          "model_module_version": "1.5.0",
          "model_name": "HTMLModel",
          "state": {
            "_dom_classes": [],
            "_model_module": "@jupyter-widgets/controls",
            "_model_module_version": "1.5.0",
            "_model_name": "HTMLModel",
            "_view_count": null,
            "_view_module": "@jupyter-widgets/controls",
            "_view_module_version": "1.5.0",
            "_view_name": "HTMLView",
            "description": "",
            "description_tooltip": null,
            "layout": "IPY_MODEL_f2b2052d8c6a4b9bad81f64773594bd1",
            "placeholder": "​",
            "style": "IPY_MODEL_89e3a2f1791a4e5a975ada2175687721",
            "value": " 50/50 [03:34&lt;00:00,  4.30s/it]"
          }
        },
        "c332f09c82814e398bc5041a0bea7ff9": {
          "model_module": "@jupyter-widgets/controls",
          "model_module_version": "1.5.0",
          "model_name": "HBoxModel",
          "state": {
            "_dom_classes": [],
            "_model_module": "@jupyter-widgets/controls",
            "_model_module_version": "1.5.0",
            "_model_name": "HBoxModel",
            "_view_count": null,
            "_view_module": "@jupyter-widgets/controls",
            "_view_module_version": "1.5.0",
            "_view_name": "HBoxView",
            "box_style": "",
            "children": [
              "IPY_MODEL_32250d2fb45343168a91742c2138cc1e",
              "IPY_MODEL_943f2cf65e104e919cc37b5e2c696ad2",
              "IPY_MODEL_6bf3b6dc82c54baeb35a538ccb723b85"
            ],
            "layout": "IPY_MODEL_1456375061f4432e838dc62a8aa41f5d"
          }
        },
        "c996e44e5c9c48fba14966dfa9135436": {
          "model_module": "@jupyter-widgets/controls",
          "model_module_version": "1.5.0",
          "model_name": "DescriptionStyleModel",
          "state": {
            "_model_module": "@jupyter-widgets/controls",
            "_model_module_version": "1.5.0",
            "_model_name": "DescriptionStyleModel",
            "_view_count": null,
            "_view_module": "@jupyter-widgets/base",
            "_view_module_version": "1.2.0",
            "_view_name": "StyleView",
            "description_width": ""
          }
        },
        "ccb7bd7b1f8847cbb688de801257fa21": {
          "model_module": "@jupyter-widgets/controls",
          "model_module_version": "1.5.0",
          "model_name": "DescriptionStyleModel",
          "state": {
            "_model_module": "@jupyter-widgets/controls",
            "_model_module_version": "1.5.0",
            "_model_name": "DescriptionStyleModel",
            "_view_count": null,
            "_view_module": "@jupyter-widgets/base",
            "_view_module_version": "1.2.0",
            "_view_name": "StyleView",
            "description_width": ""
          }
        },
        "d158b4ec2eeb41389180a955d5bd90ec": {
          "model_module": "@jupyter-widgets/controls",
          "model_module_version": "1.5.0",
          "model_name": "ProgressStyleModel",
          "state": {
            "_model_module": "@jupyter-widgets/controls",
            "_model_module_version": "1.5.0",
            "_model_name": "ProgressStyleModel",
            "_view_count": null,
            "_view_module": "@jupyter-widgets/base",
            "_view_module_version": "1.2.0",
            "_view_name": "StyleView",
            "bar_color": null,
            "description_width": ""
          }
        },
        "d2b991ee31d847fc949481c3db7581fa": {
          "model_module": "@jupyter-widgets/controls",
          "model_module_version": "1.5.0",
          "model_name": "HTMLModel",
          "state": {
            "_dom_classes": [],
            "_model_module": "@jupyter-widgets/controls",
            "_model_module_version": "1.5.0",
            "_model_name": "HTMLModel",
            "_view_count": null,
            "_view_module": "@jupyter-widgets/controls",
            "_view_module_version": "1.5.0",
            "_view_name": "HTMLView",
            "description": "",
            "description_tooltip": null,
            "layout": "IPY_MODEL_2afaed65e7294ccdb8a3c5422125ab70",
            "placeholder": "​",
            "style": "IPY_MODEL_c996e44e5c9c48fba14966dfa9135436",
            "value": "100%"
          }
        },
        "d4a8c33f81c44f69a0721c313dbc9aa5": {
          "model_module": "@jupyter-widgets/base",
          "model_module_version": "1.2.0",
          "model_name": "LayoutModel",
          "state": {
            "_model_module": "@jupyter-widgets/base",
            "_model_module_version": "1.2.0",
            "_model_name": "LayoutModel",
            "_view_count": null,
            "_view_module": "@jupyter-widgets/base",
            "_view_module_version": "1.2.0",
            "_view_name": "LayoutView",
            "align_content": null,
            "align_items": null,
            "align_self": null,
            "border": null,
            "bottom": null,
            "display": null,
            "flex": null,
            "flex_flow": null,
            "grid_area": null,
            "grid_auto_columns": null,
            "grid_auto_flow": null,
            "grid_auto_rows": null,
            "grid_column": null,
            "grid_gap": null,
            "grid_row": null,
            "grid_template_areas": null,
            "grid_template_columns": null,
            "grid_template_rows": null,
            "height": null,
            "justify_content": null,
            "justify_items": null,
            "left": null,
            "margin": null,
            "max_height": null,
            "max_width": null,
            "min_height": null,
            "min_width": null,
            "object_fit": null,
            "object_position": null,
            "order": null,
            "overflow": null,
            "overflow_x": null,
            "overflow_y": null,
            "padding": null,
            "right": null,
            "top": null,
            "visibility": null,
            "width": null
          }
        },
        "d78f2165c40447949550275fd37bfecb": {
          "model_module": "@jupyter-widgets/controls",
          "model_module_version": "1.5.0",
          "model_name": "HTMLModel",
          "state": {
            "_dom_classes": [],
            "_model_module": "@jupyter-widgets/controls",
            "_model_module_version": "1.5.0",
            "_model_name": "HTMLModel",
            "_view_count": null,
            "_view_module": "@jupyter-widgets/controls",
            "_view_module_version": "1.5.0",
            "_view_name": "HTMLView",
            "description": "",
            "description_tooltip": null,
            "layout": "IPY_MODEL_d9f195304e2747b49f3385fe4fed014b",
            "placeholder": "​",
            "style": "IPY_MODEL_03d33fa887234079bcfbc18b3055779f",
            "value": " 50/50 [03:13&lt;00:00,  4.17s/it]"
          }
        },
        "d9f195304e2747b49f3385fe4fed014b": {
          "model_module": "@jupyter-widgets/base",
          "model_module_version": "1.2.0",
          "model_name": "LayoutModel",
          "state": {
            "_model_module": "@jupyter-widgets/base",
            "_model_module_version": "1.2.0",
            "_model_name": "LayoutModel",
            "_view_count": null,
            "_view_module": "@jupyter-widgets/base",
            "_view_module_version": "1.2.0",
            "_view_name": "LayoutView",
            "align_content": null,
            "align_items": null,
            "align_self": null,
            "border": null,
            "bottom": null,
            "display": null,
            "flex": null,
            "flex_flow": null,
            "grid_area": null,
            "grid_auto_columns": null,
            "grid_auto_flow": null,
            "grid_auto_rows": null,
            "grid_column": null,
            "grid_gap": null,
            "grid_row": null,
            "grid_template_areas": null,
            "grid_template_columns": null,
            "grid_template_rows": null,
            "height": null,
            "justify_content": null,
            "justify_items": null,
            "left": null,
            "margin": null,
            "max_height": null,
            "max_width": null,
            "min_height": null,
            "min_width": null,
            "object_fit": null,
            "object_position": null,
            "order": null,
            "overflow": null,
            "overflow_x": null,
            "overflow_y": null,
            "padding": null,
            "right": null,
            "top": null,
            "visibility": null,
            "width": null
          }
        },
        "dff8494a00264ad4aa0df876513db842": {
          "model_module": "@jupyter-widgets/controls",
          "model_module_version": "1.5.0",
          "model_name": "FloatProgressModel",
          "state": {
            "_dom_classes": [],
            "_model_module": "@jupyter-widgets/controls",
            "_model_module_version": "1.5.0",
            "_model_name": "FloatProgressModel",
            "_view_count": null,
            "_view_module": "@jupyter-widgets/controls",
            "_view_module_version": "1.5.0",
            "_view_name": "ProgressView",
            "bar_style": "success",
            "description": "",
            "description_tooltip": null,
            "layout": "IPY_MODEL_6a92a30e11464f8ea346bbdcd28a0f37",
            "max": 50,
            "min": 0,
            "orientation": "horizontal",
            "style": "IPY_MODEL_d158b4ec2eeb41389180a955d5bd90ec",
            "value": 50
          }
        },
        "e1bbaf75fe854a878d3ecd8a459a43ba": {
          "model_module": "@jupyter-widgets/controls",
          "model_module_version": "1.5.0",
          "model_name": "ProgressStyleModel",
          "state": {
            "_model_module": "@jupyter-widgets/controls",
            "_model_module_version": "1.5.0",
            "_model_name": "ProgressStyleModel",
            "_view_count": null,
            "_view_module": "@jupyter-widgets/base",
            "_view_module_version": "1.2.0",
            "_view_name": "StyleView",
            "bar_color": null,
            "description_width": ""
          }
        },
        "e37b34e06d114b0385102939cf498c62": {
          "model_module": "@jupyter-widgets/base",
          "model_module_version": "1.2.0",
          "model_name": "LayoutModel",
          "state": {
            "_model_module": "@jupyter-widgets/base",
            "_model_module_version": "1.2.0",
            "_model_name": "LayoutModel",
            "_view_count": null,
            "_view_module": "@jupyter-widgets/base",
            "_view_module_version": "1.2.0",
            "_view_name": "LayoutView",
            "align_content": null,
            "align_items": null,
            "align_self": null,
            "border": null,
            "bottom": null,
            "display": null,
            "flex": null,
            "flex_flow": null,
            "grid_area": null,
            "grid_auto_columns": null,
            "grid_auto_flow": null,
            "grid_auto_rows": null,
            "grid_column": null,
            "grid_gap": null,
            "grid_row": null,
            "grid_template_areas": null,
            "grid_template_columns": null,
            "grid_template_rows": null,
            "height": null,
            "justify_content": null,
            "justify_items": null,
            "left": null,
            "margin": null,
            "max_height": null,
            "max_width": null,
            "min_height": null,
            "min_width": null,
            "object_fit": null,
            "object_position": null,
            "order": null,
            "overflow": null,
            "overflow_x": null,
            "overflow_y": null,
            "padding": null,
            "right": null,
            "top": null,
            "visibility": null,
            "width": null
          }
        },
        "e663f94634fe46d5b8e1efa6d934e43d": {
          "model_module": "@jupyter-widgets/base",
          "model_module_version": "1.2.0",
          "model_name": "LayoutModel",
          "state": {
            "_model_module": "@jupyter-widgets/base",
            "_model_module_version": "1.2.0",
            "_model_name": "LayoutModel",
            "_view_count": null,
            "_view_module": "@jupyter-widgets/base",
            "_view_module_version": "1.2.0",
            "_view_name": "LayoutView",
            "align_content": null,
            "align_items": null,
            "align_self": null,
            "border": null,
            "bottom": null,
            "display": null,
            "flex": null,
            "flex_flow": null,
            "grid_area": null,
            "grid_auto_columns": null,
            "grid_auto_flow": null,
            "grid_auto_rows": null,
            "grid_column": null,
            "grid_gap": null,
            "grid_row": null,
            "grid_template_areas": null,
            "grid_template_columns": null,
            "grid_template_rows": null,
            "height": null,
            "justify_content": null,
            "justify_items": null,
            "left": null,
            "margin": null,
            "max_height": null,
            "max_width": null,
            "min_height": null,
            "min_width": null,
            "object_fit": null,
            "object_position": null,
            "order": null,
            "overflow": null,
            "overflow_x": null,
            "overflow_y": null,
            "padding": null,
            "right": null,
            "top": null,
            "visibility": null,
            "width": null
          }
        },
        "ee2b9f4cfdca484bb02d139401e6d4b4": {
          "model_module": "@jupyter-widgets/controls",
          "model_module_version": "1.5.0",
          "model_name": "HTMLModel",
          "state": {
            "_dom_classes": [],
            "_model_module": "@jupyter-widgets/controls",
            "_model_module_version": "1.5.0",
            "_model_name": "HTMLModel",
            "_view_count": null,
            "_view_module": "@jupyter-widgets/controls",
            "_view_module_version": "1.5.0",
            "_view_name": "HTMLView",
            "description": "",
            "description_tooltip": null,
            "layout": "IPY_MODEL_1ff0c1d2f3c94b52ad37b64aca1b3934",
            "placeholder": "​",
            "style": "IPY_MODEL_262aa7f575d145bba9da7597aa543524",
            "value": " 50/50 [04:52&lt;00:00,  6.00s/it]"
          }
        },
        "f2b2052d8c6a4b9bad81f64773594bd1": {
          "model_module": "@jupyter-widgets/base",
          "model_module_version": "1.2.0",
          "model_name": "LayoutModel",
          "state": {
            "_model_module": "@jupyter-widgets/base",
            "_model_module_version": "1.2.0",
            "_model_name": "LayoutModel",
            "_view_count": null,
            "_view_module": "@jupyter-widgets/base",
            "_view_module_version": "1.2.0",
            "_view_name": "LayoutView",
            "align_content": null,
            "align_items": null,
            "align_self": null,
            "border": null,
            "bottom": null,
            "display": null,
            "flex": null,
            "flex_flow": null,
            "grid_area": null,
            "grid_auto_columns": null,
            "grid_auto_flow": null,
            "grid_auto_rows": null,
            "grid_column": null,
            "grid_gap": null,
            "grid_row": null,
            "grid_template_areas": null,
            "grid_template_columns": null,
            "grid_template_rows": null,
            "height": null,
            "justify_content": null,
            "justify_items": null,
            "left": null,
            "margin": null,
            "max_height": null,
            "max_width": null,
            "min_height": null,
            "min_width": null,
            "object_fit": null,
            "object_position": null,
            "order": null,
            "overflow": null,
            "overflow_x": null,
            "overflow_y": null,
            "padding": null,
            "right": null,
            "top": null,
            "visibility": null,
            "width": null
          }
        },
        "f4abfee7fae84fc7b203916f8f846c8b": {
          "model_module": "@jupyter-widgets/base",
          "model_module_version": "1.2.0",
          "model_name": "LayoutModel",
          "state": {
            "_model_module": "@jupyter-widgets/base",
            "_model_module_version": "1.2.0",
            "_model_name": "LayoutModel",
            "_view_count": null,
            "_view_module": "@jupyter-widgets/base",
            "_view_module_version": "1.2.0",
            "_view_name": "LayoutView",
            "align_content": null,
            "align_items": null,
            "align_self": null,
            "border": null,
            "bottom": null,
            "display": null,
            "flex": null,
            "flex_flow": null,
            "grid_area": null,
            "grid_auto_columns": null,
            "grid_auto_flow": null,
            "grid_auto_rows": null,
            "grid_column": null,
            "grid_gap": null,
            "grid_row": null,
            "grid_template_areas": null,
            "grid_template_columns": null,
            "grid_template_rows": null,
            "height": null,
            "justify_content": null,
            "justify_items": null,
            "left": null,
            "margin": null,
            "max_height": null,
            "max_width": null,
            "min_height": null,
            "min_width": null,
            "object_fit": null,
            "object_position": null,
            "order": null,
            "overflow": null,
            "overflow_x": null,
            "overflow_y": null,
            "padding": null,
            "right": null,
            "top": null,
            "visibility": null,
            "width": null
          }
        }
      }
    }
  },
  "nbformat": 4,
  "nbformat_minor": 0
}
